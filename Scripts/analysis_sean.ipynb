{
 "cells": [
  {
   "cell_type": "code",
   "execution_count": 61,
   "metadata": {},
   "outputs": [],
   "source": [
    "import pandas as pd\n",
    "import numpy as np\n",
    "import seaborn as sns\n",
    "\n",
    "import os\n",
    "import requests\n",
    "import json\n",
    "import regex as re\n",
    "\n",
    "import lib_sean\n",
    "\n",
    "import datetime\n",
    "\n",
    "pd.set_option('display.float_format', lambda x: '%.2f' % x)"
   ]
  },
  {
   "cell_type": "code",
   "execution_count": 2,
   "metadata": {},
   "outputs": [],
   "source": [
    "#  dir setting\n",
    "root_dir = '\\\\'.join(os.getcwd().split('\\\\')[:-1])\n",
    "data_dir = root_dir + '\\\\' + 'Data\\\\'"
   ]
  },
  {
   "cell_type": "markdown",
   "metadata": {},
   "source": [
    "##### EDA - original set"
   ]
  },
  {
   "cell_type": "code",
   "execution_count": 3,
   "metadata": {},
   "outputs": [],
   "source": [
    "df = pd.read_excel(data_dir + 'property_data.xlsx')\n",
    "df_rev_geocoding = pd.read_excel(data_dir + 'rev_geocoding.xlsx')\n"
   ]
  },
  {
   "cell_type": "code",
   "execution_count": 4,
   "metadata": {},
   "outputs": [
    {
     "name": "stdout",
     "output_type": "stream",
     "text": [
      "(102575, 23)\n"
     ]
    }
   ],
   "source": [
    "df = lib_sean.clean_data(df, df_rev_geocoding)\n",
    "df.rename(columns=lib_sean.col_renamer, inplace=True)\n",
    "print(df.shape)\n"
   ]
  },
  {
   "cell_type": "code",
   "execution_count": 5,
   "metadata": {},
   "outputs": [
    {
     "name": "stdout",
     "output_type": "stream",
     "text": [
      "Index(['id', 'name', 'host_id', 'host_name', 'nyc_borough', 'neighborhood',\n",
      "       'latitude', 'longitude', 'instant_bookable', 'cancellation_policy',\n",
      "       'room_type', 'construction_year', 'price', 'service_fee',\n",
      "       'minimum_nights', 'number_of_reviews', 'last_review',\n",
      "       'reviews_per_month', 'house_rules', 'coordinate', 'full_address',\n",
      "       'zipcode', 'property_name'],\n",
      "      dtype='object')\n"
     ]
    },
    {
     "data": {
      "text/plain": [
       "house_rules            52123\n",
       "minimum_nights           408\n",
       "host_name                406\n",
       "zipcode                  312\n",
       "cancellation_policy       74\n",
       "nyc_borough               24\n",
       "id                         0\n",
       "service_fee                0\n",
       "full_address               0\n",
       "coordinate                 0\n",
       "dtype: int64"
      ]
     },
     "execution_count": 5,
     "metadata": {},
     "output_type": "execute_result"
    }
   ],
   "source": [
    "print(df.columns)\n",
    "df.isna().sum().sort_values(ascending=False)[:10]\n"
   ]
  },
  {
   "cell_type": "code",
   "execution_count": 6,
   "metadata": {},
   "outputs": [
    {
     "data": {
      "text/html": [
       "<div>\n",
       "<style scoped>\n",
       "    .dataframe tbody tr th:only-of-type {\n",
       "        vertical-align: middle;\n",
       "    }\n",
       "\n",
       "    .dataframe tbody tr th {\n",
       "        vertical-align: top;\n",
       "    }\n",
       "\n",
       "    .dataframe thead th {\n",
       "        text-align: right;\n",
       "    }\n",
       "</style>\n",
       "<table border=\"1\" class=\"dataframe\">\n",
       "  <thead>\n",
       "    <tr style=\"text-align: right;\">\n",
       "      <th></th>\n",
       "      <th>avg_price</th>\n",
       "      <th>avg_monthy_review</th>\n",
       "    </tr>\n",
       "    <tr>\n",
       "      <th>neighborhood</th>\n",
       "      <th></th>\n",
       "      <th></th>\n",
       "    </tr>\n",
       "  </thead>\n",
       "  <tbody>\n",
       "    <tr>\n",
       "      <th>Allerton</th>\n",
       "      <td>636.23</td>\n",
       "      <td>2.04</td>\n",
       "    </tr>\n",
       "    <tr>\n",
       "      <th>Arden Heights</th>\n",
       "      <td>804.89</td>\n",
       "      <td>1.65</td>\n",
       "    </tr>\n",
       "    <tr>\n",
       "      <th>Arrochar</th>\n",
       "      <td>625.75</td>\n",
       "      <td>1.33</td>\n",
       "    </tr>\n",
       "    <tr>\n",
       "      <th>Arverne</th>\n",
       "      <td>652.13</td>\n",
       "      <td>1.51</td>\n",
       "    </tr>\n",
       "    <tr>\n",
       "      <th>Astoria</th>\n",
       "      <td>639.00</td>\n",
       "      <td>1.31</td>\n",
       "    </tr>\n",
       "    <tr>\n",
       "      <th>...</th>\n",
       "      <td>...</td>\n",
       "      <td>...</td>\n",
       "    </tr>\n",
       "    <tr>\n",
       "      <th>Windsor Terrace</th>\n",
       "      <td>579.92</td>\n",
       "      <td>1.29</td>\n",
       "    </tr>\n",
       "    <tr>\n",
       "      <th>Woodhaven</th>\n",
       "      <td>630.49</td>\n",
       "      <td>2.03</td>\n",
       "    </tr>\n",
       "    <tr>\n",
       "      <th>Woodlawn</th>\n",
       "      <td>587.14</td>\n",
       "      <td>2.40</td>\n",
       "    </tr>\n",
       "    <tr>\n",
       "      <th>Woodrow</th>\n",
       "      <td>709.33</td>\n",
       "      <td>2.13</td>\n",
       "    </tr>\n",
       "    <tr>\n",
       "      <th>Woodside</th>\n",
       "      <td>634.51</td>\n",
       "      <td>1.25</td>\n",
       "    </tr>\n",
       "  </tbody>\n",
       "</table>\n",
       "<p>224 rows × 2 columns</p>\n",
       "</div>"
      ],
      "text/plain": [
       "                 avg_price  avg_monthy_review\n",
       "neighborhood                                 \n",
       "Allerton            636.23               2.04\n",
       "Arden Heights       804.89               1.65\n",
       "Arrochar            625.75               1.33\n",
       "Arverne             652.13               1.51\n",
       "Astoria             639.00               1.31\n",
       "...                    ...                ...\n",
       "Windsor Terrace     579.92               1.29\n",
       "Woodhaven           630.49               2.03\n",
       "Woodlawn            587.14               2.40\n",
       "Woodrow             709.33               2.13\n",
       "Woodside            634.51               1.25\n",
       "\n",
       "[224 rows x 2 columns]"
      ]
     },
     "execution_count": 6,
     "metadata": {},
     "output_type": "execute_result"
    }
   ],
   "source": [
    "df_by_neighbor = df.groupby(by=['neighborhood']).agg(\n",
    "    avg_price=pd.NamedAgg(column='price', aggfunc='mean'),\n",
    "    avg_monthy_review=pd.NamedAgg(column='reviews_per_month', aggfunc='mean')\n",
    ")\n",
    "df_by_neighbor\n"
   ]
  },
  {
   "cell_type": "markdown",
   "metadata": {},
   "source": [
    "- appeared that there is no relationship between rental price and monthly review, probably owing to the unwillingness of customers to give review.\n",
    "- As a result, the review data is sparse and therefore invalid for drawing statistical conclusions"
   ]
  },
  {
   "cell_type": "code",
   "execution_count": 7,
   "metadata": {},
   "outputs": [
    {
     "name": "stdout",
     "output_type": "stream",
     "text": [
      "count    224.00\n",
      "mean     622.51\n",
      "std       96.31\n",
      "min      107.67\n",
      "25%      593.00\n",
      "50%      626.86\n",
      "75%      652.32\n",
      "max     1045.00\n",
      "Name: avg_price, dtype: float64\n"
     ]
    },
    {
     "data": {
      "image/png": "[encoded data removed]",
      "text/plain": [
       "<Figure size 640x480 with 1 Axes>"
      ]
     },
     "metadata": {},
     "output_type": "display_data"
    }
   ],
   "source": [
    "df_by_neighbor.avg_price.plot(kind='box')\n",
    "print(df_by_neighbor.avg_price.describe())\n"
   ]
  },
  {
   "cell_type": "markdown",
   "metadata": {},
   "source": [
    "- It can be concluded from the box plot that the rental price features low variance and is roughly of normal distribution. That way, average price could be a good index for pricing."
   ]
  },
  {
   "cell_type": "code",
   "execution_count": 8,
   "metadata": {},
   "outputs": [
    {
     "data": {
      "text/plain": [
       "neighborhood\n",
       "New Dorp                 1045.00\n",
       "Chelsea, Staten Island   1042.00\n",
       "Fort Wadsworth           1024.00\n",
       "Little Neck               817.75\n",
       "Jamaica Hills             812.90\n",
       "Arden Heights             804.89\n",
       "Midland Beach             796.18\n",
       "Shore Acres               792.26\n",
       "Mill Basin                775.14\n",
       "Riverdale                 768.74\n",
       "Name: avg_price, dtype: float64"
      ]
     },
     "execution_count": 8,
     "metadata": {},
     "output_type": "execute_result"
    }
   ],
   "source": [
    "df_by_neighbor.avg_price.sort_values(ascending=False)[:10]\n"
   ]
  },
  {
   "cell_type": "code",
   "execution_count": 9,
   "metadata": {},
   "outputs": [
    {
     "data": {
      "text/plain": [
       "neighborhood\n",
       "Astoria              639.00\n",
       "Washington Heights   602.20\n",
       "Park Slope           607.81\n",
       "Long Island City     647.36\n",
       "Williamsburg         625.54\n",
       "Name: avg_price, dtype: float64"
      ]
     },
     "execution_count": 9,
     "metadata": {},
     "output_type": "execute_result"
    }
   ],
   "source": [
    "# neighborhoods where working people dwell in -- according to GPT\n",
    "df_by_neighbor.avg_price.sort_values(ascending=False)[\n",
    "    ['Astoria', 'Washington Heights', 'Park Slope', 'Long Island City', 'Williamsburg']]\n"
   ]
  },
  {
   "cell_type": "code",
   "execution_count": 10,
   "metadata": {},
   "outputs": [],
   "source": [
    "# export cleaned dataset\n",
    "#df.to_csv(data_dir + 'property_data_cleaned.csv')\n"
   ]
  },
  {
   "cell_type": "markdown",
   "metadata": {},
   "source": [
    "##### EDA - Inside Airbnb NYC Listings\n",
    "- take a look at the relationship between monthly price and daily price"
   ]
  },
  {
   "cell_type": "code",
   "execution_count": 11,
   "metadata": {},
   "outputs": [
    {
     "name": "stderr",
     "output_type": "stream",
     "text": [
      "C:\\Users\\Chaconne\\AppData\\Local\\Temp\\ipykernel_33552\\610332070.py:1: DtypeWarning: Columns (17) have mixed types. Specify dtype option on import or set low_memory=False.\n",
      "  df_ia = pd.read_csv(data_dir + 'Obsolute/listings.csv')\n"
     ]
    },
    {
     "data": {
      "text/plain": [
       "(42931, 18)"
      ]
     },
     "execution_count": 11,
     "metadata": {},
     "output_type": "execute_result"
    }
   ],
   "source": [
    "df_ia = pd.read_csv(data_dir + 'Obsolute/listings.csv')\n",
    "df_ia.rename(columns=lib_sean.col_renamer, inplace=True)\n",
    "df_ia.shape\n"
   ]
  },
  {
   "cell_type": "code",
   "execution_count": 12,
   "metadata": {},
   "outputs": [
    {
     "data": {
      "text/plain": [
       "Index(['id', 'name', 'host_id', 'host_name', 'neighbourhood_group',\n",
       "       'neighbourhood', 'latitude', 'longitude', 'room_type', 'price',\n",
       "       'minimum_nights', 'number_of_reviews', 'last_review',\n",
       "       'reviews_per_month', 'calculated_host_listings_count',\n",
       "       'availability_365', 'number_of_reviews_ltm', 'license'],\n",
       "      dtype='object')"
      ]
     },
     "execution_count": 12,
     "metadata": {},
     "output_type": "execute_result"
    }
   ],
   "source": [
    "df_ia.columns\n"
   ]
  },
  {
   "cell_type": "markdown",
   "metadata": {},
   "source": [
    "##### EDA - Geographical set\n",
    "- tour site data\n",
    "    - looks good\n",
    "    - can perform geographical analysis and visualization using this dataset"
   ]
  },
  {
   "cell_type": "code",
   "execution_count": 13,
   "metadata": {},
   "outputs": [
    {
     "name": "stderr",
     "output_type": "stream",
     "text": [
      "C:\\Users\\Chaconne\\AppData\\Roaming\\Python\\Python310\\site-packages\\openpyxl\\worksheet\\_reader.py:312: UserWarning: Unknown extension is not supported and will be removed\n",
      "  warn(msg)\n"
     ]
    }
   ],
   "source": [
    "df_tour_site = pd.read_excel(data_dir + 'New_York_Tourist_Locations.xlsx')\n"
   ]
  },
  {
   "cell_type": "code",
   "execution_count": 14,
   "metadata": {},
   "outputs": [
    {
     "data": {
      "text/html": [
       "<div>\n",
       "<style scoped>\n",
       "    .dataframe tbody tr th:only-of-type {\n",
       "        vertical-align: middle;\n",
       "    }\n",
       "\n",
       "    .dataframe tbody tr th {\n",
       "        vertical-align: top;\n",
       "    }\n",
       "\n",
       "    .dataframe thead th {\n",
       "        text-align: right;\n",
       "    }\n",
       "</style>\n",
       "<table border=\"1\" class=\"dataframe\">\n",
       "  <thead>\n",
       "    <tr style=\"text-align: right;\">\n",
       "      <th></th>\n",
       "      <th>Tourist_Spot</th>\n",
       "      <th>Address</th>\n",
       "      <th>Zipcode</th>\n",
       "    </tr>\n",
       "  </thead>\n",
       "  <tbody>\n",
       "    <tr>\n",
       "      <th>0</th>\n",
       "      <td>47th Street - The Diamond District</td>\n",
       "      <td>47th St. betw. Fifth &amp; Sixth Aves. Manhattan, ...</td>\n",
       "      <td>10036</td>\n",
       "    </tr>\n",
       "    <tr>\n",
       "      <th>1</th>\n",
       "      <td>9/11 Memorial &amp; Museum</td>\n",
       "      <td>World Trade Center (museum: 180 Greenwich St.)...</td>\n",
       "      <td>10007</td>\n",
       "    </tr>\n",
       "    <tr>\n",
       "      <th>2</th>\n",
       "      <td>Abyssinian Baptist Church</td>\n",
       "      <td>132 Odell Clark Place New York, NY 10030, Harlem</td>\n",
       "      <td>10030</td>\n",
       "    </tr>\n",
       "    <tr>\n",
       "      <th>3</th>\n",
       "      <td>Alice Austen House Museum</td>\n",
       "      <td>2 Hylan Blvd. Staten Island, NY 10305, Staten ...</td>\n",
       "      <td>10305</td>\n",
       "    </tr>\n",
       "    <tr>\n",
       "      <th>4</th>\n",
       "      <td>Alice Tully Hall</td>\n",
       "      <td>1941 Broadway Manhattan, NY 10023, Upper West ...</td>\n",
       "      <td>10023</td>\n",
       "    </tr>\n",
       "  </tbody>\n",
       "</table>\n",
       "</div>"
      ],
      "text/plain": [
       "                         Tourist_Spot  \\\n",
       "0  47th Street - The Diamond District   \n",
       "1              9/11 Memorial & Museum   \n",
       "2           Abyssinian Baptist Church   \n",
       "3           Alice Austen House Museum   \n",
       "4                    Alice Tully Hall   \n",
       "\n",
       "                                             Address Zipcode  \n",
       "0  47th St. betw. Fifth & Sixth Aves. Manhattan, ...   10036  \n",
       "1  World Trade Center (museum: 180 Greenwich St.)...   10007  \n",
       "2   132 Odell Clark Place New York, NY 10030, Harlem   10030  \n",
       "3  2 Hylan Blvd. Staten Island, NY 10305, Staten ...   10305  \n",
       "4  1941 Broadway Manhattan, NY 10023, Upper West ...   10023  "
      ]
     },
     "execution_count": 14,
     "metadata": {},
     "output_type": "execute_result"
    }
   ],
   "source": [
    "df_tour_site.head(5)\n"
   ]
  },
  {
   "cell_type": "markdown",
   "metadata": {},
   "source": [
    "##### EDA - DOF Summary of Neighborhood Sales by Neighborhood Citywide by Borough\n",
    "    - Records sales of homes\n",
    "    - rows are kind of few\n",
    "    - many rows are out dated (records from around 10 years ago)\n",
    "    - most recent records were from 2021. The dataset appears obsolute"
   ]
  },
  {
   "cell_type": "code",
   "execution_count": 15,
   "metadata": {},
   "outputs": [],
   "source": [
    "df_cny_sale = pd.read_csv(\n",
    "    data_dir + 'DOF__Summary_of_Neighborhood_Sales_by_Neighborhood_Citywide_by_Borough.csv')\n"
   ]
  },
  {
   "cell_type": "code",
   "execution_count": 16,
   "metadata": {},
   "outputs": [
    {
     "data": {
      "text/plain": [
       "(7180, 9)"
      ]
     },
     "execution_count": 16,
     "metadata": {},
     "output_type": "execute_result"
    }
   ],
   "source": [
    "df_cny_sale.shape\n"
   ]
  },
  {
   "cell_type": "code",
   "execution_count": 17,
   "metadata": {},
   "outputs": [
    {
     "data": {
      "text/plain": [
       "Index(['BOROUGH', 'NEIGHBORHOOD', 'TYPE OF HOME', 'NUMBER OF SALES',\n",
       "       'LOWEST SALE PRICE', 'AVERAGE SALE PRICE', 'MEDIAN SALE PRICE',\n",
       "       'HIGHEST SALE PRICE', 'YEAR'],\n",
       "      dtype='object')"
      ]
     },
     "execution_count": 17,
     "metadata": {},
     "output_type": "execute_result"
    }
   ],
   "source": [
    "df_cny_sale.columns\n"
   ]
  },
  {
   "cell_type": "code",
   "execution_count": 18,
   "metadata": {},
   "outputs": [
    {
     "data": {
      "text/plain": [
       "SUNNYSIDE                   67\n",
       "BOERUM HILL                 36\n",
       "CLINTON HILL                36\n",
       "FLATBUSH-NORTH              36\n",
       "FLATBUSH-LEFFERTS GARDEN    36\n",
       "Name: NEIGHBORHOOD, dtype: int64"
      ]
     },
     "execution_count": 18,
     "metadata": {},
     "output_type": "execute_result"
    }
   ],
   "source": [
    "df_cny_sale.NEIGHBORHOOD.value_counts()[:5]\n"
   ]
  },
  {
   "cell_type": "code",
   "execution_count": 19,
   "metadata": {},
   "outputs": [
    {
     "data": {
      "text/plain": [
       "2021    615\n",
       "2013    611\n",
       "2015    607\n",
       "2014    605\n",
       "2016    604\n",
       "2018    602\n",
       "2019    598\n",
       "2017    594\n",
       "2012    592\n",
       "2010    587\n",
       "2020    586\n",
       "2011    579\n",
       "Name: YEAR, dtype: int64"
      ]
     },
     "execution_count": 19,
     "metadata": {},
     "output_type": "execute_result"
    }
   ],
   "source": [
    "df_cny_sale.YEAR.value_counts()\n"
   ]
  },
  {
   "cell_type": "markdown",
   "metadata": {},
   "source": [
    "##### EDA - Dataset: nyc property assessment data\n",
    "    - comprehensive and with sufficient rows.\n",
    "    - some columns' meaning are not yet understood."
   ]
  },
  {
   "cell_type": "code",
   "execution_count": 20,
   "metadata": {},
   "outputs": [
    {
     "name": "stderr",
     "output_type": "stream",
     "text": [
      "C:\\Users\\Chaconne\\AppData\\Local\\Temp\\ipykernel_33552\\1063153676.py:1: DtypeWarning: Columns (1,5,6,9,10,23,34,67,71,74,75,76,88,93,100,101,105,109,111,133) have mixed types. Specify dtype option on import or set low_memory=False.\n",
      "  df_assess_2023 = pd.read_csv(\n"
     ]
    }
   ],
   "source": [
    "df_assess_2023 = pd.read_csv(\n",
    "    data_dir + 'nyc_property_assessment_data_2023.csv').drop(columns='Unnamed: 0')\n"
   ]
  },
  {
   "cell_type": "code",
   "execution_count": 21,
   "metadata": {},
   "outputs": [
    {
     "data": {
      "text/plain": [
       "(1155828, 139)"
      ]
     },
     "execution_count": 21,
     "metadata": {},
     "output_type": "execute_result"
    }
   ],
   "source": [
    "df_assess_2023.shape\n"
   ]
  },
  {
   "cell_type": "code",
   "execution_count": 22,
   "metadata": {},
   "outputs": [
    {
     "data": {
      "text/plain": [
       "Index(['PARID', 'BORO', 'BLOCK', 'LOT', 'EASEMENT', 'SUBIDENT-REUC', 'RECTYPE',\n",
       "       'YEAR', 'IDENT', 'SUBIDENT',\n",
       "       ...\n",
       "       'STORAGE_AREA_GROSS', 'GARAGE_AREA', 'OTHER_AREA_GROSS',\n",
       "       'REUC_DESCRIPTION', 'EXTRACRDT', 'PYTAXFLAG', 'TENTAXFLAG',\n",
       "       'CBNTAXFLAG', 'FINTAXFLAG', 'CURTAXFLAG'],\n",
       "      dtype='object', length=139)"
      ]
     },
     "execution_count": 22,
     "metadata": {},
     "output_type": "execute_result"
    }
   ],
   "source": [
    "df_assess_2023.columns\n"
   ]
  },
  {
   "cell_type": "code",
   "execution_count": 23,
   "metadata": {},
   "outputs": [
    {
     "data": {
      "text/plain": [
       "2.00      537526\n",
       "3.00      147660\n",
       "0.00      119508\n",
       "1.00       89363\n",
       "4.00       46244\n",
       "           ...  \n",
       "1.15           1\n",
       "13.50          1\n",
       "102.00         1\n",
       "706.00         1\n",
       "114.00         1\n",
       "Name: BLD_STORY, Length: 136, dtype: int64"
      ]
     },
     "execution_count": 23,
     "metadata": {},
     "output_type": "execute_result"
    }
   ],
   "source": [
    "df_assess_2023.BLD_STORY.value_counts()\n"
   ]
  },
  {
   "cell_type": "markdown",
   "metadata": {},
   "source": [
    "##### EDA - Borough-wise sales data from https://www.nyc.gov/site/finance/taxes/property-rolling-sales-data.page"
   ]
  },
  {
   "cell_type": "code",
   "execution_count": 24,
   "metadata": {},
   "outputs": [],
   "source": [
    "df_bkl = pd.read_excel(data_dir + 'rollingsales_brooklyn.xlsx')\n",
    "df_brn = pd.read_excel(data_dir + 'rollingsales_bronx.xlsx')\n",
    "df_mht = pd.read_excel(data_dir + 'rollingsales_manhattan.xlsx')\n",
    "df_qns = pd.read_excel(data_dir + 'rollingsales_queens.xlsx')\n",
    "df_sti = pd.read_excel(data_dir + 'rollingsales_statenisland.xlsx')\n",
    "\n",
    "df_list = [df_bkl, df_brn, df_mht, df_qns, df_sti]\n",
    "\n",
    "df_rs = pd.concat(df_list)\n"
   ]
  },
  {
   "cell_type": "code",
   "execution_count": 25,
   "metadata": {},
   "outputs": [
    {
     "data": {
      "text/plain": [
       "(84391, 21)"
      ]
     },
     "execution_count": 25,
     "metadata": {},
     "output_type": "execute_result"
    }
   ],
   "source": [
    "df_rs.shape\n"
   ]
  },
  {
   "cell_type": "code",
   "execution_count": 26,
   "metadata": {},
   "outputs": [
    {
     "data": {
      "text/plain": [
       "True"
      ]
     },
     "execution_count": 26,
     "metadata": {},
     "output_type": "execute_result"
    }
   ],
   "source": [
    "# check if concat is performed correctly\n",
    "col_same = True\n",
    "comparer = df_list[0]\n",
    "for i in range(1, 5):\n",
    "    col_same = col_same and all(comparer.columns == df_list[i].columns)\n",
    "col_same\n"
   ]
  },
  {
   "cell_type": "code",
   "execution_count": 27,
   "metadata": {},
   "outputs": [
    {
     "data": {
      "text/plain": [
       "Index(['borough', 'neighborhood', 'building_class_category',\n",
       "       'tax_class_at_present', 'block', 'lot', 'easement',\n",
       "       'building_class_at_present', 'address', 'apartment_number', 'zip_code',\n",
       "       'residential_units', 'commercial_units', 'total_units',\n",
       "       'land_square_feet', 'gross_square_feet', 'year_built',\n",
       "       'tax_class_at_time_of_sale', 'building_class_at_time_of_sale',\n",
       "       'sale_price', 'sale_date'],\n",
       "      dtype='object')"
      ]
     },
     "execution_count": 27,
     "metadata": {},
     "output_type": "execute_result"
    }
   ],
   "source": [
    "df_rs.rename(columns=lib_sean.col_renamer, inplace=True)\n",
    "df_rs.columns\n"
   ]
  },
  {
   "cell_type": "markdown",
   "metadata": {},
   "source": [
    "- the data contains sales of differet building categories. \n",
    "- Should drop categories that are not for rental business. For example, warehouse and office buildings.\n",
    "- Should enlarge the granularity of the factors, i.e., to merge levels that refer to similar building types."
   ]
  },
  {
   "cell_type": "code",
   "execution_count": 28,
   "metadata": {},
   "outputs": [
    {
     "data": {
      "text/plain": [
       "01 ONE FAMILY DWELLINGS                       17173\n",
       "02 TWO FAMILY DWELLINGS                       14993\n",
       "13 CONDOS - ELEVATOR APARTMENTS               14382\n",
       "10 COOPS - ELEVATOR APARTMENTS                14265\n",
       "03 THREE FAMILY DWELLINGS                      4226\n",
       "07 RENTALS - WALKUP APARTMENTS                 3004\n",
       "09 COOPS - WALKUP APARTMENTS                   2778\n",
       "15 CONDOS - 2-10 UNIT RESIDENTIAL              1604\n",
       "04 TAX CLASS 1 CONDOS                          1543\n",
       "44 CONDO PARKING                               1489\n",
       "17 CONDO COOPS                                 1331\n",
       "12 CONDOS - WALKUP APARTMENTS                   979\n",
       "05 TAX CLASS 1 VACANT LAND                      931\n",
       "22 STORE BUILDINGS                              790\n",
       "14 RENTALS - 4-10 UNIT                          640\n",
       "08 RENTALS - ELEVATOR APARTMENTS                505\n",
       "47 CONDO NON-BUSINESS STORAGE                   465\n",
       "29 COMMERCIAL GARAGES                           463\n",
       "43 CONDO OFFICE BUILDINGS                       340\n",
       "11 SPECIAL CONDO BILLING LOTS                   331\n",
       "21 OFFICE BUILDINGS                             300\n",
       "30 WAREHOUSES                                   284\n",
       "31 COMMERCIAL VACANT LAND                       257\n",
       "27 FACTORIES                                    187\n",
       "46 CONDO STORE BUILDINGS                        153\n",
       "06 TAX CLASS 1 - OTHER                          138\n",
       "16 CONDOS - 2-10 UNIT WITH COMMERCIAL UNIT      130\n",
       "28 COMMERCIAL CONDOS                            129\n",
       "41 TAX CLASS 4 - OTHER                          121\n",
       "37 RELIGIOUS FACILITIES                          88\n",
       "45 CONDO HOTELS                                  71\n",
       "26 OTHER HOTELS                                  58\n",
       "33 EDUCATIONAL FACILITIES                        39\n",
       "48 CONDO TERRACES/GARDENS/CABANAS                38\n",
       "49 CONDO WAREHOUSES/FACTORY/INDUS                32\n",
       "32 HOSPITAL AND HEALTH FACILITIES                27\n",
       "36 OUTDOOR RECREATIONAL FACILITIES               26\n",
       "35 INDOOR PUBLIC AND CULTURAL FACILITIES         25\n",
       "38 ASYLUMS AND HOMES                             17\n",
       "42 CONDO CULTURAL/MEDICAL/EDUCATIONAL/ETC        16\n",
       "25 LUXURY HOTELS                                 13\n",
       "34 THEATRES                                       6\n",
       "39 TRANSPORTATION FACILITIES                      2\n",
       "40 SELECTED GOVERNMENTAL FACILITIES               2\n",
       "Name: building_class_category, dtype: int64"
      ]
     },
     "execution_count": 28,
     "metadata": {},
     "output_type": "execute_result"
    }
   ],
   "source": [
    "df_rs.building_class_category.value_counts()\n"
   ]
  },
  {
   "cell_type": "code",
   "execution_count": 29,
   "metadata": {},
   "outputs": [
    {
     "data": {
      "text/plain": [
       "['01 ONE FAMILY DWELLINGS',\n",
       " '02 TWO FAMILY DWELLINGS',\n",
       " '03 THREE FAMILY DWELLINGS',\n",
       " '04 TAX CLASS 1 CONDOS',\n",
       " '06 TAX CLASS 1 - OTHER',\n",
       " '07 RENTALS - WALKUP APARTMENTS',\n",
       " '08 RENTALS - ELEVATOR APARTMENTS',\n",
       " '09 COOPS - WALKUP APARTMENTS',\n",
       " '10 COOPS - ELEVATOR APARTMENTS',\n",
       " '11 SPECIAL CONDO BILLING LOTS',\n",
       " '12 CONDOS - WALKUP APARTMENTS',\n",
       " '13 CONDOS - ELEVATOR APARTMENTS',\n",
       " '14 RENTALS - 4-10 UNIT',\n",
       " '15 CONDOS - 2-10 UNIT RESIDENTIAL',\n",
       " '17 CONDO COOPS',\n",
       " '25 LUXURY HOTELS',\n",
       " '26 OTHER HOTELS',\n",
       " '41 TAX CLASS 4 - OTHER',\n",
       " '42 CONDO CULTURAL/MEDICAL/EDUCATIONAL/ETC',\n",
       " '45 CONDO HOTELS',\n",
       " '47 CONDO NON-BUSINESS STORAGE',\n",
       " '48 CONDO TERRACES/GARDENS/CABANAS']"
      ]
     },
     "execution_count": 29,
     "metadata": {},
     "output_type": "execute_result"
    }
   ],
   "source": [
    "def is_non_commercial_building_category(category: str) -> bool:\n",
    "    \"\"\"\n",
    "    assert if the building category is non commercial\n",
    "    \"\"\"\n",
    "\n",
    "    pat_commercial = r'LAND|WAREHOUSE|THEATRES|TRANSPORTATION|GOVERNMENTAL|STORE|FACTORIES|OFFICE|COMMERCIAL|PARKING|RELIGIOUS|ASYLUMS|FACILITIES'\n",
    "\n",
    "    non_commercial = not re.search(pattern=pat_commercial, string=category)\n",
    "    return non_commercial\n",
    "\n",
    "\n",
    "filter_noncom_building_cate = filter(\n",
    "    is_non_commercial_building_category, np.unique(df_rs.building_class_category.values))\n",
    "# list that contains all the non commercial building categories\n",
    "noncom_building_cate = list(filter_noncom_building_cate)\n",
    "noncom_building_cate\n"
   ]
  },
  {
   "cell_type": "code",
   "execution_count": 30,
   "metadata": {},
   "outputs": [
    {
     "data": {
      "text/plain": [
       "(78674, 21)"
      ]
     },
     "execution_count": 30,
     "metadata": {},
     "output_type": "execute_result"
    }
   ],
   "source": [
    "# filter out records of commercial buildings\n",
    "df_rs = df_rs.loc[df_rs.building_class_category.map(\n",
    "    lambda v: v in noncom_building_cate), :]\n",
    "df_rs.shape\n"
   ]
  },
  {
   "cell_type": "code",
   "execution_count": 31,
   "metadata": {},
   "outputs": [
    {
     "data": {
      "text/plain": [
       "DWELLINGS     36392\n",
       "APARTMENTS    20552\n",
       "CONDOS        18508\n",
       "OTHER          3222\n",
       "Name: building_class_category, dtype: int64"
      ]
     },
     "execution_count": 31,
     "metadata": {},
     "output_type": "execute_result"
    }
   ],
   "source": [
    "def merge_building_category(bc: str) -> str:\n",
    "    \"\"\"\n",
    "    merge building categories of similar interest into one\n",
    "    \"\"\"\n",
    "\n",
    "    pat_dwell = r'DWELLINGS'\n",
    "    pat_cond = r'CONDOS'\n",
    "    pat_apt = r'APARTMENTS'\n",
    "\n",
    "    is_dwell = re.search(pattern=pat_dwell, string=bc)\n",
    "    if is_dwell:\n",
    "        return pat_dwell\n",
    "\n",
    "    is_cond = re.search(pattern=pat_cond, string=bc)\n",
    "    if is_cond:\n",
    "        return pat_cond\n",
    "\n",
    "    is_apt = re.search(pattern=pat_apt, string=bc)\n",
    "    if is_apt:\n",
    "        return pat_apt\n",
    "\n",
    "    return 'OTHER'\n",
    "\n",
    "\n",
    "# merge building categories of similar features into one\n",
    "df_rs.building_class_category = df_rs.building_class_category.map(\n",
    "    merge_building_category)\n",
    "df_rs.building_class_category.value_counts()\n"
   ]
  },
  {
   "cell_type": "markdown",
   "metadata": {},
   "source": [
    "- There are recoreds with zero sale price which should be dropped.\n",
    "- has no clue of imputation"
   ]
  },
  {
   "cell_type": "code",
   "execution_count": 32,
   "metadata": {},
   "outputs": [
    {
     "data": {
      "text/plain": [
       "0         22135\n",
       "10          728\n",
       "650000      470\n",
       "750000      450\n",
       "800000      425\n",
       "Name: sale_price, dtype: int64"
      ]
     },
     "execution_count": 32,
     "metadata": {},
     "output_type": "execute_result"
    }
   ],
   "source": [
    "df_rs.sale_price.value_counts()[:5]\n"
   ]
  },
  {
   "cell_type": "code",
   "execution_count": 33,
   "metadata": {},
   "outputs": [
    {
     "name": "stdout",
     "output_type": "stream",
     "text": [
      "(56539, 21)\n"
     ]
    },
    {
     "data": {
      "text/plain": [
       "dtype('int64')"
      ]
     },
     "execution_count": 33,
     "metadata": {},
     "output_type": "execute_result"
    }
   ],
   "source": [
    "df_rs = df_rs[df_rs.sale_price != 0]\n",
    "print(df_rs.shape)\n",
    "df_rs.sale_price.dtype\n"
   ]
  },
  {
   "cell_type": "code",
   "execution_count": 34,
   "metadata": {},
   "outputs": [
    {
     "data": {
      "text/html": [
       "<div>\n",
       "<style scoped>\n",
       "    .dataframe tbody tr th:only-of-type {\n",
       "        vertical-align: middle;\n",
       "    }\n",
       "\n",
       "    .dataframe tbody tr th {\n",
       "        vertical-align: top;\n",
       "    }\n",
       "\n",
       "    .dataframe thead th {\n",
       "        text-align: right;\n",
       "    }\n",
       "</style>\n",
       "<table border=\"1\" class=\"dataframe\">\n",
       "  <thead>\n",
       "    <tr style=\"text-align: right;\">\n",
       "      <th></th>\n",
       "      <th></th>\n",
       "      <th>avg_sale_price</th>\n",
       "    </tr>\n",
       "    <tr>\n",
       "      <th>neighborhood</th>\n",
       "      <th>building_class_category</th>\n",
       "      <th></th>\n",
       "    </tr>\n",
       "  </thead>\n",
       "  <tbody>\n",
       "    <tr>\n",
       "      <th rowspan=\"2\" valign=\"top\">AIRPORT LA GUARDIA</th>\n",
       "      <th>CONDOS</th>\n",
       "      <td>455000.00</td>\n",
       "    </tr>\n",
       "    <tr>\n",
       "      <th>DWELLINGS</th>\n",
       "      <td>836398.33</td>\n",
       "    </tr>\n",
       "    <tr>\n",
       "      <th rowspan=\"3\" valign=\"top\">ALPHABET CITY</th>\n",
       "      <th>APARTMENTS</th>\n",
       "      <td>2873755.54</td>\n",
       "    </tr>\n",
       "    <tr>\n",
       "      <th>CONDOS</th>\n",
       "      <td>1361257.00</td>\n",
       "    </tr>\n",
       "    <tr>\n",
       "      <th>DWELLINGS</th>\n",
       "      <td>1133000.00</td>\n",
       "    </tr>\n",
       "    <tr>\n",
       "      <th>...</th>\n",
       "      <th>...</th>\n",
       "      <td>...</td>\n",
       "    </tr>\n",
       "    <tr>\n",
       "      <th>WOODSIDE</th>\n",
       "      <th>OTHER</th>\n",
       "      <td>1491000.00</td>\n",
       "    </tr>\n",
       "    <tr>\n",
       "      <th rowspan=\"4\" valign=\"top\">WYCKOFF HEIGHTS</th>\n",
       "      <th>APARTMENTS</th>\n",
       "      <td>1062518.52</td>\n",
       "    </tr>\n",
       "    <tr>\n",
       "      <th>CONDOS</th>\n",
       "      <td>762432.32</td>\n",
       "    </tr>\n",
       "    <tr>\n",
       "      <th>DWELLINGS</th>\n",
       "      <td>1327256.78</td>\n",
       "    </tr>\n",
       "    <tr>\n",
       "      <th>OTHER</th>\n",
       "      <td>1516286.17</td>\n",
       "    </tr>\n",
       "  </tbody>\n",
       "</table>\n",
       "<p>779 rows × 1 columns</p>\n",
       "</div>"
      ],
      "text/plain": [
       "                                            avg_sale_price\n",
       "neighborhood       building_class_category                \n",
       "AIRPORT LA GUARDIA CONDOS                        455000.00\n",
       "                   DWELLINGS                     836398.33\n",
       "ALPHABET CITY      APARTMENTS                   2873755.54\n",
       "                   CONDOS                       1361257.00\n",
       "                   DWELLINGS                    1133000.00\n",
       "...                                                    ...\n",
       "WOODSIDE           OTHER                        1491000.00\n",
       "WYCKOFF HEIGHTS    APARTMENTS                   1062518.52\n",
       "                   CONDOS                        762432.32\n",
       "                   DWELLINGS                    1327256.78\n",
       "                   OTHER                        1516286.17\n",
       "\n",
       "[779 rows x 1 columns]"
      ]
     },
     "execution_count": 34,
     "metadata": {},
     "output_type": "execute_result"
    }
   ],
   "source": [
    "df_rs.groupby(by=['neighborhood', 'building_class_category']).agg(\n",
    "    # column records the time frame of observed sales\n",
    "    #time_range = pd.NamedAgg(column='sale_date', aggfunc= lambda col: (col.min(), col.max())),\n",
    "\n",
    "    avg_sale_price=pd.NamedAgg(column='sale_price', aggfunc='mean'),\n",
    ")"
   ]
  },
  {
   "cell_type": "markdown",
   "metadata": {},
   "source": [
    "- export cleaned rolling sales dataset"
   ]
  },
  {
   "cell_type": "code",
   "execution_count": 35,
   "metadata": {},
   "outputs": [],
   "source": [
    "#df_rs.to_csv(data_dir + 'nyc_rolling_sales_merged.csv', index=False)"
   ]
  },
  {
   "cell_type": "markdown",
   "metadata": {},
   "source": [
    "##### EDA - condo rental income from https://data.cityofnewyork.us/City-Government/DOF-Cooperative-Comparable-Rental-Income-Citywide-/myei-c3fa\n",
    "- this dataset provides info regarding the rental income of rental properties in NYC\n",
    "- could be used for forecasting future rental income\n",
    "- also note that NOI (net operating income) is the most commonly used metric for evaluating rental property profitability\n",
    "- first of all, drop rows having no neighborhood values"
   ]
  },
  {
   "cell_type": "code",
   "execution_count": 170,
   "metadata": {},
   "outputs": [
    {
     "name": "stdout",
     "output_type": "stream",
     "text": [
      "(28505, 66)\n"
     ]
    }
   ],
   "source": [
    "df_rental_income = pd.read_csv(\n",
    "    data_dir + 'DOF_Condominium_Comparable_Rental_Income_in_NYC_Cleaned.csv', encoding='utf-8')\n",
    "print(df_rental_income.shape)\n",
    "df_rental_income.rename(columns=lib_sean.col_renamer, inplace=True)\n",
    "df_rental_income.dropna(axis=0, subset='neighborhood', how='any', inplace=True)"
   ]
  },
  {
   "cell_type": "code",
   "execution_count": 173,
   "metadata": {},
   "outputs": [
    {
     "name": "stdout",
     "output_type": "stream",
     "text": [
      "0\n"
     ]
    },
    {
     "data": {
      "text/plain": [
       "Index(['unnamed:_0', 'boro_block_lot', 'condo_section', 'address',\n",
       "       'neighborhood', 'building_classification', 'total_units', 'year_built',\n",
       "       'gross_sqft', 'estimated_gross_income', 'gross_income_per_sqft',\n",
       "       'estimated_expense', 'expense_per_sqft', 'net_operating_income',\n",
       "       'full_market_value', 'market_value_per_sqft', 'boro_block_lot_1',\n",
       "       'address_1', 'neighborhood_1', 'building_classification_1',\n",
       "       'total_units_1', 'year_built_1', 'gross_sqft_1',\n",
       "       'estimated_gross_income_1', 'gross_income_per_sqft_1',\n",
       "       'estimated_expense_1', 'expense_per_sqft_1', 'net_operating_income_1',\n",
       "       'full_market_value_1', 'market_value_per_sqft_1',\n",
       "       'distance_from_condo_in_miles', 'boro_block_lot_2', 'address_2',\n",
       "       'neighborhood_2', 'building_classification_2', 'total_units_2',\n",
       "       'year_built_2', 'gross_sqft_2', 'estimated_gross_income_2',\n",
       "       'gross_income_per_sqft_2', 'estimated_expense_2', 'expense_per_sqft_2',\n",
       "       'net_operating_income_2', 'full_market_value_2',\n",
       "       'market_value_per_sqft_2', 'distance_from_condo_in_miles_1',\n",
       "       'boro_block_lot_3', 'address_3', 'neighborhood_3',\n",
       "       'building_classification_3', 'total_units_3', 'year_built_3',\n",
       "       'gross_sqft_3', 'estimated_gross_income_3', 'gross_income_per_sqft_3',\n",
       "       'estimated_expense_3', 'expense_per_sqft_3', 'net_operating_income_3',\n",
       "       'full_market_value_3', 'market_value_per_sqft_3',\n",
       "       'distance_from_condo_in_miles_2', 'report_year', 'unit_noi', 'sqft_noi',\n",
       "       'latitude', 'longitude'],\n",
       "      dtype='object')"
      ]
     },
     "execution_count": 173,
     "metadata": {},
     "output_type": "execute_result"
    }
   ],
   "source": [
    "print(df_rental_income.neighborhood.isna().sum())\n",
    "df_rental_income.columns"
   ]
  },
  {
   "cell_type": "code",
   "execution_count": 174,
   "metadata": {},
   "outputs": [],
   "source": [
    "df_rental_income.neighborhood = df_rental_income.neighborhood.map(\n",
    "    lambda n: str(n,).replace('\\xa0', ' ')\n",
    ")"
   ]
  },
  {
   "cell_type": "code",
   "execution_count": 175,
   "metadata": {},
   "outputs": [
    {
     "data": {
      "text/plain": [
       "(28505, 66)"
      ]
     },
     "execution_count": 175,
     "metadata": {},
     "output_type": "execute_result"
    }
   ],
   "source": [
    "df_rental_income.shape"
   ]
  },
  {
   "cell_type": "markdown",
   "metadata": {},
   "source": [
    "- the original comparable condo dataset contains one target dataframe along with three referential dataframes\n",
    "- we now have re-arranged the dataset so that all the three referential dataframes are also deemed as valid records. That way we have more rows for analysis"
   ]
  },
  {
   "cell_type": "code",
   "execution_count": 176,
   "metadata": {},
   "outputs": [],
   "source": [
    "def compare_by_column(df: pd.DataFrame, col_name: str) -> pd.DataFrame:\n",
    "    \"\"\"\n",
    "    select the target column of interest along with the other three comparable reference columns\n",
    "    \"\"\"\n",
    "    list_col_names = [col_name]\n",
    "    for i in range(1, 4):\n",
    "        comparer_col_name = col_name + '_' + str(i)\n",
    "        list_col_names.append(comparer_col_name)\n",
    "    df_res = df[list_col_names]\n",
    "    return df_res"
   ]
  },
  {
   "cell_type": "code",
   "execution_count": 177,
   "metadata": {},
   "outputs": [
    {
     "data": {
      "text/plain": [
       "<AxesSubplot:ylabel='Frequency'>"
      ]
     },
     "execution_count": 177,
     "metadata": {},
     "output_type": "execute_result"
    },
    {
     "data": {
      "image/png": "[encoded data removed]",
      "text/plain": [
       "<Figure size 640x480 with 1 Axes>"
      ]
     },
     "metadata": {},
     "output_type": "display_data"
    }
   ],
   "source": [
    "df_rental_income.neighborhood.value_counts().plot(kind='hist')"
   ]
  },
  {
   "cell_type": "code",
   "execution_count": 178,
   "metadata": {},
   "outputs": [
    {
     "name": "stdout",
     "output_type": "stream",
     "text": [
      "200.0\n",
      "51.0\n",
      "13.0\n",
      "154.91847826086956\n"
     ]
    },
    {
     "data": {
      "image/png": "[encoded data removed]",
      "text/plain": [
       "<Figure size 640x480 with 1 Axes>"
      ]
     },
     "metadata": {},
     "output_type": "display_data"
    }
   ],
   "source": [
    "df_rental_income.neighborhood.value_counts().plot(kind='box')\n",
    "print(df_rental_income.neighborhood.value_counts().quantile(q=0.75))\n",
    "print(df_rental_income.neighborhood.value_counts().quantile(q=0.5))\n",
    "print(df_rental_income.neighborhood.value_counts().quantile(q=0.25))\n",
    "print(df_rental_income.neighborhood.value_counts().mean())"
   ]
  },
  {
   "cell_type": "markdown",
   "metadata": {},
   "source": [
    "- histogram of neighborhood value counts is of Pareto distribution.\n",
    "- median of the distribution is 26 while upper quartile is 104.5\n",
    "- use 50 as cutoff to filter out those neighborhoods whose frequency in the dataset is too low\n",
    "- should thus drop those with rare frequency as in later phase we will do many aggregation operations"
   ]
  },
  {
   "cell_type": "code",
   "execution_count": 179,
   "metadata": {},
   "outputs": [
    {
     "data": {
      "text/plain": [
       "(26920, 66)"
      ]
     },
     "execution_count": 179,
     "metadata": {},
     "output_type": "execute_result"
    }
   ],
   "source": [
    "neighbor_to_freq = dict(df_rental_income.neighborhood.value_counts())\n",
    "\n",
    "df_condo_rearranged = df_rental_income.loc[\n",
    "    df_rental_income.neighborhood.map(lambda n: neighbor_to_freq[n] >= 50), :\n",
    "]\n",
    "df_condo_rearranged.shape"
   ]
  },
  {
   "cell_type": "markdown",
   "metadata": {},
   "source": [
    "- the profitability now is computed at unit level.\n",
    "- this is because a property may contain multiple units, computation at property level may be biased for this multiplicity\n",
    "- with the unit NOI we will then decide what are the neighborhoods with the highest unit NOI"
   ]
  },
  {
   "cell_type": "code",
   "execution_count": 180,
   "metadata": {},
   "outputs": [
    {
     "data": {
      "text/plain": [
       "count   28505.00\n",
       "mean       68.31\n",
       "std       220.54\n",
       "min         1.00\n",
       "25%        15.00\n",
       "50%        30.00\n",
       "75%        71.00\n",
       "max     20363.00\n",
       "Name: total_units, dtype: float64"
      ]
     },
     "execution_count": 180,
     "metadata": {},
     "output_type": "execute_result"
    }
   ],
   "source": [
    "df_rental_income.total_units.describe()"
   ]
  },
  {
   "cell_type": "code",
   "execution_count": 45,
   "metadata": {},
   "outputs": [],
   "source": [
    "# df_rental_income['unit_noi'] = df_rental_income.net_operating_income / df_rental_income.total_units\n",
    "# df_rental_income['sqft_noi'] = df_rental_income.net_operating_income / df_rental_income.gross_sqft"
   ]
  },
  {
   "cell_type": "code",
   "execution_count": 181,
   "metadata": {},
   "outputs": [
    {
     "data": {
      "text/plain": [
       "2021    3889\n",
       "2020    2543\n",
       "2019    2744\n",
       "2018    2950\n",
       "2017    2951\n",
       "Name: report_year, dtype: int64"
      ]
     },
     "execution_count": 181,
     "metadata": {},
     "output_type": "execute_result"
    }
   ],
   "source": [
    "df_rental_income.report_year.value_counts().sort_index(ascending=False)[:5]"
   ]
  },
  {
   "cell_type": "code",
   "execution_count": 182,
   "metadata": {},
   "outputs": [
    {
     "data": {
      "text/plain": [
       "<AxesSubplot:title={'center':'Yearly Avg. Property NOI in Million'}, xlabel='report_year'>"
      ]
     },
     "execution_count": 182,
     "metadata": {},
     "output_type": "execute_result"
    },
    {
     "data": {
      "image/png": "[encoded data removed]",
      "text/plain": [
       "<Figure size 640x480 with 1 Axes>"
      ]
     },
     "metadata": {},
     "output_type": "display_data"
    }
   ],
   "source": [
    "df_rental_income.groupby(by=['report_year']).agg(\n",
    "    avg_noi=pd.NamedAgg(column='net_operating_income',\n",
    "                        aggfunc=lambda c: c.mean() / 1000000),\n",
    ").plot(\n",
    "    kind='line', title='Yearly Avg. Property NOI in Million'\n",
    ")\n"
   ]
  },
  {
   "cell_type": "code",
   "execution_count": 183,
   "metadata": {},
   "outputs": [
    {
     "data": {
      "text/html": [
       "<div>\n",
       "<style scoped>\n",
       "    .dataframe tbody tr th:only-of-type {\n",
       "        vertical-align: middle;\n",
       "    }\n",
       "\n",
       "    .dataframe tbody tr th {\n",
       "        vertical-align: top;\n",
       "    }\n",
       "\n",
       "    .dataframe thead th {\n",
       "        text-align: right;\n",
       "    }\n",
       "</style>\n",
       "<table border=\"1\" class=\"dataframe\">\n",
       "  <thead>\n",
       "    <tr style=\"text-align: right;\">\n",
       "      <th></th>\n",
       "      <th></th>\n",
       "      <th>avg_property_noi</th>\n",
       "    </tr>\n",
       "    <tr>\n",
       "      <th>neighborhood</th>\n",
       "      <th>report_year</th>\n",
       "      <th></th>\n",
       "    </tr>\n",
       "  </thead>\n",
       "  <tbody>\n",
       "    <tr>\n",
       "      <th>15TH Q QUEENS</th>\n",
       "      <th>2019</th>\n",
       "      <td>0.72</td>\n",
       "    </tr>\n",
       "    <tr>\n",
       "      <th>30TH Q BROOKLYN</th>\n",
       "      <th>2019</th>\n",
       "      <td>0.81</td>\n",
       "    </tr>\n",
       "    <tr>\n",
       "      <th>50TH Q BROOKLYN</th>\n",
       "      <th>2019</th>\n",
       "      <td>0.94</td>\n",
       "    </tr>\n",
       "    <tr>\n",
       "      <th>5TH Q BROOKLYN</th>\n",
       "      <th>2019</th>\n",
       "      <td>0.36</td>\n",
       "    </tr>\n",
       "    <tr>\n",
       "      <th>75TH Q BROOKLYN</th>\n",
       "      <th>2019</th>\n",
       "      <td>0.86</td>\n",
       "    </tr>\n",
       "    <tr>\n",
       "      <th>...</th>\n",
       "      <th>...</th>\n",
       "      <td>...</td>\n",
       "    </tr>\n",
       "    <tr>\n",
       "      <th>WOODSIDE</th>\n",
       "      <th>2021</th>\n",
       "      <td>0.61</td>\n",
       "    </tr>\n",
       "    <tr>\n",
       "      <th rowspan=\"4\" valign=\"top\">WYCKOFF HEIGHTS</th>\n",
       "      <th>2018</th>\n",
       "      <td>0.52</td>\n",
       "    </tr>\n",
       "    <tr>\n",
       "      <th>2019</th>\n",
       "      <td>0.49</td>\n",
       "    </tr>\n",
       "    <tr>\n",
       "      <th>2020</th>\n",
       "      <td>0.44</td>\n",
       "    </tr>\n",
       "    <tr>\n",
       "      <th>2021</th>\n",
       "      <td>0.55</td>\n",
       "    </tr>\n",
       "  </tbody>\n",
       "</table>\n",
       "<p>661 rows × 1 columns</p>\n",
       "</div>"
      ],
      "text/plain": [
       "                             avg_property_noi\n",
       "neighborhood    report_year                  \n",
       "15TH Q QUEENS   2019                     0.72\n",
       "30TH Q BROOKLYN 2019                     0.81\n",
       "50TH Q BROOKLYN 2019                     0.94\n",
       "5TH Q BROOKLYN  2019                     0.36\n",
       "75TH Q BROOKLYN 2019                     0.86\n",
       "...                                       ...\n",
       "WOODSIDE        2021                     0.61\n",
       "WYCKOFF HEIGHTS 2018                     0.52\n",
       "                2019                     0.49\n",
       "                2020                     0.44\n",
       "                2021                     0.55\n",
       "\n",
       "[661 rows x 1 columns]"
      ]
     },
     "execution_count": 183,
     "metadata": {},
     "output_type": "execute_result"
    }
   ],
   "source": [
    "df_rental_income[df_rental_income.report_year.astype(int) >= 2018].groupby(by = ['neighborhood', 'report_year']).agg(\n",
    "    avg_property_noi = pd.NamedAgg(column = 'net_operating_income', aggfunc = lambda c: c.mean() / 1000000),\n",
    ")"
   ]
  },
  {
   "cell_type": "markdown",
   "metadata": {},
   "source": [
    "- can also plot the time series of avg_neighborhood_property_noi as a way to find out the neighborhoods with increasing NOI\n",
    "- 2020 saw a slump in NOI as the covid was prevailing. \n",
    "- the data in 2021 could serve as an estimate of future NOI"
   ]
  },
  {
   "cell_type": "code",
   "execution_count": 184,
   "metadata": {},
   "outputs": [
    {
     "data": {
      "text/plain": [
       "<AxesSubplot:title={'center':'Yearly Avg. Unit NOI'}, xlabel='report_year'>"
      ]
     },
     "execution_count": 184,
     "metadata": {},
     "output_type": "execute_result"
    },
    {
     "data": {
      "image/png": "[encoded data removed]",
      "text/plain": [
       "<Figure size 640x480 with 1 Axes>"
      ]
     },
     "metadata": {},
     "output_type": "display_data"
    }
   ],
   "source": [
    "df_rental_income.groupby(by=['report_year']).agg(\n",
    "    avg_unit_noi=pd.NamedAgg(column='unit_noi', aggfunc=lambda c: c.mean()),\n",
    ").plot(kind='line', title='Yearly Avg. Unit NOI')"
   ]
  },
  {
   "cell_type": "markdown",
   "metadata": {},
   "source": [
    "- can say that the yearly average of unit NOI is somewhere around 37000\n",
    "- can also build a predictive model for forecasting"
   ]
  },
  {
   "cell_type": "code",
   "execution_count": 185,
   "metadata": {},
   "outputs": [
    {
     "data": {
      "text/html": [
       "<div>\n",
       "<style scoped>\n",
       "    .dataframe tbody tr th:only-of-type {\n",
       "        vertical-align: middle;\n",
       "    }\n",
       "\n",
       "    .dataframe tbody tr th {\n",
       "        vertical-align: top;\n",
       "    }\n",
       "\n",
       "    .dataframe thead th {\n",
       "        text-align: right;\n",
       "    }\n",
       "</style>\n",
       "<table border=\"1\" class=\"dataframe\">\n",
       "  <thead>\n",
       "    <tr style=\"text-align: right;\">\n",
       "      <th></th>\n",
       "      <th>avg_unit_noi</th>\n",
       "      <th>sample_count</th>\n",
       "    </tr>\n",
       "    <tr>\n",
       "      <th>neighborhood</th>\n",
       "      <th></th>\n",
       "      <th></th>\n",
       "    </tr>\n",
       "  </thead>\n",
       "  <tbody>\n",
       "    <tr>\n",
       "      <th>EAST NEW YORK</th>\n",
       "      <td>443269.38</td>\n",
       "      <td>12</td>\n",
       "    </tr>\n",
       "    <tr>\n",
       "      <th>UPPER WEST SIDE (59-79)</th>\n",
       "      <td>143658.80</td>\n",
       "      <td>77</td>\n",
       "    </tr>\n",
       "    <tr>\n",
       "      <th>CIVIC CENTER</th>\n",
       "      <td>97386.19</td>\n",
       "      <td>14</td>\n",
       "    </tr>\n",
       "    <tr>\n",
       "      <th>SOHO</th>\n",
       "      <td>94277.41</td>\n",
       "      <td>56</td>\n",
       "    </tr>\n",
       "    <tr>\n",
       "      <th>FLATIRON</th>\n",
       "      <td>84896.23</td>\n",
       "      <td>53</td>\n",
       "    </tr>\n",
       "    <tr>\n",
       "      <th>TRIBECA</th>\n",
       "      <td>72987.15</td>\n",
       "      <td>41</td>\n",
       "    </tr>\n",
       "    <tr>\n",
       "      <th>MIDTOWN CBD</th>\n",
       "      <td>71440.09</td>\n",
       "      <td>16</td>\n",
       "    </tr>\n",
       "    <tr>\n",
       "      <th>LITTLE ITALY</th>\n",
       "      <td>69628.83</td>\n",
       "      <td>17</td>\n",
       "    </tr>\n",
       "    <tr>\n",
       "      <th>CHELSEA</th>\n",
       "      <td>68379.66</td>\n",
       "      <td>101</td>\n",
       "    </tr>\n",
       "    <tr>\n",
       "      <th>GREENWICH VILLAGE-WEST</th>\n",
       "      <td>62949.52</td>\n",
       "      <td>56</td>\n",
       "    </tr>\n",
       "  </tbody>\n",
       "</table>\n",
       "</div>"
      ],
      "text/plain": [
       "                         avg_unit_noi  sample_count\n",
       "neighborhood                                       \n",
       "EAST NEW YORK               443269.38            12\n",
       "UPPER WEST SIDE (59-79)     143658.80            77\n",
       "CIVIC CENTER                 97386.19            14\n",
       "SOHO                         94277.41            56\n",
       "FLATIRON                     84896.23            53\n",
       "TRIBECA                      72987.15            41\n",
       "MIDTOWN CBD                  71440.09            16\n",
       "LITTLE ITALY                 69628.83            17\n",
       "CHELSEA                      68379.66           101\n",
       "GREENWICH VILLAGE-WEST       62949.52            56"
      ]
     },
     "execution_count": 185,
     "metadata": {},
     "output_type": "execute_result"
    }
   ],
   "source": [
    "df_rental_income[df_rental_income.report_year == 2021].groupby(\n",
    "    by=['neighborhood']\n",
    ").agg(\n",
    "    avg_unit_noi=pd.NamedAgg(column='unit_noi', aggfunc=lambda c: c.mean()),\n",
    "    sample_count=pd.NamedAgg(column='unit_noi', aggfunc='count')\n",
    ").sort_values(\n",
    "    ascending=False, by='avg_unit_noi'\n",
    ")[:10]\n"
   ]
  },
  {
   "cell_type": "code",
   "execution_count": 186,
   "metadata": {},
   "outputs": [
    {
     "data": {
      "text/html": [
       "<div>\n",
       "<style scoped>\n",
       "    .dataframe tbody tr th:only-of-type {\n",
       "        vertical-align: middle;\n",
       "    }\n",
       "\n",
       "    .dataframe tbody tr th {\n",
       "        vertical-align: top;\n",
       "    }\n",
       "\n",
       "    .dataframe thead th {\n",
       "        text-align: right;\n",
       "    }\n",
       "</style>\n",
       "<table border=\"1\" class=\"dataframe\">\n",
       "  <thead>\n",
       "    <tr style=\"text-align: right;\">\n",
       "      <th></th>\n",
       "      <th>avg_sqft_noi</th>\n",
       "      <th>sample_count</th>\n",
       "    </tr>\n",
       "    <tr>\n",
       "      <th>neighborhood</th>\n",
       "      <th></th>\n",
       "      <th></th>\n",
       "    </tr>\n",
       "  </thead>\n",
       "  <tbody>\n",
       "    <tr>\n",
       "      <th>FLATIRON</th>\n",
       "      <td>38.79</td>\n",
       "      <td>53</td>\n",
       "    </tr>\n",
       "    <tr>\n",
       "      <th>JAVITS CENTER</th>\n",
       "      <td>38.47</td>\n",
       "      <td>7</td>\n",
       "    </tr>\n",
       "    <tr>\n",
       "      <th>CHELSEA</th>\n",
       "      <td>38.46</td>\n",
       "      <td>101</td>\n",
       "    </tr>\n",
       "    <tr>\n",
       "      <th>MURRAY HILL</th>\n",
       "      <td>37.70</td>\n",
       "      <td>49</td>\n",
       "    </tr>\n",
       "    <tr>\n",
       "      <th>GREENWICH VILLAGE-WEST</th>\n",
       "      <td>37.44</td>\n",
       "      <td>56</td>\n",
       "    </tr>\n",
       "    <tr>\n",
       "      <th>SOHO</th>\n",
       "      <td>37.34</td>\n",
       "      <td>56</td>\n",
       "    </tr>\n",
       "    <tr>\n",
       "      <th>FASHION</th>\n",
       "      <td>36.94</td>\n",
       "      <td>21</td>\n",
       "    </tr>\n",
       "    <tr>\n",
       "      <th>MIDTOWN WEST</th>\n",
       "      <td>36.93</td>\n",
       "      <td>56</td>\n",
       "    </tr>\n",
       "    <tr>\n",
       "      <th>MIDTOWN CBD</th>\n",
       "      <td>36.51</td>\n",
       "      <td>16</td>\n",
       "    </tr>\n",
       "    <tr>\n",
       "      <th>TRIBECA</th>\n",
       "      <td>36.47</td>\n",
       "      <td>41</td>\n",
       "    </tr>\n",
       "  </tbody>\n",
       "</table>\n",
       "</div>"
      ],
      "text/plain": [
       "                        avg_sqft_noi  sample_count\n",
       "neighborhood                                      \n",
       "FLATIRON                       38.79            53\n",
       "JAVITS CENTER                  38.47             7\n",
       "CHELSEA                        38.46           101\n",
       "MURRAY HILL                    37.70            49\n",
       "GREENWICH VILLAGE-WEST         37.44            56\n",
       "SOHO                           37.34            56\n",
       "FASHION                        36.94            21\n",
       "MIDTOWN WEST                   36.93            56\n",
       "MIDTOWN CBD                    36.51            16\n",
       "TRIBECA                        36.47            41"
      ]
     },
     "execution_count": 186,
     "metadata": {},
     "output_type": "execute_result"
    }
   ],
   "source": [
    "df_rental_income[df_rental_income.report_year == 2021].groupby(\n",
    "    by=['neighborhood']\n",
    ").agg(\n",
    "    avg_sqft_noi=pd.NamedAgg(column='sqft_noi', aggfunc=lambda c: c.mean()),\n",
    "    sample_count=pd.NamedAgg(column='sqft_noi', aggfunc='count')\n",
    ").sort_values(\n",
    "    ascending=False, by='avg_sqft_noi'\n",
    ")[:10]"
   ]
  },
  {
   "cell_type": "code",
   "execution_count": 187,
   "metadata": {},
   "outputs": [
    {
     "data": {
      "text/html": [
       "<div>\n",
       "<style scoped>\n",
       "    .dataframe tbody tr th:only-of-type {\n",
       "        vertical-align: middle;\n",
       "    }\n",
       "\n",
       "    .dataframe tbody tr th {\n",
       "        vertical-align: top;\n",
       "    }\n",
       "\n",
       "    .dataframe thead th {\n",
       "        text-align: right;\n",
       "    }\n",
       "</style>\n",
       "<table border=\"1\" class=\"dataframe\">\n",
       "  <thead>\n",
       "    <tr style=\"text-align: right;\">\n",
       "      <th></th>\n",
       "      <th>avg_sqft_gross_rev</th>\n",
       "      <th>sample_count</th>\n",
       "    </tr>\n",
       "    <tr>\n",
       "      <th>neighborhood</th>\n",
       "      <th></th>\n",
       "      <th></th>\n",
       "    </tr>\n",
       "  </thead>\n",
       "  <tbody>\n",
       "    <tr>\n",
       "      <th>GREENWICH VILLAGE-WEST</th>\n",
       "      <td>54.69</td>\n",
       "      <td>56</td>\n",
       "    </tr>\n",
       "    <tr>\n",
       "      <th>FINANCIAL</th>\n",
       "      <td>54.16</td>\n",
       "      <td>11</td>\n",
       "    </tr>\n",
       "    <tr>\n",
       "      <th>TRIBECA</th>\n",
       "      <td>53.96</td>\n",
       "      <td>41</td>\n",
       "    </tr>\n",
       "    <tr>\n",
       "      <th>MIDTOWN WEST</th>\n",
       "      <td>53.84</td>\n",
       "      <td>56</td>\n",
       "    </tr>\n",
       "    <tr>\n",
       "      <th>MIDTOWN CBD</th>\n",
       "      <td>53.78</td>\n",
       "      <td>16</td>\n",
       "    </tr>\n",
       "    <tr>\n",
       "      <th>FLATIRON</th>\n",
       "      <td>53.20</td>\n",
       "      <td>53</td>\n",
       "    </tr>\n",
       "    <tr>\n",
       "      <th>CHELSEA</th>\n",
       "      <td>53.00</td>\n",
       "      <td>101</td>\n",
       "    </tr>\n",
       "    <tr>\n",
       "      <th>SOHO</th>\n",
       "      <td>52.54</td>\n",
       "      <td>56</td>\n",
       "    </tr>\n",
       "    <tr>\n",
       "      <th>MURRAY HILL</th>\n",
       "      <td>52.52</td>\n",
       "      <td>49</td>\n",
       "    </tr>\n",
       "    <tr>\n",
       "      <th>JAVITS CENTER</th>\n",
       "      <td>52.44</td>\n",
       "      <td>7</td>\n",
       "    </tr>\n",
       "  </tbody>\n",
       "</table>\n",
       "</div>"
      ],
      "text/plain": [
       "                        avg_sqft_gross_rev  sample_count\n",
       "neighborhood                                            \n",
       "GREENWICH VILLAGE-WEST               54.69            56\n",
       "FINANCIAL                            54.16            11\n",
       "TRIBECA                              53.96            41\n",
       "MIDTOWN WEST                         53.84            56\n",
       "MIDTOWN CBD                          53.78            16\n",
       "FLATIRON                             53.20            53\n",
       "CHELSEA                              53.00           101\n",
       "SOHO                                 52.54            56\n",
       "MURRAY HILL                          52.52            49\n",
       "JAVITS CENTER                        52.44             7"
      ]
     },
     "execution_count": 187,
     "metadata": {},
     "output_type": "execute_result"
    }
   ],
   "source": [
    "# 2021 is the most recent year in this dataset\n",
    "df_rental_income[df_rental_income.report_year == 2021].groupby(\n",
    "    by=['neighborhood']\n",
    ").agg(\n",
    "    avg_sqft_gross_rev=pd.NamedAgg(column='gross_income_per_sqft', aggfunc=lambda c: c.mean()),\n",
    "    sample_count=pd.NamedAgg(column='unit_noi', aggfunc='count')\n",
    ").sort_values(\n",
    "    ascending=False, by='avg_sqft_gross_rev'\n",
    ")[:10]"
   ]
  },
  {
   "cell_type": "markdown",
   "metadata": {},
   "source": [
    "- another thing could be done here is to conduct geographical analysis using coordinate info\n",
    "- to that end, map each address to its coordinate"
   ]
  },
  {
   "cell_type": "code",
   "execution_count": 188,
   "metadata": {},
   "outputs": [
    {
     "data": {
      "text/plain": [
       "array(['0 32 BROADWAY, New York, NY, USA',\n",
       "       '1 BENNETT AVENUE, New York, NY, USA',\n",
       "       '1 BOND STREET, New York, NY, USA',\n",
       "       '1 CENTRAL PARK WEST, New York, NY, USA',\n",
       "       '1 CENTRAL PARK, New York, NY, USA'], dtype=object)"
      ]
     },
     "execution_count": 188,
     "metadata": {},
     "output_type": "execute_result"
    }
   ],
   "source": [
    "unique_add = np.unique(df_rental_income.address.map(lambda add: add + ', New York, NY, USA'))\n",
    "unique_add[:5]"
   ]
  },
  {
   "cell_type": "code",
   "execution_count": 60,
   "metadata": {},
   "outputs": [
    {
     "name": "stdout",
     "output_type": "stream",
     "text": [
      "geocoding in process... completed 1000\n",
      "geocoding in process... completed 2000\n",
      "geocoding in process... completed 3000\n",
      "geocoding in process... completed 4000\n",
      "geocoding in process... completed 5000\n",
      "geocoding in process... completed 6000\n",
      "geocoding in process... completed 7000\n",
      "geocoding in process... completed 8000\n"
     ]
    }
   ],
   "source": [
    "# coordiantes = lib_sean.get_coordinates(unique_add, api_key='')"
   ]
  },
  {
   "cell_type": "code",
   "execution_count": 66,
   "metadata": {},
   "outputs": [],
   "source": [
    "# address_to_coordinates = dict(zip(unique_add, coordiantes))\n",
    "\n",
    "# df_rental_income['latitude'] = df_rental_income.address.map(\n",
    "#     lambda partial_add:  address_to_coordinates[partial_add + ', New York, NY, USA'][0]\n",
    "# )\n",
    "\n",
    "# df_rental_income['longitude'] = df_rental_income.address.map(\n",
    "#     lambda partial_add:  address_to_coordinates[partial_add + ', New York, NY, USA'][1]\n",
    "# )"
   ]
  },
  {
   "cell_type": "code",
   "execution_count": 189,
   "metadata": {},
   "outputs": [
    {
     "data": {
      "text/html": [
       "<div>\n",
       "<style scoped>\n",
       "    .dataframe tbody tr th:only-of-type {\n",
       "        vertical-align: middle;\n",
       "    }\n",
       "\n",
       "    .dataframe tbody tr th {\n",
       "        vertical-align: top;\n",
       "    }\n",
       "\n",
       "    .dataframe thead th {\n",
       "        text-align: right;\n",
       "    }\n",
       "</style>\n",
       "<table border=\"1\" class=\"dataframe\">\n",
       "  <thead>\n",
       "    <tr style=\"text-align: right;\">\n",
       "      <th></th>\n",
       "      <th>longitude</th>\n",
       "      <th>latitude</th>\n",
       "    </tr>\n",
       "  </thead>\n",
       "  <tbody>\n",
       "    <tr>\n",
       "      <th>0</th>\n",
       "      <td>-74.00</td>\n",
       "      <td>40.74</td>\n",
       "    </tr>\n",
       "    <tr>\n",
       "      <th>1</th>\n",
       "      <td>-73.98</td>\n",
       "      <td>40.76</td>\n",
       "    </tr>\n",
       "    <tr>\n",
       "      <th>2</th>\n",
       "      <td>-73.98</td>\n",
       "      <td>40.75</td>\n",
       "    </tr>\n",
       "    <tr>\n",
       "      <th>3</th>\n",
       "      <td>-74.01</td>\n",
       "      <td>40.73</td>\n",
       "    </tr>\n",
       "    <tr>\n",
       "      <th>4</th>\n",
       "      <td>-73.98</td>\n",
       "      <td>40.75</td>\n",
       "    </tr>\n",
       "    <tr>\n",
       "      <th>...</th>\n",
       "      <td>...</td>\n",
       "      <td>...</td>\n",
       "    </tr>\n",
       "    <tr>\n",
       "      <th>28500</th>\n",
       "      <td>-74.08</td>\n",
       "      <td>40.64</td>\n",
       "    </tr>\n",
       "    <tr>\n",
       "      <th>28501</th>\n",
       "      <td>-74.15</td>\n",
       "      <td>40.55</td>\n",
       "    </tr>\n",
       "    <tr>\n",
       "      <th>28502</th>\n",
       "      <td>-74.07</td>\n",
       "      <td>40.63</td>\n",
       "    </tr>\n",
       "    <tr>\n",
       "      <th>28503</th>\n",
       "      <td>-74.07</td>\n",
       "      <td>40.63</td>\n",
       "    </tr>\n",
       "    <tr>\n",
       "      <th>28504</th>\n",
       "      <td>-74.07</td>\n",
       "      <td>40.64</td>\n",
       "    </tr>\n",
       "  </tbody>\n",
       "</table>\n",
       "<p>28505 rows × 2 columns</p>\n",
       "</div>"
      ],
      "text/plain": [
       "       longitude  latitude\n",
       "0         -74.00     40.74\n",
       "1         -73.98     40.76\n",
       "2         -73.98     40.75\n",
       "3         -74.01     40.73\n",
       "4         -73.98     40.75\n",
       "...          ...       ...\n",
       "28500     -74.08     40.64\n",
       "28501     -74.15     40.55\n",
       "28502     -74.07     40.63\n",
       "28503     -74.07     40.63\n",
       "28504     -74.07     40.64\n",
       "\n",
       "[28505 rows x 2 columns]"
      ]
     },
     "execution_count": 189,
     "metadata": {},
     "output_type": "execute_result"
    }
   ],
   "source": [
    "df_rental_income[['longitude', 'latitude']]"
   ]
  },
  {
   "cell_type": "markdown",
   "metadata": {},
   "source": [
    "- for now, we will base on the above tables to select neighborhoods.\n",
    "- should filter out those neighborhoods where there are limited house supply.\n",
    "- so the next step is to estimate or to get the house inventory info in each neighborhood"
   ]
  },
  {
   "cell_type": "code",
   "execution_count": 190,
   "metadata": {},
   "outputs": [
    {
     "data": {
      "text/plain": [
       "15TH Q QUEENS             3\n",
       "2999                      1\n",
       "30TH Q BROOKLYN           1\n",
       "50TH Q BROOKLYN           8\n",
       "5TH Q BROOKLYN            2\n",
       "75TH Q BROOKLYN           7\n",
       "75TH Q QUEENS             6\n",
       "ALPHABET CITY           243\n",
       "ARROCHAR-SHORE ACRES     10\n",
       "ARVERNE                   3\n",
       "Name: neighborhood, dtype: int64"
      ]
     },
     "execution_count": 190,
     "metadata": {},
     "output_type": "execute_result"
    }
   ],
   "source": [
    "df_rental_income.neighborhood.value_counts().sort_index(ascending = True)[:10]"
   ]
  },
  {
   "cell_type": "code",
   "execution_count": 146,
   "metadata": {},
   "outputs": [],
   "source": [
    "df_rental_income.to_csv(data_dir + 'DOF_Condominium_Comparable_Rental_Income_in_NYC_Cleaned.csv', encoding = 'utf-8', index=False)"
   ]
  },
  {
   "cell_type": "markdown",
   "metadata": {},
   "source": [
    "##### EDA - Sentiment Analysis\n",
    "- this is a dataset derived from the join of inside airbnb listings and inside airbnb reviews"
   ]
  },
  {
   "cell_type": "code",
   "execution_count": 99,
   "metadata": {},
   "outputs": [
    {
     "data": {
      "text/plain": [
       "(893063, 7)"
      ]
     },
     "execution_count": 99,
     "metadata": {},
     "output_type": "execute_result"
    }
   ],
   "source": [
    "df_sent = pd.read_csv(data_dir + 'sentiment_score.csv')\n",
    "df_sent.rename(columns=lib_sean.col_renamer)\n",
    "df_sent.listing_id = df_sent.listing_id.astype(int)\n",
    "df_sent.shape"
   ]
  },
  {
   "cell_type": "code",
   "execution_count": 108,
   "metadata": {},
   "outputs": [
    {
     "name": "stdout",
     "output_type": "stream",
     "text": [
      "count                  893063\n",
      "unique                   1891\n",
      "top       2023-01-02 00:00:00\n",
      "freq                     2367\n",
      "first     2018-01-01 00:00:00\n",
      "last      2023-03-06 00:00:00\n",
      "Name: date, dtype: object\n"
     ]
    },
    {
     "name": "stderr",
     "output_type": "stream",
     "text": [
      "C:\\Users\\Chaconne\\AppData\\Local\\Temp\\ipykernel_33552\\911507356.py:2: FutureWarning: Treating datetime data as categorical rather than numeric in `.describe` is deprecated and will be removed in a future version of pandas. Specify `datetime_is_numeric=True` to silence this warning and adopt the future behavior now.\n",
      "  print(df_sent.date.describe())\n"
     ]
    },
    {
     "data": {
      "text/html": [
       "<div>\n",
       "<style scoped>\n",
       "    .dataframe tbody tr th:only-of-type {\n",
       "        vertical-align: middle;\n",
       "    }\n",
       "\n",
       "    .dataframe tbody tr th {\n",
       "        vertical-align: top;\n",
       "    }\n",
       "\n",
       "    .dataframe thead th {\n",
       "        text-align: right;\n",
       "    }\n",
       "</style>\n",
       "<table border=\"1\" class=\"dataframe\">\n",
       "  <thead>\n",
       "    <tr style=\"text-align: right;\">\n",
       "      <th></th>\n",
       "      <th>listing_id</th>\n",
       "      <th>id_x</th>\n",
       "      <th>date</th>\n",
       "      <th>reviewer_id</th>\n",
       "      <th>sentiment</th>\n",
       "      <th>neighbourhood_cleansed</th>\n",
       "      <th>average_neighbourhood_sentiment</th>\n",
       "    </tr>\n",
       "  </thead>\n",
       "  <tbody>\n",
       "    <tr>\n",
       "      <th>0</th>\n",
       "      <td>2595</td>\n",
       "      <td>223658531</td>\n",
       "      <td>2018-01-01</td>\n",
       "      <td>66056138</td>\n",
       "      <td>0.40</td>\n",
       "      <td>Midtown</td>\n",
       "      <td>0.40</td>\n",
       "    </tr>\n",
       "    <tr>\n",
       "      <th>1</th>\n",
       "      <td>2595</td>\n",
       "      <td>258747537</td>\n",
       "      <td>2018-04-29</td>\n",
       "      <td>128182033</td>\n",
       "      <td>0.29</td>\n",
       "      <td>Midtown</td>\n",
       "      <td>0.40</td>\n",
       "    </tr>\n",
       "    <tr>\n",
       "      <th>2</th>\n",
       "      <td>2595</td>\n",
       "      <td>265850774</td>\n",
       "      <td>2018-05-18</td>\n",
       "      <td>11496712</td>\n",
       "      <td>0.14</td>\n",
       "      <td>Midtown</td>\n",
       "      <td>0.40</td>\n",
       "    </tr>\n",
       "    <tr>\n",
       "      <th>3</th>\n",
       "      <td>2595</td>\n",
       "      <td>269561173</td>\n",
       "      <td>2018-05-27</td>\n",
       "      <td>76998885</td>\n",
       "      <td>0.29</td>\n",
       "      <td>Midtown</td>\n",
       "      <td>0.40</td>\n",
       "    </tr>\n",
       "    <tr>\n",
       "      <th>4</th>\n",
       "      <td>2595</td>\n",
       "      <td>273575493</td>\n",
       "      <td>2018-06-06</td>\n",
       "      <td>115721479</td>\n",
       "      <td>0.24</td>\n",
       "      <td>Midtown</td>\n",
       "      <td>0.40</td>\n",
       "    </tr>\n",
       "  </tbody>\n",
       "</table>\n",
       "</div>"
      ],
      "text/plain": [
       "   listing_id       id_x       date  reviewer_id  sentiment  \\\n",
       "0        2595  223658531 2018-01-01     66056138       0.40   \n",
       "1        2595  258747537 2018-04-29    128182033       0.29   \n",
       "2        2595  265850774 2018-05-18     11496712       0.14   \n",
       "3        2595  269561173 2018-05-27     76998885       0.29   \n",
       "4        2595  273575493 2018-06-06    115721479       0.24   \n",
       "\n",
       "  neighbourhood_cleansed  average_neighbourhood_sentiment  \n",
       "0                Midtown                             0.40  \n",
       "1                Midtown                             0.40  \n",
       "2                Midtown                             0.40  \n",
       "3                Midtown                             0.40  \n",
       "4                Midtown                             0.40  "
      ]
     },
     "execution_count": 108,
     "metadata": {},
     "output_type": "execute_result"
    }
   ],
   "source": [
    "df_sent.date = pd.to_datetime(df_sent.date,)\n",
    "print(df_sent.date.describe())\n",
    "df_sent.head()"
   ]
  },
  {
   "cell_type": "code",
   "execution_count": 103,
   "metadata": {},
   "outputs": [
    {
     "data": {
      "text/plain": [
       "<AxesSubplot:ylabel='Frequency'>"
      ]
     },
     "execution_count": 103,
     "metadata": {},
     "output_type": "execute_result"
    },
    {
     "data": {
      "image/png": "[encoded data removed]",
      "text/plain": [
       "<Figure size 640x480 with 1 Axes>"
      ]
     },
     "metadata": {},
     "output_type": "display_data"
    }
   ],
   "source": [
    "df_sent.sentiment.plot(kind = 'hist')"
   ]
  },
  {
   "cell_type": "code",
   "execution_count": 112,
   "metadata": {},
   "outputs": [
    {
     "data": {
      "text/plain": [
       "<AxesSubplot:ylabel='Frequency'>"
      ]
     },
     "execution_count": 112,
     "metadata": {},
     "output_type": "execute_result"
    },
    {
     "data": {
      "image/png": "[encoded data removed]",
      "text/plain": [
       "<Figure size 640x480 with 1 Axes>"
      ]
     },
     "metadata": {},
     "output_type": "display_data"
    }
   ],
   "source": [
    "df_sent.neighbourhood_cleansed.value_counts().plot(kind = 'hist')"
   ]
  },
  {
   "cell_type": "code",
   "execution_count": 117,
   "metadata": {},
   "outputs": [
    {
     "name": "stdout",
     "output_type": "stream",
     "text": [
      "0.25\t343.0\n",
      "0.5\t1028.0\n",
      "0.75\t3335.0\n",
      "mean\t4041.0090497737556\n"
     ]
    },
    {
     "data": {
      "image/png": "[encoded data removed]",
      "text/plain": [
       "<Figure size 640x480 with 1 Axes>"
      ]
     },
     "metadata": {},
     "output_type": "display_data"
    }
   ],
   "source": [
    "df_sent.neighbourhood_cleansed.value_counts().plot(kind = 'box')\n",
    "for i in [0.25, 0.5, 0.75]:\n",
    "    print(i, df_sent.neighbourhood_cleansed.value_counts().quantile(q = i), sep = '\\t')\n",
    "print('mean', df_sent.neighbourhood_cleansed.value_counts().mean(), sep = '\\t')"
   ]
  },
  {
   "cell_type": "markdown",
   "metadata": {},
   "source": [
    "- to deal with Pareto distribution, better drop off rows from neighborhoods where there are too few total records, say, 50"
   ]
  },
  {
   "cell_type": "code",
   "execution_count": 124,
   "metadata": {},
   "outputs": [
    {
     "data": {
      "text/html": [
       "<div>\n",
       "<style scoped>\n",
       "    .dataframe tbody tr th:only-of-type {\n",
       "        vertical-align: middle;\n",
       "    }\n",
       "\n",
       "    .dataframe tbody tr th {\n",
       "        vertical-align: top;\n",
       "    }\n",
       "\n",
       "    .dataframe thead th {\n",
       "        text-align: right;\n",
       "    }\n",
       "</style>\n",
       "<table border=\"1\" class=\"dataframe\">\n",
       "  <thead>\n",
       "    <tr style=\"text-align: right;\">\n",
       "      <th></th>\n",
       "      <th>avg_sent</th>\n",
       "      <th>sample_count</th>\n",
       "    </tr>\n",
       "    <tr>\n",
       "      <th>neighbourhood_cleansed</th>\n",
       "      <th></th>\n",
       "      <th></th>\n",
       "    </tr>\n",
       "  </thead>\n",
       "  <tbody>\n",
       "    <tr>\n",
       "      <th>Woodrow</th>\n",
       "      <td>0.49</td>\n",
       "      <td>92</td>\n",
       "    </tr>\n",
       "    <tr>\n",
       "      <th>Belle Harbor</th>\n",
       "      <td>0.47</td>\n",
       "      <td>177</td>\n",
       "    </tr>\n",
       "    <tr>\n",
       "      <th>Tottenville</th>\n",
       "      <td>0.47</td>\n",
       "      <td>118</td>\n",
       "    </tr>\n",
       "    <tr>\n",
       "      <th>Financial District</th>\n",
       "      <td>0.46</td>\n",
       "      <td>14133</td>\n",
       "    </tr>\n",
       "    <tr>\n",
       "      <th>New Dorp Beach</th>\n",
       "      <td>0.46</td>\n",
       "      <td>422</td>\n",
       "    </tr>\n",
       "    <tr>\n",
       "      <th>...</th>\n",
       "      <td>...</td>\n",
       "      <td>...</td>\n",
       "    </tr>\n",
       "    <tr>\n",
       "      <th>Mott Haven</th>\n",
       "      <td>0.36</td>\n",
       "      <td>2770</td>\n",
       "    </tr>\n",
       "    <tr>\n",
       "      <th>Melrose</th>\n",
       "      <td>0.35</td>\n",
       "      <td>784</td>\n",
       "    </tr>\n",
       "    <tr>\n",
       "      <th>Morris Heights</th>\n",
       "      <td>0.35</td>\n",
       "      <td>447</td>\n",
       "    </tr>\n",
       "    <tr>\n",
       "      <th>Fordham</th>\n",
       "      <td>0.34</td>\n",
       "      <td>911</td>\n",
       "    </tr>\n",
       "    <tr>\n",
       "      <th>University Heights</th>\n",
       "      <td>0.32</td>\n",
       "      <td>302</td>\n",
       "    </tr>\n",
       "  </tbody>\n",
       "</table>\n",
       "<p>208 rows × 2 columns</p>\n",
       "</div>"
      ],
      "text/plain": [
       "                        avg_sent  sample_count\n",
       "neighbourhood_cleansed                        \n",
       "Woodrow                     0.49            92\n",
       "Belle Harbor                0.47           177\n",
       "Tottenville                 0.47           118\n",
       "Financial District          0.46         14133\n",
       "New Dorp Beach              0.46           422\n",
       "...                          ...           ...\n",
       "Mott Haven                  0.36          2770\n",
       "Melrose                     0.35           784\n",
       "Morris Heights              0.35           447\n",
       "Fordham                     0.34           911\n",
       "University Heights          0.32           302\n",
       "\n",
       "[208 rows x 2 columns]"
      ]
     },
     "execution_count": 124,
     "metadata": {},
     "output_type": "execute_result"
    }
   ],
   "source": [
    "df_sent_by_nb = df_sent.groupby(by = 'neighbourhood_cleansed').agg(\n",
    "    sample_count = pd.NamedAgg(column='sentiment', aggfunc='count')\n",
    ")\n",
    "\n",
    "neighbor_keep = df_sent_by_nb[df_sent_by_nb.sample_count >= 50].index\n",
    "\n",
    "\n",
    "df_sent.loc[df_sent.neighbourhood_cleansed.map(lambda n: n in neighbor_keep), :].groupby(by = 'neighbourhood_cleansed').agg(\n",
    "    avg_sent = pd.NamedAgg(column='sentiment', aggfunc='mean'),\n",
    "    sample_count = pd.NamedAgg(column='sentiment', aggfunc='count')\n",
    ").sort_values(by='avg_sent', ascending = False)"
   ]
  },
  {
   "cell_type": "code",
   "execution_count": 125,
   "metadata": {},
   "outputs": [
    {
     "data": {
      "text/html": [
       "<div>\n",
       "<style scoped>\n",
       "    .dataframe tbody tr th:only-of-type {\n",
       "        vertical-align: middle;\n",
       "    }\n",
       "\n",
       "    .dataframe tbody tr th {\n",
       "        vertical-align: top;\n",
       "    }\n",
       "\n",
       "    .dataframe thead th {\n",
       "        text-align: right;\n",
       "    }\n",
       "</style>\n",
       "<table border=\"1\" class=\"dataframe\">\n",
       "  <thead>\n",
       "    <tr style=\"text-align: right;\">\n",
       "      <th></th>\n",
       "      <th>avg_sent</th>\n",
       "      <th>sample_count</th>\n",
       "    </tr>\n",
       "    <tr>\n",
       "      <th>neighbourhood_cleansed</th>\n",
       "      <th></th>\n",
       "      <th></th>\n",
       "    </tr>\n",
       "  </thead>\n",
       "  <tbody>\n",
       "    <tr>\n",
       "      <th>Bedford-Stuyvesant</th>\n",
       "      <td>0.40</td>\n",
       "      <td>82011</td>\n",
       "    </tr>\n",
       "    <tr>\n",
       "      <th>Williamsburg</th>\n",
       "      <td>0.43</td>\n",
       "      <td>48264</td>\n",
       "    </tr>\n",
       "    <tr>\n",
       "      <th>Harlem</th>\n",
       "      <td>0.38</td>\n",
       "      <td>48231</td>\n",
       "    </tr>\n",
       "    <tr>\n",
       "      <th>Bushwick</th>\n",
       "      <td>0.40</td>\n",
       "      <td>32993</td>\n",
       "    </tr>\n",
       "    <tr>\n",
       "      <th>Hell's Kitchen</th>\n",
       "      <td>0.40</td>\n",
       "      <td>30498</td>\n",
       "    </tr>\n",
       "    <tr>\n",
       "      <th>...</th>\n",
       "      <td>...</td>\n",
       "      <td>...</td>\n",
       "    </tr>\n",
       "    <tr>\n",
       "      <th>Gerritsen Beach</th>\n",
       "      <td>0.45</td>\n",
       "      <td>84</td>\n",
       "    </tr>\n",
       "    <tr>\n",
       "      <th>East Morrisania</th>\n",
       "      <td>0.42</td>\n",
       "      <td>83</td>\n",
       "    </tr>\n",
       "    <tr>\n",
       "      <th>Emerson Hill</th>\n",
       "      <td>0.37</td>\n",
       "      <td>82</td>\n",
       "    </tr>\n",
       "    <tr>\n",
       "      <th>Chelsea, Staten Island</th>\n",
       "      <td>0.36</td>\n",
       "      <td>63</td>\n",
       "    </tr>\n",
       "    <tr>\n",
       "      <th>Rossville</th>\n",
       "      <td>0.42</td>\n",
       "      <td>58</td>\n",
       "    </tr>\n",
       "  </tbody>\n",
       "</table>\n",
       "<p>208 rows × 2 columns</p>\n",
       "</div>"
      ],
      "text/plain": [
       "                        avg_sent  sample_count\n",
       "neighbourhood_cleansed                        \n",
       "Bedford-Stuyvesant          0.40         82011\n",
       "Williamsburg                0.43         48264\n",
       "Harlem                      0.38         48231\n",
       "Bushwick                    0.40         32993\n",
       "Hell's Kitchen              0.40         30498\n",
       "...                          ...           ...\n",
       "Gerritsen Beach             0.45            84\n",
       "East Morrisania             0.42            83\n",
       "Emerson Hill                0.37            82\n",
       "Chelsea, Staten Island      0.36            63\n",
       "Rossville                   0.42            58\n",
       "\n",
       "[208 rows x 2 columns]"
      ]
     },
     "execution_count": 125,
     "metadata": {},
     "output_type": "execute_result"
    }
   ],
   "source": [
    "df_sent.loc[df_sent.neighbourhood_cleansed.map(lambda n: n in neighbor_keep), :].groupby(by = 'neighbourhood_cleansed').agg(\n",
    "    avg_sent = pd.NamedAgg(column='sentiment', aggfunc='mean'),\n",
    "    sample_count = pd.NamedAgg(column='sentiment', aggfunc='count')\n",
    ").sort_values(by='sample_count', ascending = False)"
   ]
  },
  {
   "cell_type": "markdown",
   "metadata": {},
   "source": [
    "##### EDA - RedFin Housing market data (full) from https://www.redfin.com/news/data-center/"
   ]
  },
  {
   "cell_type": "code",
   "execution_count": 60,
   "metadata": {},
   "outputs": [
    {
     "name": "stdout",
     "output_type": "stream",
     "text": [
      "(4718104, 58)\n"
     ]
    },
    {
     "data": {
      "text/plain": [
       "Index(['period_begin', 'period_end', 'period_duration', 'region_type',\n",
       "       'region_type_id', 'table_id', 'is_seasonally_adjusted', 'region',\n",
       "       'city', 'state', 'state_code', 'property_type', 'property_type_id',\n",
       "       'median_sale_price', 'median_sale_price_mom', 'median_sale_price_yoy',\n",
       "       'median_list_price', 'median_list_price_mom', 'median_list_price_yoy',\n",
       "       'median_ppsf', 'median_ppsf_mom', 'median_ppsf_yoy', 'median_list_ppsf',\n",
       "       'median_list_ppsf_mom', 'median_list_ppsf_yoy', 'homes_sold',\n",
       "       'homes_sold_mom', 'homes_sold_yoy', 'pending_sales',\n",
       "       'pending_sales_mom', 'pending_sales_yoy', 'new_listings',\n",
       "       'new_listings_mom', 'new_listings_yoy', 'inventory', 'inventory_mom',\n",
       "       'inventory_yoy', 'months_of_supply', 'months_of_supply_mom',\n",
       "       'months_of_supply_yoy', 'median_dom', 'median_dom_mom',\n",
       "       'median_dom_yoy', 'avg_sale_to_list', 'avg_sale_to_list_mom',\n",
       "       'avg_sale_to_list_yoy', 'sold_above_list', 'sold_above_list_mom',\n",
       "       'sold_above_list_yoy', 'price_drops', 'price_drops_mom',\n",
       "       'price_drops_yoy', 'off_market_in_two_weeks',\n",
       "       'off_market_in_two_weeks_mom', 'off_market_in_two_weeks_yoy',\n",
       "       'parent_metro_region', 'parent_metro_region_metro_code',\n",
       "       'last_updated'],\n",
       "      dtype='object')"
      ]
     },
     "execution_count": 60,
     "metadata": {},
     "output_type": "execute_result"
    }
   ],
   "source": [
    "df_redfin = pd.read_csv(data_dir + 'city_market_tracker.tsv000', sep='\\t')\n",
    "df_redfin.rename(columns=lib_sean.col_renamer, inplace=True)\n",
    "print(df_redfin.shape)\n",
    "df_redfin.columns"
   ]
  },
  {
   "cell_type": "markdown",
   "metadata": {},
   "source": [
    "- drop some monotonously valued columns first"
   ]
  },
  {
   "cell_type": "code",
   "execution_count": 61,
   "metadata": {},
   "outputs": [
    {
     "data": {
      "text/plain": [
       "place    4718104\n",
       "Name: region_type, dtype: int64"
      ]
     },
     "execution_count": 61,
     "metadata": {},
     "output_type": "execute_result"
    }
   ],
   "source": [
    "df_redfin.region_type.value_counts()\n"
   ]
  },
  {
   "cell_type": "code",
   "execution_count": 62,
   "metadata": {},
   "outputs": [
    {
     "data": {
      "text/plain": [
       "6    4718104\n",
       "Name: region_type_id, dtype: int64"
      ]
     },
     "execution_count": 62,
     "metadata": {},
     "output_type": "execute_result"
    }
   ],
   "source": [
    "df_redfin.region_type_id.value_counts()\n"
   ]
  },
  {
   "cell_type": "code",
   "execution_count": 63,
   "metadata": {},
   "outputs": [],
   "source": [
    "df_redfin.drop(columns=['region_type', 'region_type_id', 'region'], inplace=True)\n"
   ]
  },
  {
   "cell_type": "code",
   "execution_count": 64,
   "metadata": {},
   "outputs": [
    {
     "data": {
      "text/plain": [
       "True"
      ]
     },
     "execution_count": 64,
     "metadata": {},
     "output_type": "execute_result"
    }
   ],
   "source": [
    "'New York' in df_redfin.city.value_counts().index"
   ]
  },
  {
   "cell_type": "code",
   "execution_count": 65,
   "metadata": {},
   "outputs": [
    {
     "data": {
      "text/plain": [
       "(475, 55)"
      ]
     },
     "execution_count": 65,
     "metadata": {},
     "output_type": "execute_result"
    }
   ],
   "source": [
    "df_redfin_ny = df_redfin[df_redfin.city == 'New York']\n",
    "df_redfin_ny.shape\n"
   ]
  },
  {
   "cell_type": "code",
   "execution_count": 66,
   "metadata": {},
   "outputs": [],
   "source": [
    "# export cleande redfin data\n",
    "# df_redfin_ny.to_csv(data_dir + 'redfin_nyc_house_market_data.csv', index=False)"
   ]
  },
  {
   "cell_type": "markdown",
   "metadata": {},
   "source": [
    "##### EDA - Redfin NYC House Market data -- derived from https://www.redfin.com/news/data-center/\n",
    "- this one's cleaned from the previous full Redfin dataset. It contains only NYC records."
   ]
  },
  {
   "cell_type": "code",
   "execution_count": 81,
   "metadata": {},
   "outputs": [
    {
     "name": "stdout",
     "output_type": "stream",
     "text": [
      "(475, 55)\n"
     ]
    },
    {
     "data": {
      "text/plain": [
       "Index(['period_begin', 'period_end', 'period_duration', 'table_id',\n",
       "       'is_seasonally_adjusted', 'city', 'state', 'state_code',\n",
       "       'property_type', 'property_type_id', 'median_sale_price',\n",
       "       'median_sale_price_mom', 'median_sale_price_yoy', 'median_list_price',\n",
       "       'median_list_price_mom', 'median_list_price_yoy', 'median_ppsf',\n",
       "       'median_ppsf_mom', 'median_ppsf_yoy', 'median_list_ppsf',\n",
       "       'median_list_ppsf_mom', 'median_list_ppsf_yoy', 'homes_sold',\n",
       "       'homes_sold_mom', 'homes_sold_yoy', 'pending_sales',\n",
       "       'pending_sales_mom', 'pending_sales_yoy', 'new_listings',\n",
       "       'new_listings_mom', 'new_listings_yoy', 'inventory', 'inventory_mom',\n",
       "       'inventory_yoy', 'months_of_supply', 'months_of_supply_mom',\n",
       "       'months_of_supply_yoy', 'median_dom', 'median_dom_mom',\n",
       "       'median_dom_yoy', 'avg_sale_to_list', 'avg_sale_to_list_mom',\n",
       "       'avg_sale_to_list_yoy', 'sold_above_list', 'sold_above_list_mom',\n",
       "       'sold_above_list_yoy', 'price_drops', 'price_drops_mom',\n",
       "       'price_drops_yoy', 'off_market_in_two_weeks',\n",
       "       'off_market_in_two_weeks_mom', 'off_market_in_two_weeks_yoy',\n",
       "       'parent_metro_region', 'parent_metro_region_metro_code',\n",
       "       'last_updated'],\n",
       "      dtype='object')"
      ]
     },
     "execution_count": 81,
     "metadata": {},
     "output_type": "execute_result"
    }
   ],
   "source": [
    "df_redfin_ny = pd.read_csv(data_dir + 'redfin_nyc_house_market_data.csv')\n",
    "print(df_redfin_ny.shape)\n",
    "df_redfin_ny.columns"
   ]
  },
  {
   "cell_type": "code",
   "execution_count": 82,
   "metadata": {},
   "outputs": [
    {
     "name": "stdout",
     "output_type": "stream",
     "text": [
      "period_begin    2015-05-01\n",
      "period_end      2015-05-31\n",
      "dtype: object\n",
      "period_begin    2023-03-01\n",
      "period_end      2023-03-31\n",
      "dtype: object\n"
     ]
    }
   ],
   "source": [
    "print(df_redfin_ny[['period_begin', 'period_end']].min())\n",
    "print(df_redfin_ny[['period_begin', 'period_end']].max())"
   ]
  },
  {
   "cell_type": "code",
   "execution_count": 83,
   "metadata": {},
   "outputs": [
    {
     "data": {
      "text/plain": [
       "Townhouse                    95\n",
       "All Residential              95\n",
       "Single Family Residential    95\n",
       "Condo/Co-op                  95\n",
       "Multi-Family (2-4 Unit)      95\n",
       "Name: property_type, dtype: int64"
      ]
     },
     "execution_count": 83,
     "metadata": {},
     "output_type": "execute_result"
    }
   ],
   "source": [
    "# new listings - available units in the market\n",
    "df_redfin_ny.property_type.value_counts()"
   ]
  },
  {
   "cell_type": "code",
   "execution_count": 86,
   "metadata": {},
   "outputs": [],
   "source": [
    "df_redfin_ny['year'] = df_redfin_ny.period_begin.map(lambda d: d.split('-')[0])\n",
    "df_redfin_ny['month'] = df_redfin_ny.period_begin.map(lambda d: d.split('-')[1])"
   ]
  },
  {
   "cell_type": "code",
   "execution_count": 90,
   "metadata": {},
   "outputs": [
    {
     "data": {
      "text/plain": [
       "<AxesSubplot:title={'center':'citywide inventory by month'}, xlabel='period_begin'>"
      ]
     },
     "execution_count": 90,
     "metadata": {},
     "output_type": "execute_result"
    },
    {
     "data": {
      "image/png": "[encoded data removed]",
      "text/plain": [
       "<Figure size 640x480 with 1 Axes>"
      ]
     },
     "metadata": {},
     "output_type": "display_data"
    }
   ],
   "source": [
    "df_redfin_ny.groupby(by = 'period_begin').agg(\n",
    "    inventory_sum = pd.NamedAgg(column='inventory', aggfunc=lambda col: int(col.sum()))\n",
    ").plot(kind = 'line', title = 'citywide inventory by month')"
   ]
  },
  {
   "cell_type": "code",
   "execution_count": 97,
   "metadata": {},
   "outputs": [
    {
     "data": {
      "text/plain": [
       "<AxesSubplot:title={'center':'citywide new listings by month'}, xlabel='period_begin'>"
      ]
     },
     "execution_count": 97,
     "metadata": {},
     "output_type": "execute_result"
    },
    {
     "data": {
      "image/png": "[encoded data removed]",
      "text/plain": [
       "<Figure size 640x480 with 1 Axes>"
      ]
     },
     "metadata": {},
     "output_type": "display_data"
    }
   ],
   "source": [
    "df_redfin_ny.groupby(by = 'period_begin').agg(\n",
    "    new_listings_sum = pd.NamedAgg(column='new_listings', aggfunc=lambda col: int(col.sum())),\n",
    "    # year = pd.NamedAgg(column='period_end', aggfunc = lambda col: list(col)[0].split('-')[0])\n",
    ").plot(kind = 'line', title = 'citywide new listings by month',)"
   ]
  },
  {
   "cell_type": "markdown",
   "metadata": {},
   "source": [
    "- this plot could be used to justify that the supply in NYC is sufficient for us to buy properties\n",
    "- can also show the seasonality to find the best timing to buy in"
   ]
  }
 ],
 "metadata": {
  "kernelspec": {
   "display_name": "Python 3.10.4 64-bit",
   "language": "python",
   "name": "python3"
  },
  "language_info": {
   "codemirror_mode": {
    "name": "ipython",
    "version": 3
   },
   "file_extension": ".py",
   "mimetype": "text/x-python",
   "name": "python",
   "nbconvert_exporter": "python",
   "pygments_lexer": "ipython3",
   "version": "3.10.4"
  },
  "orig_nbformat": 4,
  "vscode": {
   "interpreter": {
    "hash": "26de051ba29f2982a8de78e945f0abaf191376122a1563185a90213a26c5da77"
   }
  }
 },
 "nbformat": 4,
 "nbformat_minor": 2
}
