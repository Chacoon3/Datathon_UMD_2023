{
 "cells": [
  {
   "cell_type": "code",
   "execution_count": 1,
   "metadata": {},
   "outputs": [],
   "source": [
    "import pandas as pd\n",
    "import numpy as np\n",
    "import seaborn as sns\n",
    "\n",
    "import os\n",
    "import requests\n",
    "import json\n",
    "import regex as re\n",
    "\n",
    "import lib_sean\n",
    "\n",
    "import datetime\n",
    "\n",
    "pd.set_option('display.float_format', lambda x: '%.2f' % x)"
   ]
  },
  {
   "cell_type": "code",
   "execution_count": 2,
   "metadata": {},
   "outputs": [],
   "source": [
    "#  dir setting\n",
    "root_dir = '\\\\'.join(os.getcwd().split('\\\\')[:-1])\n",
    "data_dir = root_dir + '\\\\' + 'Data\\\\'"
   ]
  },
  {
   "cell_type": "markdown",
   "metadata": {},
   "source": [
    "##### EDA - original set"
   ]
  },
  {
   "cell_type": "code",
   "execution_count": 3,
   "metadata": {},
   "outputs": [],
   "source": [
    "df = pd.read_excel(data_dir + 'property_data.xlsx')\n",
    "df_rev_geocoding = pd.read_excel(data_dir + 'rev_geocoding.xlsx')\n"
   ]
  },
  {
   "cell_type": "code",
   "execution_count": 4,
   "metadata": {},
   "outputs": [
    {
     "name": "stdout",
     "output_type": "stream",
     "text": [
      "(102575, 23)\n"
     ]
    }
   ],
   "source": [
    "df = lib_sean.clean_data(df, df_rev_geocoding)\n",
    "df.rename(columns=lib_sean.col_renamer, inplace=True)\n",
    "print(df.shape)\n"
   ]
  },
  {
   "cell_type": "code",
   "execution_count": 5,
   "metadata": {},
   "outputs": [
    {
     "name": "stdout",
     "output_type": "stream",
     "text": [
      "Index(['id', 'name', 'host_id', 'host_name', 'nyc_borough', 'neighborhood',\n",
      "       'latitude', 'longitude', 'instant_bookable', 'cancellation_policy',\n",
      "       'room_type', 'construction_year', 'price', 'service_fee',\n",
      "       'minimum_nights', 'number_of_reviews', 'last_review',\n",
      "       'reviews_per_month', 'house_rules', 'coordinate', 'full_address',\n",
      "       'zipcode', 'property_name'],\n",
      "      dtype='object')\n"
     ]
    },
    {
     "data": {
      "text/plain": [
       "house_rules            52123\n",
       "minimum_nights           408\n",
       "host_name                406\n",
       "zipcode                  312\n",
       "cancellation_policy       74\n",
       "nyc_borough               24\n",
       "id                         0\n",
       "service_fee                0\n",
       "full_address               0\n",
       "coordinate                 0\n",
       "dtype: int64"
      ]
     },
     "execution_count": 5,
     "metadata": {},
     "output_type": "execute_result"
    }
   ],
   "source": [
    "print(df.columns)\n",
    "df.isna().sum().sort_values(ascending=False)[:10]"
   ]
  },
  {
   "cell_type": "markdown",
   "metadata": {},
   "source": [
    "- in following steps we gonna perform multiple aggregations. to that end we first filter out neighborhoods of too few records"
   ]
  },
  {
   "cell_type": "code",
   "execution_count": 6,
   "metadata": {},
   "outputs": [
    {
     "data": {
      "text/plain": [
       "<AxesSubplot:ylabel='Frequency'>"
      ]
     },
     "execution_count": 6,
     "metadata": {},
     "output_type": "execute_result"
    },
    {
     "data": {
      "image/png": "[encoded data removed]",
      "text/plain": [
       "<Figure size 640x480 with 1 Axes>"
      ]
     },
     "metadata": {},
     "output_type": "display_data"
    }
   ],
   "source": [
    "df.groupby(by=['neighborhood']).agg(\n",
    "    sample_count = pd.NamedAgg(column='price', aggfunc='count'),\n",
    ").sample_count.plot(kind = 'hist')"
   ]
  },
  {
   "cell_type": "code",
   "execution_count": 7,
   "metadata": {},
   "outputs": [
    {
     "data": {
      "text/html": [
       "<div>\n",
       "<style scoped>\n",
       "    .dataframe tbody tr th:only-of-type {\n",
       "        vertical-align: middle;\n",
       "    }\n",
       "\n",
       "    .dataframe tbody tr th {\n",
       "        vertical-align: top;\n",
       "    }\n",
       "\n",
       "    .dataframe thead th {\n",
       "        text-align: right;\n",
       "    }\n",
       "</style>\n",
       "<table border=\"1\" class=\"dataframe\">\n",
       "  <thead>\n",
       "    <tr style=\"text-align: right;\">\n",
       "      <th></th>\n",
       "      <th>avg_price</th>\n",
       "      <th>avg_monthy_review</th>\n",
       "      <th>sample_count</th>\n",
       "    </tr>\n",
       "    <tr>\n",
       "      <th>neighborhood</th>\n",
       "      <th></th>\n",
       "      <th></th>\n",
       "      <th></th>\n",
       "    </tr>\n",
       "  </thead>\n",
       "  <tbody>\n",
       "    <tr>\n",
       "      <th>Columbia St</th>\n",
       "      <td>716.66</td>\n",
       "      <td>1.22</td>\n",
       "      <td>89</td>\n",
       "    </tr>\n",
       "    <tr>\n",
       "      <th>Briarwood</th>\n",
       "      <td>702.28</td>\n",
       "      <td>1.57</td>\n",
       "      <td>121</td>\n",
       "    </tr>\n",
       "    <tr>\n",
       "      <th>Stapleton</th>\n",
       "      <td>698.09</td>\n",
       "      <td>1.97</td>\n",
       "      <td>65</td>\n",
       "    </tr>\n",
       "    <tr>\n",
       "      <th>Gravesend</th>\n",
       "      <td>697.56</td>\n",
       "      <td>1.35</td>\n",
       "      <td>143</td>\n",
       "    </tr>\n",
       "    <tr>\n",
       "      <th>Cambria Heights</th>\n",
       "      <td>690.72</td>\n",
       "      <td>1.64</td>\n",
       "      <td>79</td>\n",
       "    </tr>\n",
       "    <tr>\n",
       "      <th>...</th>\n",
       "      <td>...</td>\n",
       "      <td>...</td>\n",
       "      <td>...</td>\n",
       "    </tr>\n",
       "    <tr>\n",
       "      <th>DUMBO</th>\n",
       "      <td>568.24</td>\n",
       "      <td>1.50</td>\n",
       "      <td>70</td>\n",
       "    </tr>\n",
       "    <tr>\n",
       "      <th>Fresh Meadows</th>\n",
       "      <td>564.36</td>\n",
       "      <td>2.30</td>\n",
       "      <td>100</td>\n",
       "    </tr>\n",
       "    <tr>\n",
       "      <th>Bayside</th>\n",
       "      <td>562.53</td>\n",
       "      <td>1.74</td>\n",
       "      <td>124</td>\n",
       "    </tr>\n",
       "    <tr>\n",
       "      <th>Richmond Hill</th>\n",
       "      <td>557.27</td>\n",
       "      <td>1.95</td>\n",
       "      <td>221</td>\n",
       "    </tr>\n",
       "    <tr>\n",
       "      <th>Concourse Village</th>\n",
       "      <td>547.01</td>\n",
       "      <td>1.36</td>\n",
       "      <td>76</td>\n",
       "    </tr>\n",
       "  </tbody>\n",
       "</table>\n",
       "<p>130 rows × 3 columns</p>\n",
       "</div>"
      ],
      "text/plain": [
       "                   avg_price  avg_monthy_review  sample_count\n",
       "neighborhood                                                 \n",
       "Columbia St           716.66               1.22            89\n",
       "Briarwood             702.28               1.57           121\n",
       "Stapleton             698.09               1.97            65\n",
       "Gravesend             697.56               1.35           143\n",
       "Cambria Heights       690.72               1.64            79\n",
       "...                      ...                ...           ...\n",
       "DUMBO                 568.24               1.50            70\n",
       "Fresh Meadows         564.36               2.30           100\n",
       "Bayside               562.53               1.74           124\n",
       "Richmond Hill         557.27               1.95           221\n",
       "Concourse Village     547.01               1.36            76\n",
       "\n",
       "[130 rows x 3 columns]"
      ]
     },
     "execution_count": 7,
     "metadata": {},
     "output_type": "execute_result"
    }
   ],
   "source": [
    "df_by_neighbor = df.groupby(by=['neighborhood']).agg(\n",
    "    sample_count = pd.NamedAgg(column='price', aggfunc='count'),\n",
    ")\n",
    "\n",
    "\n",
    "rare_neighbor = df_by_neighbor[df_by_neighbor.sample_count <= 50].index.values\n",
    "\n",
    "\n",
    "df_adjusted = df.loc[df.neighborhood.map (lambda n: n not in rare_neighbor), :]\n",
    "df_adjusted.groupby(by=['neighborhood']).agg(\n",
    "    avg_price=pd.NamedAgg(column='price', aggfunc='mean'),\n",
    "    avg_monthy_review=pd.NamedAgg(column='reviews_per_month', aggfunc='mean'),\n",
    "    sample_count = pd.NamedAgg(column='price', aggfunc='count'),\n",
    ").sort_values(by ='avg_price', ascending = False)"
   ]
  },
  {
   "cell_type": "code",
   "execution_count": 8,
   "metadata": {},
   "outputs": [
    {
     "data": {
      "text/plain": [
       "<AxesSubplot:title={'center':'daily rental price distribution'}, ylabel='Frequency'>"
      ]
     },
     "execution_count": 8,
     "metadata": {},
     "output_type": "execute_result"
    },
    {
     "data": {
      "image/png": "[encoded data removed]",
      "text/plain": [
       "<Figure size 640x480 with 1 Axes>"
      ]
     },
     "metadata": {},
     "output_type": "display_data"
    }
   ],
   "source": [
    "df_adjusted.groupby(by=['neighborhood']).agg(\n",
    "    avg_price=pd.NamedAgg(column='price', aggfunc='mean'),\n",
    ").avg_price.plot(kind = 'hist', title = 'daily rental price distribution')"
   ]
  },
  {
   "cell_type": "markdown",
   "metadata": {},
   "source": [
    "- appeared that there is no relationship between rental price and monthly review, probably owing to the unwillingness of customers to give review.\n",
    "- As a result, the review data is sparse and therefore invalid for drawing statistical conclusions"
   ]
  },
  {
   "cell_type": "code",
   "execution_count": 9,
   "metadata": {},
   "outputs": [
    {
     "name": "stdout",
     "output_type": "stream",
     "text": [
      "count   130.00\n",
      "mean    627.67\n",
      "std      29.75\n",
      "min     547.01\n",
      "25%     611.65\n",
      "50%     627.28\n",
      "75%     639.64\n",
      "max     716.66\n",
      "Name: avg_price, dtype: float64\n"
     ]
    },
    {
     "data": {
      "image/png": "[encoded data removed]",
      "text/plain": [
       "<Figure size 640x480 with 1 Axes>"
      ]
     },
     "metadata": {},
     "output_type": "display_data"
    }
   ],
   "source": [
    "df_adjusted.groupby(by=['neighborhood']).agg(\n",
    "    avg_price=pd.NamedAgg(column='price', aggfunc='mean'),\n",
    ").avg_price.plot(kind='box')\n",
    "\n",
    "print(df_adjusted.groupby(by=['neighborhood']).agg(\n",
    "    avg_price=pd.NamedAgg(column='price', aggfunc='mean'),\n",
    ").avg_price.describe())"
   ]
  },
  {
   "cell_type": "markdown",
   "metadata": {},
   "source": [
    "- It can be concluded from the box plot that the rental price features low variance and is roughly of normal distribution. That way, average price could be a good index for pricing."
   ]
  },
  {
   "cell_type": "code",
   "execution_count": 10,
   "metadata": {},
   "outputs": [],
   "source": [
    "# export cleaned dataset\n",
    "#df.to_csv(data_dir + 'property_data_cleaned.csv')"
   ]
  },
  {
   "cell_type": "markdown",
   "metadata": {},
   "source": [
    "##### EDA - Inside Airbnb NYC Listings\n",
    "- take a look at the relationship between monthly price and daily price"
   ]
  },
  {
   "cell_type": "code",
   "execution_count": 11,
   "metadata": {},
   "outputs": [
    {
     "name": "stderr",
     "output_type": "stream",
     "text": [
      "C:\\Users\\Chaconne\\AppData\\Local\\Temp\\ipykernel_23084\\610332070.py:1: DtypeWarning: Columns (17) have mixed types. Specify dtype option on import or set low_memory=False.\n",
      "  df_ia = pd.read_csv(data_dir + 'Obsolute/listings.csv')\n"
     ]
    },
    {
     "data": {
      "text/plain": [
       "(42931, 18)"
      ]
     },
     "execution_count": 11,
     "metadata": {},
     "output_type": "execute_result"
    }
   ],
   "source": [
    "df_ia = pd.read_csv(data_dir + 'Obsolute/listings.csv')\n",
    "df_ia.rename(columns=lib_sean.col_renamer, inplace=True)\n",
    "df_ia.shape\n"
   ]
  },
  {
   "cell_type": "code",
   "execution_count": 12,
   "metadata": {},
   "outputs": [
    {
     "data": {
      "text/plain": [
       "Index(['id', 'name', 'host_id', 'host_name', 'neighbourhood_group',\n",
       "       'neighbourhood', 'latitude', 'longitude', 'room_type', 'price',\n",
       "       'minimum_nights', 'number_of_reviews', 'last_review',\n",
       "       'reviews_per_month', 'calculated_host_listings_count',\n",
       "       'availability_365', 'number_of_reviews_ltm', 'license'],\n",
       "      dtype='object')"
      ]
     },
     "execution_count": 12,
     "metadata": {},
     "output_type": "execute_result"
    }
   ],
   "source": [
    "df_ia.columns\n"
   ]
  },
  {
   "cell_type": "markdown",
   "metadata": {},
   "source": [
    "##### EDA - Geographical set\n",
    "- tour site data\n",
    "    - looks good\n",
    "    - can perform geographical analysis and visualization using this dataset"
   ]
  },
  {
   "cell_type": "code",
   "execution_count": 13,
   "metadata": {},
   "outputs": [
    {
     "data": {
      "text/plain": [
       "Index(['tourist_spot', 'address', 'zipcode', 'coordinate'], dtype='object')"
      ]
     },
     "execution_count": 13,
     "metadata": {},
     "output_type": "execute_result"
    }
   ],
   "source": [
    "df_tour_site = pd.read_csv(data_dir + 'nyc_tour_sites_cleaned.csv')\n",
    "df_tour_site.rename(columns=lib_sean.col_renamer, inplace=True)\n",
    "df_tour_site.drop(columns='unnamed:_0', inplace=True)\n",
    "df_tour_site.columns"
   ]
  },
  {
   "cell_type": "code",
   "execution_count": 14,
   "metadata": {},
   "outputs": [
    {
     "data": {
      "text/html": [
       "<div>\n",
       "<style scoped>\n",
       "    .dataframe tbody tr th:only-of-type {\n",
       "        vertical-align: middle;\n",
       "    }\n",
       "\n",
       "    .dataframe tbody tr th {\n",
       "        vertical-align: top;\n",
       "    }\n",
       "\n",
       "    .dataframe thead th {\n",
       "        text-align: right;\n",
       "    }\n",
       "</style>\n",
       "<table border=\"1\" class=\"dataframe\">\n",
       "  <thead>\n",
       "    <tr style=\"text-align: right;\">\n",
       "      <th></th>\n",
       "      <th>tourist_spot</th>\n",
       "      <th>address</th>\n",
       "      <th>zipcode</th>\n",
       "      <th>coordinate</th>\n",
       "    </tr>\n",
       "  </thead>\n",
       "  <tbody>\n",
       "    <tr>\n",
       "      <th>0</th>\n",
       "      <td>47th Street - The Diamond District</td>\n",
       "      <td>47th St. betw. Fifth &amp; Sixth Aves. Manhattan, ...</td>\n",
       "      <td>10036</td>\n",
       "      <td>(40.7442623, -73.9918052)</td>\n",
       "    </tr>\n",
       "    <tr>\n",
       "      <th>1</th>\n",
       "      <td>9/11 Memorial &amp; Museum</td>\n",
       "      <td>World Trade Center (museum: 180 Greenwich St.)...</td>\n",
       "      <td>10007</td>\n",
       "      <td>(40.7115647, -74.0132182)</td>\n",
       "    </tr>\n",
       "    <tr>\n",
       "      <th>2</th>\n",
       "      <td>Abyssinian Baptist Church</td>\n",
       "      <td>132 Odell Clark Place New York, NY 10030, Harlem</td>\n",
       "      <td>10030</td>\n",
       "      <td>(40.816662, -73.9415389)</td>\n",
       "    </tr>\n",
       "    <tr>\n",
       "      <th>3</th>\n",
       "      <td>Alice Austen House Museum</td>\n",
       "      <td>2 Hylan Blvd. Staten Island, NY 10305, Staten ...</td>\n",
       "      <td>10305</td>\n",
       "      <td>(40.6151351, -74.06301789999999)</td>\n",
       "    </tr>\n",
       "    <tr>\n",
       "      <th>4</th>\n",
       "      <td>Alice Tully Hall</td>\n",
       "      <td>1941 Broadway Manhattan, NY 10023, Upper West ...</td>\n",
       "      <td>10023</td>\n",
       "      <td>(40.7737028, -73.9826405)</td>\n",
       "    </tr>\n",
       "  </tbody>\n",
       "</table>\n",
       "</div>"
      ],
      "text/plain": [
       "                         tourist_spot  \\\n",
       "0  47th Street - The Diamond District   \n",
       "1              9/11 Memorial & Museum   \n",
       "2           Abyssinian Baptist Church   \n",
       "3           Alice Austen House Museum   \n",
       "4                    Alice Tully Hall   \n",
       "\n",
       "                                             address zipcode  \\\n",
       "0  47th St. betw. Fifth & Sixth Aves. Manhattan, ...   10036   \n",
       "1  World Trade Center (museum: 180 Greenwich St.)...   10007   \n",
       "2   132 Odell Clark Place New York, NY 10030, Harlem   10030   \n",
       "3  2 Hylan Blvd. Staten Island, NY 10305, Staten ...   10305   \n",
       "4  1941 Broadway Manhattan, NY 10023, Upper West ...   10023   \n",
       "\n",
       "                         coordinate  \n",
       "0         (40.7442623, -73.9918052)  \n",
       "1         (40.7115647, -74.0132182)  \n",
       "2          (40.816662, -73.9415389)  \n",
       "3  (40.6151351, -74.06301789999999)  \n",
       "4         (40.7737028, -73.9826405)  "
      ]
     },
     "execution_count": 14,
     "metadata": {},
     "output_type": "execute_result"
    }
   ],
   "source": [
    "df_tour_site.head(5)"
   ]
  },
  {
   "cell_type": "code",
   "execution_count": 86,
   "metadata": {},
   "outputs": [
    {
     "data": {
      "text/plain": [
       "dtype('O')"
      ]
     },
     "execution_count": 86,
     "metadata": {},
     "output_type": "execute_result"
    }
   ],
   "source": []
  },
  {
   "cell_type": "markdown",
   "metadata": {},
   "source": [
    "##### EDA - DOF Summary of Neighborhood Sales by Neighborhood Citywide by Borough\n",
    "    - Records sales of homes\n",
    "    - rows are kind of few\n",
    "    - many rows are out dated (records from around 10 years ago)\n",
    "    - most recent records were from 2021. The dataset appears obsolute"
   ]
  },
  {
   "cell_type": "code",
   "execution_count": 15,
   "metadata": {},
   "outputs": [],
   "source": [
    "df_cny_sale = pd.read_csv(\n",
    "    data_dir + 'DOF__Summary_of_Neighborhood_Sales_by_Neighborhood_Citywide_by_Borough.csv')\n"
   ]
  },
  {
   "cell_type": "code",
   "execution_count": 16,
   "metadata": {},
   "outputs": [
    {
     "data": {
      "text/plain": [
       "(7180, 9)"
      ]
     },
     "execution_count": 16,
     "metadata": {},
     "output_type": "execute_result"
    }
   ],
   "source": [
    "df_cny_sale.shape\n"
   ]
  },
  {
   "cell_type": "code",
   "execution_count": 17,
   "metadata": {},
   "outputs": [
    {
     "data": {
      "text/plain": [
       "Index(['BOROUGH', 'NEIGHBORHOOD', 'TYPE OF HOME', 'NUMBER OF SALES',\n",
       "       'LOWEST SALE PRICE', 'AVERAGE SALE PRICE', 'MEDIAN SALE PRICE',\n",
       "       'HIGHEST SALE PRICE', 'YEAR'],\n",
       "      dtype='object')"
      ]
     },
     "execution_count": 17,
     "metadata": {},
     "output_type": "execute_result"
    }
   ],
   "source": [
    "df_cny_sale.columns\n"
   ]
  },
  {
   "cell_type": "code",
   "execution_count": 18,
   "metadata": {},
   "outputs": [
    {
     "data": {
      "text/plain": [
       "SUNNYSIDE                   67\n",
       "BOERUM HILL                 36\n",
       "CLINTON HILL                36\n",
       "FLATBUSH-NORTH              36\n",
       "FLATBUSH-LEFFERTS GARDEN    36\n",
       "Name: NEIGHBORHOOD, dtype: int64"
      ]
     },
     "execution_count": 18,
     "metadata": {},
     "output_type": "execute_result"
    }
   ],
   "source": [
    "df_cny_sale.NEIGHBORHOOD.value_counts()[:5]\n"
   ]
  },
  {
   "cell_type": "code",
   "execution_count": 19,
   "metadata": {},
   "outputs": [
    {
     "data": {
      "text/plain": [
       "2021    615\n",
       "2013    611\n",
       "2015    607\n",
       "2014    605\n",
       "2016    604\n",
       "2018    602\n",
       "2019    598\n",
       "2017    594\n",
       "2012    592\n",
       "2010    587\n",
       "2020    586\n",
       "2011    579\n",
       "Name: YEAR, dtype: int64"
      ]
     },
     "execution_count": 19,
     "metadata": {},
     "output_type": "execute_result"
    }
   ],
   "source": [
    "df_cny_sale.YEAR.value_counts()\n"
   ]
  },
  {
   "cell_type": "markdown",
   "metadata": {},
   "source": [
    "##### EDA - Dataset: nyc property assessment data\n",
    "    - comprehensive and with sufficient rows.\n",
    "    - some columns' meaning are not yet understood."
   ]
  },
  {
   "cell_type": "code",
   "execution_count": 20,
   "metadata": {},
   "outputs": [
    {
     "name": "stderr",
     "output_type": "stream",
     "text": [
      "C:\\Users\\Chaconne\\AppData\\Local\\Temp\\ipykernel_23084\\1063153676.py:1: DtypeWarning: Columns (1,5,6,9,10,23,34,67,71,74,75,76,88,93,100,101,105,109,111,133) have mixed types. Specify dtype option on import or set low_memory=False.\n",
      "  df_assess_2023 = pd.read_csv(\n"
     ]
    }
   ],
   "source": [
    "df_assess_2023 = pd.read_csv(\n",
    "    data_dir + 'nyc_property_assessment_data_2023.csv').drop(columns='Unnamed: 0')\n"
   ]
  },
  {
   "cell_type": "code",
   "execution_count": 21,
   "metadata": {},
   "outputs": [
    {
     "data": {
      "text/plain": [
       "(1155828, 139)"
      ]
     },
     "execution_count": 21,
     "metadata": {},
     "output_type": "execute_result"
    }
   ],
   "source": [
    "df_assess_2023.shape\n"
   ]
  },
  {
   "cell_type": "code",
   "execution_count": 22,
   "metadata": {},
   "outputs": [
    {
     "data": {
      "text/plain": [
       "Index(['PARID', 'BORO', 'BLOCK', 'LOT', 'EASEMENT', 'SUBIDENT-REUC', 'RECTYPE',\n",
       "       'YEAR', 'IDENT', 'SUBIDENT',\n",
       "       ...\n",
       "       'STORAGE_AREA_GROSS', 'GARAGE_AREA', 'OTHER_AREA_GROSS',\n",
       "       'REUC_DESCRIPTION', 'EXTRACRDT', 'PYTAXFLAG', 'TENTAXFLAG',\n",
       "       'CBNTAXFLAG', 'FINTAXFLAG', 'CURTAXFLAG'],\n",
       "      dtype='object', length=139)"
      ]
     },
     "execution_count": 22,
     "metadata": {},
     "output_type": "execute_result"
    }
   ],
   "source": [
    "df_assess_2023.columns"
   ]
  },
  {
   "cell_type": "code",
   "execution_count": 23,
   "metadata": {},
   "outputs": [
    {
     "data": {
      "text/plain": [
       "2.00      537526\n",
       "3.00      147660\n",
       "0.00      119508\n",
       "1.00       89363\n",
       "4.00       46244\n",
       "           ...  \n",
       "1.15           1\n",
       "13.50          1\n",
       "102.00         1\n",
       "706.00         1\n",
       "114.00         1\n",
       "Name: BLD_STORY, Length: 136, dtype: int64"
      ]
     },
     "execution_count": 23,
     "metadata": {},
     "output_type": "execute_result"
    }
   ],
   "source": [
    "df_assess_2023.BLD_STORY.value_counts()\n"
   ]
  },
  {
   "cell_type": "markdown",
   "metadata": {},
   "source": [
    "##### EDA - Borough-wise sales data from https://www.nyc.gov/site/finance/taxes/property-rolling-sales-data.page"
   ]
  },
  {
   "cell_type": "code",
   "execution_count": 24,
   "metadata": {},
   "outputs": [],
   "source": [
    "df_bkl = pd.read_excel(data_dir + 'rollingsales_brooklyn.xlsx')\n",
    "df_brn = pd.read_excel(data_dir + 'rollingsales_bronx.xlsx')\n",
    "df_mht = pd.read_excel(data_dir + 'rollingsales_manhattan.xlsx')\n",
    "df_qns = pd.read_excel(data_dir + 'rollingsales_queens.xlsx')\n",
    "df_sti = pd.read_excel(data_dir + 'rollingsales_statenisland.xlsx')\n",
    "\n",
    "df_list = [df_bkl, df_brn, df_mht, df_qns, df_sti]\n",
    "\n",
    "df_rs = pd.concat(df_list)\n"
   ]
  },
  {
   "cell_type": "code",
   "execution_count": 25,
   "metadata": {},
   "outputs": [
    {
     "data": {
      "text/plain": [
       "(84391, 21)"
      ]
     },
     "execution_count": 25,
     "metadata": {},
     "output_type": "execute_result"
    }
   ],
   "source": [
    "df_rs.shape\n"
   ]
  },
  {
   "cell_type": "code",
   "execution_count": 26,
   "metadata": {},
   "outputs": [
    {
     "data": {
      "text/plain": [
       "True"
      ]
     },
     "execution_count": 26,
     "metadata": {},
     "output_type": "execute_result"
    }
   ],
   "source": [
    "# check if concat is performed correctly\n",
    "col_same = True\n",
    "comparer = df_list[0]\n",
    "for i in range(1, 5):\n",
    "    col_same = col_same and all(comparer.columns == df_list[i].columns)\n",
    "col_same\n"
   ]
  },
  {
   "cell_type": "code",
   "execution_count": 27,
   "metadata": {},
   "outputs": [
    {
     "data": {
      "text/plain": [
       "Index(['borough', 'neighborhood', 'building_class_category',\n",
       "       'tax_class_at_present', 'block', 'lot', 'easement',\n",
       "       'building_class_at_present', 'address', 'apartment_number', 'zip_code',\n",
       "       'residential_units', 'commercial_units', 'total_units',\n",
       "       'land_square_feet', 'gross_square_feet', 'year_built',\n",
       "       'tax_class_at_time_of_sale', 'building_class_at_time_of_sale',\n",
       "       'sale_price', 'sale_date'],\n",
       "      dtype='object')"
      ]
     },
     "execution_count": 27,
     "metadata": {},
     "output_type": "execute_result"
    }
   ],
   "source": [
    "df_rs.rename(columns=lib_sean.col_renamer, inplace=True)\n",
    "df_rs.columns"
   ]
  },
  {
   "cell_type": "markdown",
   "metadata": {},
   "source": [
    "- the data contains sales of differet building categories. \n",
    "- Should drop categories that are not for rental business. For example, warehouse and office buildings.\n",
    "- Should enlarge the granularity of the factors, i.e., to merge levels that refer to similar building types."
   ]
  },
  {
   "cell_type": "code",
   "execution_count": 28,
   "metadata": {},
   "outputs": [
    {
     "data": {
      "text/plain": [
       "01 ONE FAMILY DWELLINGS                       17173\n",
       "02 TWO FAMILY DWELLINGS                       14993\n",
       "13 CONDOS - ELEVATOR APARTMENTS               14382\n",
       "10 COOPS - ELEVATOR APARTMENTS                14265\n",
       "03 THREE FAMILY DWELLINGS                      4226\n",
       "07 RENTALS - WALKUP APARTMENTS                 3004\n",
       "09 COOPS - WALKUP APARTMENTS                   2778\n",
       "15 CONDOS - 2-10 UNIT RESIDENTIAL              1604\n",
       "04 TAX CLASS 1 CONDOS                          1543\n",
       "44 CONDO PARKING                               1489\n",
       "17 CONDO COOPS                                 1331\n",
       "12 CONDOS - WALKUP APARTMENTS                   979\n",
       "05 TAX CLASS 1 VACANT LAND                      931\n",
       "22 STORE BUILDINGS                              790\n",
       "14 RENTALS - 4-10 UNIT                          640\n",
       "08 RENTALS - ELEVATOR APARTMENTS                505\n",
       "47 CONDO NON-BUSINESS STORAGE                   465\n",
       "29 COMMERCIAL GARAGES                           463\n",
       "43 CONDO OFFICE BUILDINGS                       340\n",
       "11 SPECIAL CONDO BILLING LOTS                   331\n",
       "21 OFFICE BUILDINGS                             300\n",
       "30 WAREHOUSES                                   284\n",
       "31 COMMERCIAL VACANT LAND                       257\n",
       "27 FACTORIES                                    187\n",
       "46 CONDO STORE BUILDINGS                        153\n",
       "06 TAX CLASS 1 - OTHER                          138\n",
       "16 CONDOS - 2-10 UNIT WITH COMMERCIAL UNIT      130\n",
       "28 COMMERCIAL CONDOS                            129\n",
       "41 TAX CLASS 4 - OTHER                          121\n",
       "37 RELIGIOUS FACILITIES                          88\n",
       "45 CONDO HOTELS                                  71\n",
       "26 OTHER HOTELS                                  58\n",
       "33 EDUCATIONAL FACILITIES                        39\n",
       "48 CONDO TERRACES/GARDENS/CABANAS                38\n",
       "49 CONDO WAREHOUSES/FACTORY/INDUS                32\n",
       "32 HOSPITAL AND HEALTH FACILITIES                27\n",
       "36 OUTDOOR RECREATIONAL FACILITIES               26\n",
       "35 INDOOR PUBLIC AND CULTURAL FACILITIES         25\n",
       "38 ASYLUMS AND HOMES                             17\n",
       "42 CONDO CULTURAL/MEDICAL/EDUCATIONAL/ETC        16\n",
       "25 LUXURY HOTELS                                 13\n",
       "34 THEATRES                                       6\n",
       "39 TRANSPORTATION FACILITIES                      2\n",
       "40 SELECTED GOVERNMENTAL FACILITIES               2\n",
       "Name: building_class_category, dtype: int64"
      ]
     },
     "execution_count": 28,
     "metadata": {},
     "output_type": "execute_result"
    }
   ],
   "source": [
    "df_rs.building_class_category.value_counts()\n"
   ]
  },
  {
   "cell_type": "code",
   "execution_count": 29,
   "metadata": {},
   "outputs": [
    {
     "data": {
      "text/plain": [
       "['01 ONE FAMILY DWELLINGS',\n",
       " '02 TWO FAMILY DWELLINGS',\n",
       " '03 THREE FAMILY DWELLINGS',\n",
       " '04 TAX CLASS 1 CONDOS',\n",
       " '06 TAX CLASS 1 - OTHER',\n",
       " '07 RENTALS - WALKUP APARTMENTS',\n",
       " '08 RENTALS - ELEVATOR APARTMENTS',\n",
       " '09 COOPS - WALKUP APARTMENTS',\n",
       " '10 COOPS - ELEVATOR APARTMENTS',\n",
       " '11 SPECIAL CONDO BILLING LOTS',\n",
       " '12 CONDOS - WALKUP APARTMENTS',\n",
       " '13 CONDOS - ELEVATOR APARTMENTS',\n",
       " '14 RENTALS - 4-10 UNIT',\n",
       " '15 CONDOS - 2-10 UNIT RESIDENTIAL',\n",
       " '17 CONDO COOPS',\n",
       " '25 LUXURY HOTELS',\n",
       " '26 OTHER HOTELS',\n",
       " '41 TAX CLASS 4 - OTHER',\n",
       " '42 CONDO CULTURAL/MEDICAL/EDUCATIONAL/ETC',\n",
       " '45 CONDO HOTELS',\n",
       " '47 CONDO NON-BUSINESS STORAGE',\n",
       " '48 CONDO TERRACES/GARDENS/CABANAS']"
      ]
     },
     "execution_count": 29,
     "metadata": {},
     "output_type": "execute_result"
    }
   ],
   "source": [
    "def is_non_commercial_building_category(category: str) -> bool:\n",
    "    \"\"\"\n",
    "    assert if the building category is non commercial\n",
    "    \"\"\"\n",
    "\n",
    "    pat_commercial = r'LAND|WAREHOUSE|THEATRES|TRANSPORTATION|GOVERNMENTAL|STORE|FACTORIES|OFFICE|COMMERCIAL|PARKING|RELIGIOUS|ASYLUMS|FACILITIES'\n",
    "\n",
    "    non_commercial = not re.search(pattern=pat_commercial, string=category)\n",
    "    return non_commercial\n",
    "\n",
    "\n",
    "filter_noncom_building_cate = filter(\n",
    "    is_non_commercial_building_category, np.unique(df_rs.building_class_category.values))\n",
    "# list that contains all the non commercial building categories\n",
    "noncom_building_cate = list(filter_noncom_building_cate)\n",
    "noncom_building_cate\n"
   ]
  },
  {
   "cell_type": "code",
   "execution_count": 30,
   "metadata": {},
   "outputs": [
    {
     "data": {
      "text/plain": [
       "(78674, 21)"
      ]
     },
     "execution_count": 30,
     "metadata": {},
     "output_type": "execute_result"
    }
   ],
   "source": [
    "# filter out records of commercial buildings\n",
    "df_rs = df_rs.loc[df_rs.building_class_category.map(\n",
    "    lambda v: v in noncom_building_cate), :]\n",
    "df_rs.shape\n"
   ]
  },
  {
   "cell_type": "code",
   "execution_count": 31,
   "metadata": {},
   "outputs": [
    {
     "data": {
      "text/plain": [
       "DWELLINGS     36392\n",
       "APARTMENTS    20552\n",
       "CONDOS        18508\n",
       "OTHER          3222\n",
       "Name: building_class_category, dtype: int64"
      ]
     },
     "execution_count": 31,
     "metadata": {},
     "output_type": "execute_result"
    }
   ],
   "source": [
    "def merge_building_category(bc: str) -> str:\n",
    "    \"\"\"\n",
    "    merge building categories of similar interest into one\n",
    "    \"\"\"\n",
    "\n",
    "    pat_dwell = r'DWELLINGS'\n",
    "    pat_cond = r'CONDOS'\n",
    "    pat_apt = r'APARTMENTS'\n",
    "\n",
    "    is_dwell = re.search(pattern=pat_dwell, string=bc)\n",
    "    if is_dwell:\n",
    "        return pat_dwell\n",
    "\n",
    "    is_cond = re.search(pattern=pat_cond, string=bc)\n",
    "    if is_cond:\n",
    "        return pat_cond\n",
    "\n",
    "    is_apt = re.search(pattern=pat_apt, string=bc)\n",
    "    if is_apt:\n",
    "        return pat_apt\n",
    "\n",
    "    return 'OTHER'\n",
    "\n",
    "\n",
    "# merge building categories of similar features into one\n",
    "df_rs.building_class_category = df_rs.building_class_category.map(\n",
    "    merge_building_category)\n",
    "df_rs.building_class_category.value_counts()\n"
   ]
  },
  {
   "cell_type": "markdown",
   "metadata": {},
   "source": [
    "- There are recoreds with zero sale price which should be dropped.\n",
    "- has no clue of imputation"
   ]
  },
  {
   "cell_type": "code",
   "execution_count": 32,
   "metadata": {},
   "outputs": [
    {
     "data": {
      "text/plain": [
       "0         22135\n",
       "10          728\n",
       "650000      470\n",
       "750000      450\n",
       "800000      425\n",
       "Name: sale_price, dtype: int64"
      ]
     },
     "execution_count": 32,
     "metadata": {},
     "output_type": "execute_result"
    }
   ],
   "source": [
    "df_rs.sale_price.value_counts()[:5]"
   ]
  },
  {
   "cell_type": "code",
   "execution_count": 33,
   "metadata": {},
   "outputs": [
    {
     "name": "stdout",
     "output_type": "stream",
     "text": [
      "(56539, 21)\n"
     ]
    },
    {
     "data": {
      "text/plain": [
       "dtype('int64')"
      ]
     },
     "execution_count": 33,
     "metadata": {},
     "output_type": "execute_result"
    }
   ],
   "source": [
    "df_rs = df_rs[df_rs.sale_price != 0]\n",
    "print(df_rs.shape)\n",
    "df_rs.sale_price.dtype"
   ]
  },
  {
   "cell_type": "code",
   "execution_count": 34,
   "metadata": {},
   "outputs": [
    {
     "data": {
      "text/html": [
       "<div>\n",
       "<style scoped>\n",
       "    .dataframe tbody tr th:only-of-type {\n",
       "        vertical-align: middle;\n",
       "    }\n",
       "\n",
       "    .dataframe tbody tr th {\n",
       "        vertical-align: top;\n",
       "    }\n",
       "\n",
       "    .dataframe thead th {\n",
       "        text-align: right;\n",
       "    }\n",
       "</style>\n",
       "<table border=\"1\" class=\"dataframe\">\n",
       "  <thead>\n",
       "    <tr style=\"text-align: right;\">\n",
       "      <th></th>\n",
       "      <th></th>\n",
       "      <th>avg_sale_price</th>\n",
       "    </tr>\n",
       "    <tr>\n",
       "      <th>neighborhood</th>\n",
       "      <th>building_class_category</th>\n",
       "      <th></th>\n",
       "    </tr>\n",
       "  </thead>\n",
       "  <tbody>\n",
       "    <tr>\n",
       "      <th rowspan=\"2\" valign=\"top\">AIRPORT LA GUARDIA</th>\n",
       "      <th>CONDOS</th>\n",
       "      <td>455000.00</td>\n",
       "    </tr>\n",
       "    <tr>\n",
       "      <th>DWELLINGS</th>\n",
       "      <td>836398.33</td>\n",
       "    </tr>\n",
       "    <tr>\n",
       "      <th rowspan=\"3\" valign=\"top\">ALPHABET CITY</th>\n",
       "      <th>APARTMENTS</th>\n",
       "      <td>2873755.54</td>\n",
       "    </tr>\n",
       "    <tr>\n",
       "      <th>CONDOS</th>\n",
       "      <td>1361257.00</td>\n",
       "    </tr>\n",
       "    <tr>\n",
       "      <th>DWELLINGS</th>\n",
       "      <td>1133000.00</td>\n",
       "    </tr>\n",
       "    <tr>\n",
       "      <th>...</th>\n",
       "      <th>...</th>\n",
       "      <td>...</td>\n",
       "    </tr>\n",
       "    <tr>\n",
       "      <th>WOODSIDE</th>\n",
       "      <th>OTHER</th>\n",
       "      <td>1491000.00</td>\n",
       "    </tr>\n",
       "    <tr>\n",
       "      <th rowspan=\"4\" valign=\"top\">WYCKOFF HEIGHTS</th>\n",
       "      <th>APARTMENTS</th>\n",
       "      <td>1062518.52</td>\n",
       "    </tr>\n",
       "    <tr>\n",
       "      <th>CONDOS</th>\n",
       "      <td>762432.32</td>\n",
       "    </tr>\n",
       "    <tr>\n",
       "      <th>DWELLINGS</th>\n",
       "      <td>1327256.78</td>\n",
       "    </tr>\n",
       "    <tr>\n",
       "      <th>OTHER</th>\n",
       "      <td>1516286.17</td>\n",
       "    </tr>\n",
       "  </tbody>\n",
       "</table>\n",
       "<p>779 rows × 1 columns</p>\n",
       "</div>"
      ],
      "text/plain": [
       "                                            avg_sale_price\n",
       "neighborhood       building_class_category                \n",
       "AIRPORT LA GUARDIA CONDOS                        455000.00\n",
       "                   DWELLINGS                     836398.33\n",
       "ALPHABET CITY      APARTMENTS                   2873755.54\n",
       "                   CONDOS                       1361257.00\n",
       "                   DWELLINGS                    1133000.00\n",
       "...                                                    ...\n",
       "WOODSIDE           OTHER                        1491000.00\n",
       "WYCKOFF HEIGHTS    APARTMENTS                   1062518.52\n",
       "                   CONDOS                        762432.32\n",
       "                   DWELLINGS                    1327256.78\n",
       "                   OTHER                        1516286.17\n",
       "\n",
       "[779 rows x 1 columns]"
      ]
     },
     "execution_count": 34,
     "metadata": {},
     "output_type": "execute_result"
    }
   ],
   "source": [
    "df_rs.groupby(by=['neighborhood', 'building_class_category']).agg(\n",
    "    # column records the time frame of observed sales\n",
    "    #time_range = pd.NamedAgg(column='sale_date', aggfunc= lambda col: (col.min(), col.max())),\n",
    "\n",
    "    avg_sale_price=pd.NamedAgg(column='sale_price', aggfunc='mean'),\n",
    ")"
   ]
  },
  {
   "cell_type": "code",
   "execution_count": 35,
   "metadata": {},
   "outputs": [
    {
     "data": {
      "text/html": [
       "<div>\n",
       "<style scoped>\n",
       "    .dataframe tbody tr th:only-of-type {\n",
       "        vertical-align: middle;\n",
       "    }\n",
       "\n",
       "    .dataframe tbody tr th {\n",
       "        vertical-align: top;\n",
       "    }\n",
       "\n",
       "    .dataframe thead th {\n",
       "        text-align: right;\n",
       "    }\n",
       "</style>\n",
       "<table border=\"1\" class=\"dataframe\">\n",
       "  <thead>\n",
       "    <tr style=\"text-align: right;\">\n",
       "      <th></th>\n",
       "      <th></th>\n",
       "      <th>avg_sale_price</th>\n",
       "      <th>median_sale_price</th>\n",
       "      <th>sample_count</th>\n",
       "    </tr>\n",
       "    <tr>\n",
       "      <th>neighborhood</th>\n",
       "      <th>building_class_category</th>\n",
       "      <th></th>\n",
       "      <th></th>\n",
       "      <th></th>\n",
       "    </tr>\n",
       "  </thead>\n",
       "  <tbody>\n",
       "    <tr>\n",
       "      <th rowspan=\"4\" valign=\"top\">CHELSEA</th>\n",
       "      <th>APARTMENTS</th>\n",
       "      <td>1964745.04</td>\n",
       "      <td>680000.00</td>\n",
       "      <td>357</td>\n",
       "    </tr>\n",
       "    <tr>\n",
       "      <th>CONDOS</th>\n",
       "      <td>3231235.81</td>\n",
       "      <td>2397500.00</td>\n",
       "      <td>372</td>\n",
       "    </tr>\n",
       "    <tr>\n",
       "      <th>DWELLINGS</th>\n",
       "      <td>7299335.00</td>\n",
       "      <td>6748005.00</td>\n",
       "      <td>6</td>\n",
       "    </tr>\n",
       "    <tr>\n",
       "      <th>OTHER</th>\n",
       "      <td>2470844.47</td>\n",
       "      <td>861250.00</td>\n",
       "      <td>94</td>\n",
       "    </tr>\n",
       "    <tr>\n",
       "      <th rowspan=\"3\" valign=\"top\">FLATIRON</th>\n",
       "      <th>APARTMENTS</th>\n",
       "      <td>1481794.58</td>\n",
       "      <td>980000.00</td>\n",
       "      <td>115</td>\n",
       "    </tr>\n",
       "    <tr>\n",
       "      <th>CONDOS</th>\n",
       "      <td>2768421.18</td>\n",
       "      <td>2175000.00</td>\n",
       "      <td>184</td>\n",
       "    </tr>\n",
       "    <tr>\n",
       "      <th>OTHER</th>\n",
       "      <td>1390583.33</td>\n",
       "      <td>676500.00</td>\n",
       "      <td>12</td>\n",
       "    </tr>\n",
       "    <tr>\n",
       "      <th rowspan=\"4\" valign=\"top\">MURRAY HILL</th>\n",
       "      <th>APARTMENTS</th>\n",
       "      <td>844506.94</td>\n",
       "      <td>565000.00</td>\n",
       "      <td>281</td>\n",
       "    </tr>\n",
       "    <tr>\n",
       "      <th>CONDOS</th>\n",
       "      <td>2256465.82</td>\n",
       "      <td>1830000.00</td>\n",
       "      <td>402</td>\n",
       "    </tr>\n",
       "    <tr>\n",
       "      <th>DWELLINGS</th>\n",
       "      <td>5076000.00</td>\n",
       "      <td>4653000.00</td>\n",
       "      <td>3</td>\n",
       "    </tr>\n",
       "    <tr>\n",
       "      <th>OTHER</th>\n",
       "      <td>14090628.00</td>\n",
       "      <td>945600.00</td>\n",
       "      <td>11</td>\n",
       "    </tr>\n",
       "  </tbody>\n",
       "</table>\n",
       "</div>"
      ],
      "text/plain": [
       "                                      avg_sale_price  median_sale_price  \\\n",
       "neighborhood building_class_category                                      \n",
       "CHELSEA      APARTMENTS                   1964745.04          680000.00   \n",
       "             CONDOS                       3231235.81         2397500.00   \n",
       "             DWELLINGS                    7299335.00         6748005.00   \n",
       "             OTHER                        2470844.47          861250.00   \n",
       "FLATIRON     APARTMENTS                   1481794.58          980000.00   \n",
       "             CONDOS                       2768421.18         2175000.00   \n",
       "             OTHER                        1390583.33          676500.00   \n",
       "MURRAY HILL  APARTMENTS                    844506.94          565000.00   \n",
       "             CONDOS                       2256465.82         1830000.00   \n",
       "             DWELLINGS                    5076000.00         4653000.00   \n",
       "             OTHER                       14090628.00          945600.00   \n",
       "\n",
       "                                      sample_count  \n",
       "neighborhood building_class_category                \n",
       "CHELSEA      APARTMENTS                        357  \n",
       "             CONDOS                            372  \n",
       "             DWELLINGS                           6  \n",
       "             OTHER                              94  \n",
       "FLATIRON     APARTMENTS                        115  \n",
       "             CONDOS                            184  \n",
       "             OTHER                              12  \n",
       "MURRAY HILL  APARTMENTS                        281  \n",
       "             CONDOS                            402  \n",
       "             DWELLINGS                           3  \n",
       "             OTHER                              11  "
      ]
     },
     "execution_count": 35,
     "metadata": {},
     "output_type": "execute_result"
    }
   ],
   "source": [
    "df_rs.loc[\n",
    "        df_rs.neighborhood.map(lambda n: n in ['FLATIRON', 'CHELSEA', 'MURRAY HILL'])\n",
    "    ].groupby(by=['neighborhood', 'building_class_category']).agg(\n",
    "    # column records the time frame of observed sales\n",
    "    #time_range = pd.NamedAgg(column='sale_date', aggfunc= lambda col: (col.min(), col.max())),\n",
    "\n",
    "    avg_sale_price=pd.NamedAgg(column='sale_price', aggfunc='mean'),\n",
    "    median_sale_price = pd.NamedAgg(column='sale_price', aggfunc='median'),\n",
    "    sample_count = pd.NamedAgg(column= 'sale_price', aggfunc='count')\n",
    ")"
   ]
  },
  {
   "cell_type": "markdown",
   "metadata": {},
   "source": [
    "- appears in the neighborhoods apartments are the cheapest building category"
   ]
  },
  {
   "cell_type": "markdown",
   "metadata": {},
   "source": [
    "- export cleaned rolling sales dataset"
   ]
  },
  {
   "cell_type": "code",
   "execution_count": 36,
   "metadata": {},
   "outputs": [],
   "source": [
    "#df_rs.to_csv(data_dir + 'nyc_rolling_sales_merged.csv', index=False)"
   ]
  },
  {
   "cell_type": "markdown",
   "metadata": {},
   "source": [
    "##### EDA - condo rental income from https://data.cityofnewyork.us/City-Government/DOF-Cooperative-Comparable-Rental-Income-Citywide-/myei-c3fa\n",
    "- this dataset provides info regarding the rental income of rental properties in NYC\n",
    "- could be used for forecasting future rental income\n",
    "- also note that NOI (net operating income) is the most commonly used metric for evaluating rental property profitability\n",
    "- first of all, drop rows having no neighborhood values"
   ]
  },
  {
   "cell_type": "code",
   "execution_count": 211,
   "metadata": {},
   "outputs": [
    {
     "name": "stdout",
     "output_type": "stream",
     "text": [
      "(28505, 65)\n"
     ]
    }
   ],
   "source": [
    "df_rental_income = pd.read_csv(\n",
    "    data_dir + 'DOF_Condominium_Comparable_Rental_Income_in_NYC_Cleaned.csv', encoding='utf-8').drop(columns='unnamed:_0')\n",
    "print(df_rental_income.shape)\n",
    "df_rental_income.rename(columns=lib_sean.col_renamer, inplace=True)\n",
    "df_rental_income.dropna(axis=0, subset='neighborhood', how='any', inplace=True)"
   ]
  },
  {
   "cell_type": "code",
   "execution_count": 212,
   "metadata": {},
   "outputs": [
    {
     "name": "stdout",
     "output_type": "stream",
     "text": [
      "0\n"
     ]
    },
    {
     "data": {
      "text/plain": [
       "Index(['boro_block_lot', 'condo_section', 'address', 'neighborhood',\n",
       "       'building_classification', 'total_units', 'year_built', 'gross_sqft',\n",
       "       'estimated_gross_income', 'gross_income_per_sqft', 'estimated_expense',\n",
       "       'expense_per_sqft', 'net_operating_income', 'full_market_value',\n",
       "       'market_value_per_sqft', 'boro_block_lot_1', 'address_1',\n",
       "       'neighborhood_1', 'building_classification_1', 'total_units_1',\n",
       "       'year_built_1', 'gross_sqft_1', 'estimated_gross_income_1',\n",
       "       'gross_income_per_sqft_1', 'estimated_expense_1', 'expense_per_sqft_1',\n",
       "       'net_operating_income_1', 'full_market_value_1',\n",
       "       'market_value_per_sqft_1', 'distance_from_condo_in_miles',\n",
       "       'boro_block_lot_2', 'address_2', 'neighborhood_2',\n",
       "       'building_classification_2', 'total_units_2', 'year_built_2',\n",
       "       'gross_sqft_2', 'estimated_gross_income_2', 'gross_income_per_sqft_2',\n",
       "       'estimated_expense_2', 'expense_per_sqft_2', 'net_operating_income_2',\n",
       "       'full_market_value_2', 'market_value_per_sqft_2',\n",
       "       'distance_from_condo_in_miles_1', 'boro_block_lot_3', 'address_3',\n",
       "       'neighborhood_3', 'building_classification_3', 'total_units_3',\n",
       "       'year_built_3', 'gross_sqft_3', 'estimated_gross_income_3',\n",
       "       'gross_income_per_sqft_3', 'estimated_expense_3', 'expense_per_sqft_3',\n",
       "       'net_operating_income_3', 'full_market_value_3',\n",
       "       'market_value_per_sqft_3', 'distance_from_condo_in_miles_2',\n",
       "       'report_year', 'unit_noi', 'sqft_noi', 'latitude', 'longitude'],\n",
       "      dtype='object')"
      ]
     },
     "execution_count": 212,
     "metadata": {},
     "output_type": "execute_result"
    }
   ],
   "source": [
    "print(df_rental_income.neighborhood.isna().sum())\n",
    "df_rental_income.columns"
   ]
  },
  {
   "cell_type": "code",
   "execution_count": 39,
   "metadata": {},
   "outputs": [],
   "source": [
    "# df_rental_income.neighborhood = df_rental_income.neighborhood.map(\n",
    "#     lambda n: str(n,).replace('\\xa0', ' ')\n",
    "# )"
   ]
  },
  {
   "cell_type": "code",
   "execution_count": 213,
   "metadata": {},
   "outputs": [
    {
     "data": {
      "text/plain": [
       "(28505, 65)"
      ]
     },
     "execution_count": 213,
     "metadata": {},
     "output_type": "execute_result"
    }
   ],
   "source": [
    "df_rental_income.shape"
   ]
  },
  {
   "cell_type": "code",
   "execution_count": 214,
   "metadata": {},
   "outputs": [],
   "source": [
    "def compare_by_column(df: pd.DataFrame, col_name: str) -> pd.DataFrame:\n",
    "    \"\"\"\n",
    "    select the target column of interest along with the other three comparable reference columns\n",
    "    \"\"\"\n",
    "    list_col_names = [col_name]\n",
    "    for i in range(1, 4):\n",
    "        comparer_col_name = col_name + '_' + str(i)\n",
    "        list_col_names.append(comparer_col_name)\n",
    "    df_res = df[list_col_names]\n",
    "    return df_res"
   ]
  },
  {
   "cell_type": "code",
   "execution_count": 215,
   "metadata": {},
   "outputs": [
    {
     "data": {
      "text/plain": [
       "<AxesSubplot:ylabel='Frequency'>"
      ]
     },
     "execution_count": 215,
     "metadata": {},
     "output_type": "execute_result"
    },
    {
     "data": {
      "image/png": "[encoded data removed]",
      "text/plain": [
       "<Figure size 640x480 with 1 Axes>"
      ]
     },
     "metadata": {},
     "output_type": "display_data"
    }
   ],
   "source": [
    "df_rental_income.neighborhood.value_counts().plot(kind='hist')"
   ]
  },
  {
   "cell_type": "code",
   "execution_count": 216,
   "metadata": {},
   "outputs": [
    {
     "name": "stdout",
     "output_type": "stream",
     "text": [
      "200.0\n",
      "51.0\n",
      "13.0\n",
      "154.91847826086956\n"
     ]
    },
    {
     "data": {
      "image/png": "[encoded data removed]",
      "text/plain": [
       "<Figure size 640x480 with 1 Axes>"
      ]
     },
     "metadata": {},
     "output_type": "display_data"
    }
   ],
   "source": [
    "df_rental_income.neighborhood.value_counts().plot(kind='box')\n",
    "print(df_rental_income.neighborhood.value_counts().quantile(q=0.75))\n",
    "print(df_rental_income.neighborhood.value_counts().quantile(q=0.5))\n",
    "print(df_rental_income.neighborhood.value_counts().quantile(q=0.25))\n",
    "print(df_rental_income.neighborhood.value_counts().mean())"
   ]
  },
  {
   "cell_type": "markdown",
   "metadata": {},
   "source": [
    "- histogram of neighborhood value counts is of Pareto distribution.\n",
    "- median of the distribution is 26 while upper quartile is 104.5\n",
    "- use 50 as cutoff to filter out those neighborhoods whose frequency in the dataset is too low\n",
    "- should thus drop those with rare frequency as in later phase we will do many aggregation operations"
   ]
  },
  {
   "cell_type": "code",
   "execution_count": 217,
   "metadata": {},
   "outputs": [
    {
     "data": {
      "text/plain": [
       "(26920, 65)"
      ]
     },
     "execution_count": 217,
     "metadata": {},
     "output_type": "execute_result"
    }
   ],
   "source": [
    "neighbor_to_freq = dict(df_rental_income.neighborhood.value_counts())\n",
    "\n",
    "df_condo_adjusted = df_rental_income.loc[\n",
    "    df_rental_income.neighborhood.map(lambda n: neighbor_to_freq[n] >= 50), :\n",
    "]\n",
    "df_condo_adjusted.shape"
   ]
  },
  {
   "cell_type": "markdown",
   "metadata": {},
   "source": [
    "- the profitability now is computed at unit level.\n",
    "- this is because a property may contain multiple units, computation at property level may be biased for this multiplicity\n",
    "- with the unit NOI we will then decide what are the neighborhoods with the highest unit NOI"
   ]
  },
  {
   "cell_type": "code",
   "execution_count": 218,
   "metadata": {},
   "outputs": [
    {
     "data": {
      "text/plain": [
       "count   26920.00\n",
       "mean       64.46\n",
       "std       198.83\n",
       "min         1.00\n",
       "25%        15.00\n",
       "50%        29.00\n",
       "75%        69.00\n",
       "max     20363.00\n",
       "Name: total_units, dtype: float64"
      ]
     },
     "execution_count": 218,
     "metadata": {},
     "output_type": "execute_result"
    }
   ],
   "source": [
    "df_condo_adjusted.total_units.describe()"
   ]
  },
  {
   "cell_type": "code",
   "execution_count": 46,
   "metadata": {},
   "outputs": [],
   "source": [
    "# df_rental_income['unit_noi'] = df_rental_income.net_operating_income / df_rental_income.total_units\n",
    "# df_rental_income['sqft_noi'] = df_rental_income.net_operating_income / df_rental_income.gross_sqft"
   ]
  },
  {
   "cell_type": "code",
   "execution_count": 219,
   "metadata": {},
   "outputs": [
    {
     "data": {
      "text/plain": [
       "2021    3622\n",
       "2020    2381\n",
       "2019    2526\n",
       "2018    2792\n",
       "2017    2801\n",
       "Name: report_year, dtype: int64"
      ]
     },
     "execution_count": 219,
     "metadata": {},
     "output_type": "execute_result"
    }
   ],
   "source": [
    "df_condo_adjusted.report_year.value_counts().sort_index(ascending=False)[:5]"
   ]
  },
  {
   "cell_type": "code",
   "execution_count": 220,
   "metadata": {},
   "outputs": [
    {
     "data": {
      "text/plain": [
       "<AxesSubplot:title={'center':'Yearly Avg. Property NOI in Million'}, xlabel='report_year'>"
      ]
     },
     "execution_count": 220,
     "metadata": {},
     "output_type": "execute_result"
    },
    {
     "data": {
      "image/png": "[encoded data removed]",
      "text/plain": [
       "<Figure size 640x480 with 1 Axes>"
      ]
     },
     "metadata": {},
     "output_type": "display_data"
    }
   ],
   "source": [
    "df_condo_adjusted.groupby(by=['report_year']).agg(\n",
    "    avg_noi=pd.NamedAgg(column='net_operating_income',\n",
    "                        aggfunc=lambda c: c.mean() / 1000000),\n",
    ").plot(\n",
    "    kind='line', title='Yearly Avg. Property NOI in Million'\n",
    ")\n"
   ]
  },
  {
   "cell_type": "code",
   "execution_count": 221,
   "metadata": {},
   "outputs": [
    {
     "data": {
      "text/html": [
       "<div>\n",
       "<style scoped>\n",
       "    .dataframe tbody tr th:only-of-type {\n",
       "        vertical-align: middle;\n",
       "    }\n",
       "\n",
       "    .dataframe tbody tr th {\n",
       "        vertical-align: top;\n",
       "    }\n",
       "\n",
       "    .dataframe thead th {\n",
       "        text-align: right;\n",
       "    }\n",
       "</style>\n",
       "<table border=\"1\" class=\"dataframe\">\n",
       "  <thead>\n",
       "    <tr style=\"text-align: right;\">\n",
       "      <th></th>\n",
       "      <th></th>\n",
       "      <th>avg_property_noi</th>\n",
       "    </tr>\n",
       "    <tr>\n",
       "      <th>neighborhood</th>\n",
       "      <th>report_year</th>\n",
       "      <th></th>\n",
       "    </tr>\n",
       "  </thead>\n",
       "  <tbody>\n",
       "    <tr>\n",
       "      <th rowspan=\"4\" valign=\"top\">ALPHABET CITY</th>\n",
       "      <th>2018</th>\n",
       "      <td>0.97</td>\n",
       "    </tr>\n",
       "    <tr>\n",
       "      <th>2019</th>\n",
       "      <td>0.66</td>\n",
       "    </tr>\n",
       "    <tr>\n",
       "      <th>2020</th>\n",
       "      <td>0.60</td>\n",
       "    </tr>\n",
       "    <tr>\n",
       "      <th>2021</th>\n",
       "      <td>1.06</td>\n",
       "    </tr>\n",
       "    <tr>\n",
       "      <th>ASTORIA</th>\n",
       "      <th>2018</th>\n",
       "      <td>0.97</td>\n",
       "    </tr>\n",
       "    <tr>\n",
       "      <th>...</th>\n",
       "      <th>...</th>\n",
       "      <td>...</td>\n",
       "    </tr>\n",
       "    <tr>\n",
       "      <th>WOODSIDE</th>\n",
       "      <th>2021</th>\n",
       "      <td>0.61</td>\n",
       "    </tr>\n",
       "    <tr>\n",
       "      <th rowspan=\"4\" valign=\"top\">WYCKOFF HEIGHTS</th>\n",
       "      <th>2018</th>\n",
       "      <td>0.52</td>\n",
       "    </tr>\n",
       "    <tr>\n",
       "      <th>2019</th>\n",
       "      <td>0.49</td>\n",
       "    </tr>\n",
       "    <tr>\n",
       "      <th>2020</th>\n",
       "      <td>0.44</td>\n",
       "    </tr>\n",
       "    <tr>\n",
       "      <th>2021</th>\n",
       "      <td>0.55</td>\n",
       "    </tr>\n",
       "  </tbody>\n",
       "</table>\n",
       "<p>376 rows × 1 columns</p>\n",
       "</div>"
      ],
      "text/plain": [
       "                             avg_property_noi\n",
       "neighborhood    report_year                  \n",
       "ALPHABET CITY   2018                     0.97\n",
       "                2019                     0.66\n",
       "                2020                     0.60\n",
       "                2021                     1.06\n",
       "ASTORIA         2018                     0.97\n",
       "...                                       ...\n",
       "WOODSIDE        2021                     0.61\n",
       "WYCKOFF HEIGHTS 2018                     0.52\n",
       "                2019                     0.49\n",
       "                2020                     0.44\n",
       "                2021                     0.55\n",
       "\n",
       "[376 rows x 1 columns]"
      ]
     },
     "execution_count": 221,
     "metadata": {},
     "output_type": "execute_result"
    }
   ],
   "source": [
    "df_condo_adjusted[df_condo_adjusted.report_year.astype(int) >= 2018].groupby(by = ['neighborhood', 'report_year']).agg(\n",
    "    avg_property_noi = pd.NamedAgg(column = 'net_operating_income', aggfunc = lambda c: c.mean() / 1000000),\n",
    ")"
   ]
  },
  {
   "cell_type": "markdown",
   "metadata": {},
   "source": [
    "- can also plot the time series of avg_neighborhood_property_noi as a way to find out the neighborhoods with increasing NOI\n",
    "- 2020 saw a slump in NOI as the covid was prevailing. \n",
    "- the data in 2021 could serve as an estimate of future NOI"
   ]
  },
  {
   "cell_type": "code",
   "execution_count": 222,
   "metadata": {},
   "outputs": [
    {
     "data": {
      "text/plain": [
       "<AxesSubplot:title={'center':'Yearly Avg. Unit NOI'}, xlabel='report_year'>"
      ]
     },
     "execution_count": 222,
     "metadata": {},
     "output_type": "execute_result"
    },
    {
     "data": {
      "image/png": "[encoded data removed]",
      "text/plain": [
       "<Figure size 640x480 with 1 Axes>"
      ]
     },
     "metadata": {},
     "output_type": "display_data"
    }
   ],
   "source": [
    "df_condo_adjusted.groupby(by=['report_year']).agg(\n",
    "    avg_unit_noi=pd.NamedAgg(column='unit_noi', aggfunc=lambda c: c.mean()),\n",
    ").plot(kind='line', title='Yearly Avg. Unit NOI')"
   ]
  },
  {
   "cell_type": "code",
   "execution_count": 223,
   "metadata": {},
   "outputs": [
    {
     "data": {
      "text/plain": [
       "<AxesSubplot:>"
      ]
     },
     "execution_count": 223,
     "metadata": {},
     "output_type": "execute_result"
    },
    {
     "data": {
      "image/png": "[encoded data removed]",
      "text/plain": [
       "<Figure size 640x480 with 1 Axes>"
      ]
     },
     "metadata": {},
     "output_type": "display_data"
    }
   ],
   "source": [
    "df_condo_adjusted.net_operating_income.plot(kind = 'box')"
   ]
  },
  {
   "cell_type": "code",
   "execution_count": 224,
   "metadata": {},
   "outputs": [
    {
     "data": {
      "text/plain": [
       "<AxesSubplot:>"
      ]
     },
     "execution_count": 224,
     "metadata": {},
     "output_type": "execute_result"
    },
    {
     "data": {
      "image/png": "[encoded data removed]",
      "text/plain": [
       "<Figure size 640x480 with 1 Axes>"
      ]
     },
     "metadata": {},
     "output_type": "display_data"
    }
   ],
   "source": [
    "df_condo_adjusted.full_market_value.plot(kind = 'box')"
   ]
  },
  {
   "cell_type": "code",
   "execution_count": 199,
   "metadata": {},
   "outputs": [
    {
     "name": "stderr",
     "output_type": "stream",
     "text": [
      "C:\\Users\\Chaconne\\AppData\\Local\\Temp\\ipykernel_23084\\1499159989.py:1: SettingWithCopyWarning: \n",
      "A value is trying to be set on a copy of a slice from a DataFrame.\n",
      "Try using .loc[row_indexer,col_indexer] = value instead\n",
      "\n",
      "See the caveats in the documentation: https://pandas.pydata.org/pandas-docs/stable/user_guide/indexing.html#returning-a-view-versus-a-copy\n",
      "  df_condo_adjusted['noi_per_dollar'] = df_condo_adjusted.net_operating_income / df_condo_adjusted.full_market_value\n"
     ]
    },
    {
     "data": {
      "text/plain": [
       "count   26918.00\n",
       "mean        0.65\n",
       "std        81.77\n",
       "min         0.02\n",
       "25%         0.12\n",
       "50%         0.13\n",
       "75%         0.13\n",
       "max     13404.58\n",
       "Name: noi_per_dollar, dtype: float64"
      ]
     },
     "execution_count": 199,
     "metadata": {},
     "output_type": "execute_result"
    }
   ],
   "source": [
    "df_condo_adjusted['noi_per_dollar'] = df_condo_adjusted.net_operating_income / df_condo_adjusted.full_market_value\n",
    "df_condo_adjusted['noi_per_dollar'].describe()"
   ]
  },
  {
   "cell_type": "code",
   "execution_count": 204,
   "metadata": {},
   "outputs": [
    {
     "data": {
      "text/plain": [
       "<AxesSubplot:>"
      ]
     },
     "execution_count": 204,
     "metadata": {},
     "output_type": "execute_result"
    },
    {
     "data": {
      "image/png": "[encoded data removed]",
      "text/plain": [
       "<Figure size 640x480 with 1 Axes>"
      ]
     },
     "metadata": {},
     "output_type": "display_data"
    }
   ],
   "source": [
    "df_condo_adjusted['noi_per_dollar'].plot(kind = 'box')"
   ]
  },
  {
   "cell_type": "code",
   "execution_count": 210,
   "metadata": {},
   "outputs": [
    {
     "data": {
      "text/html": [
       "<div>\n",
       "<style scoped>\n",
       "    .dataframe tbody tr th:only-of-type {\n",
       "        vertical-align: middle;\n",
       "    }\n",
       "\n",
       "    .dataframe tbody tr th {\n",
       "        vertical-align: top;\n",
       "    }\n",
       "\n",
       "    .dataframe thead th {\n",
       "        text-align: right;\n",
       "    }\n",
       "</style>\n",
       "<table border=\"1\" class=\"dataframe\">\n",
       "  <thead>\n",
       "    <tr style=\"text-align: right;\">\n",
       "      <th></th>\n",
       "      <th>unnamed:_0</th>\n",
       "      <th>boro_block_lot</th>\n",
       "      <th>condo_section</th>\n",
       "      <th>address</th>\n",
       "      <th>neighborhood</th>\n",
       "      <th>building_classification</th>\n",
       "      <th>total_units</th>\n",
       "      <th>year_built</th>\n",
       "      <th>gross_sqft</th>\n",
       "      <th>estimated_gross_income</th>\n",
       "      <th>gross_income_per_sqft</th>\n",
       "      <th>estimated_expense</th>\n",
       "      <th>expense_per_sqft</th>\n",
       "      <th>net_operating_income</th>\n",
       "      <th>full_market_value</th>\n",
       "    </tr>\n",
       "  </thead>\n",
       "  <tbody>\n",
       "    <tr>\n",
       "      <th>10371</th>\n",
       "      <td>10371</td>\n",
       "      <td>1-01534-7502</td>\n",
       "      <td>1738-R2</td>\n",
       "      <td>237 EAST 88 STREET</td>\n",
       "      <td>UPPER EAST SIDE (79-96)</td>\n",
       "      <td>R2-CONDOMINIUM</td>\n",
       "      <td>1</td>\n",
       "      <td>1920.00</td>\n",
       "      <td>16655</td>\n",
       "      <td>536624</td>\n",
       "      <td>32.22</td>\n",
       "      <td>121082.00</td>\n",
       "      <td>7.27</td>\n",
       "      <td>415542</td>\n",
       "      <td>31.00</td>\n",
       "    </tr>\n",
       "    <tr>\n",
       "      <th>9953</th>\n",
       "      <td>9953</td>\n",
       "      <td>1-01051-7502</td>\n",
       "      <td>2230-R1</td>\n",
       "      <td>450 WEST 42 STREET</td>\n",
       "      <td>CLINTON</td>\n",
       "      <td>RR-CONDOMINIUM</td>\n",
       "      <td>623</td>\n",
       "      <td>2008.00</td>\n",
       "      <td>598113</td>\n",
       "      <td>25078878</td>\n",
       "      <td>41.93</td>\n",
       "      <td>7380714.00</td>\n",
       "      <td>12.34</td>\n",
       "      <td>17698164</td>\n",
       "      <td>32767.00</td>\n",
       "    </tr>\n",
       "    <tr>\n",
       "      <th>11514</th>\n",
       "      <td>11514</td>\n",
       "      <td>3-06652-7501</td>\n",
       "      <td>2535-R1</td>\n",
       "      <td>1740 WEST 4 STREET</td>\n",
       "      <td>GRAVESEND</td>\n",
       "      <td>R4-CONDOMINIUM</td>\n",
       "      <td>37</td>\n",
       "      <td>2008.00</td>\n",
       "      <td>48867</td>\n",
       "      <td>979950</td>\n",
       "      <td>20.05</td>\n",
       "      <td>560499.00</td>\n",
       "      <td>11.47</td>\n",
       "      <td>419451</td>\n",
       "      <td>27996.00</td>\n",
       "    </tr>\n",
       "    <tr>\n",
       "      <th>14385</th>\n",
       "      <td>14385</td>\n",
       "      <td>3-00922-7502</td>\n",
       "      <td>2752-R1</td>\n",
       "      <td>762 41 STREET</td>\n",
       "      <td>SUNSET PARK</td>\n",
       "      <td>R4-ELEVATOR</td>\n",
       "      <td>18</td>\n",
       "      <td>2009.00</td>\n",
       "      <td>19877</td>\n",
       "      <td>494341</td>\n",
       "      <td>24.87</td>\n",
       "      <td>170147.00</td>\n",
       "      <td>8.56</td>\n",
       "      <td>324194</td>\n",
       "      <td>60983.00</td>\n",
       "    </tr>\n",
       "    <tr>\n",
       "      <th>10855</th>\n",
       "      <td>10855</td>\n",
       "      <td>3-00922-7502</td>\n",
       "      <td>2752-R1</td>\n",
       "      <td>762 41 STREET</td>\n",
       "      <td>SUNSET PARK</td>\n",
       "      <td>R4-CONDOMINIUM</td>\n",
       "      <td>18</td>\n",
       "      <td>2011.00</td>\n",
       "      <td>19877</td>\n",
       "      <td>355003</td>\n",
       "      <td>17.86</td>\n",
       "      <td>51879.00</td>\n",
       "      <td>2.61</td>\n",
       "      <td>303124</td>\n",
       "      <td>60983.00</td>\n",
       "    </tr>\n",
       "  </tbody>\n",
       "</table>\n",
       "</div>"
      ],
      "text/plain": [
       "       unnamed:_0 boro_block_lot condo_section             address  \\\n",
       "10371       10371   1-01534-7502       1738-R2  237 EAST 88 STREET   \n",
       "9953         9953   1-01051-7502       2230-R1  450 WEST 42 STREET   \n",
       "11514       11514   3-06652-7501       2535-R1  1740 WEST 4 STREET   \n",
       "14385       14385   3-00922-7502       2752-R1       762 41 STREET   \n",
       "10855       10855   3-00922-7502       2752-R1       762 41 STREET   \n",
       "\n",
       "                  neighborhood building_classification  total_units  \\\n",
       "10371  UPPER EAST SIDE (79-96)          R2-CONDOMINIUM            1   \n",
       "9953                   CLINTON          RR-CONDOMINIUM          623   \n",
       "11514                GRAVESEND          R4-CONDOMINIUM           37   \n",
       "14385              SUNSET PARK             R4-ELEVATOR           18   \n",
       "10855              SUNSET PARK          R4-CONDOMINIUM           18   \n",
       "\n",
       "       year_built  gross_sqft  estimated_gross_income  gross_income_per_sqft  \\\n",
       "10371     1920.00       16655                  536624                  32.22   \n",
       "9953      2008.00      598113                25078878                  41.93   \n",
       "11514     2008.00       48867                  979950                  20.05   \n",
       "14385     2009.00       19877                  494341                  24.87   \n",
       "10855     2011.00       19877                  355003                  17.86   \n",
       "\n",
       "       estimated_expense  expense_per_sqft  net_operating_income  \\\n",
       "10371          121082.00              7.27                415542   \n",
       "9953          7380714.00             12.34              17698164   \n",
       "11514          560499.00             11.47                419451   \n",
       "14385          170147.00              8.56                324194   \n",
       "10855           51879.00              2.61                303124   \n",
       "\n",
       "       full_market_value  \n",
       "10371              31.00  \n",
       "9953            32767.00  \n",
       "11514           27996.00  \n",
       "14385           60983.00  \n",
       "10855           60983.00  "
      ]
     },
     "execution_count": 210,
     "metadata": {},
     "output_type": "execute_result"
    }
   ],
   "source": [
    "df_condo_adjusted.sort_values(by = 'noi_per_dollar', ascending = False).iloc[:5, :15]"
   ]
  },
  {
   "cell_type": "markdown",
   "metadata": {},
   "source": [
    "- can say that the yearly average of unit NOI is somewhere around 37000\n",
    "- can also build a predictive model for forecasting"
   ]
  },
  {
   "cell_type": "code",
   "execution_count": null,
   "metadata": {},
   "outputs": [],
   "source": [
    "df_adn = df_condo_adjusted[df_condo_adjusted.report_year == 2021].groupby(\n",
    "    by=['neighborhood']\n",
    ").agg(\n",
    "    avg_unit_noi=pd.NamedAgg(column='unit_noi', aggfunc=lambda c: c.mean()),\n",
    "    sample_count=pd.NamedAgg(column='unit_noi', aggfunc='count')\n",
    ").sort_values(\n",
    "    ascending=False, by='avg_unit_noi'\n",
    ")\n",
    "\n",
    "df_adn[df_adn.sample_count > 25][:10]"
   ]
  },
  {
   "cell_type": "code",
   "execution_count": 195,
   "metadata": {},
   "outputs": [
    {
     "data": {
      "text/html": [
       "<div>\n",
       "<style scoped>\n",
       "    .dataframe tbody tr th:only-of-type {\n",
       "        vertical-align: middle;\n",
       "    }\n",
       "\n",
       "    .dataframe tbody tr th {\n",
       "        vertical-align: top;\n",
       "    }\n",
       "\n",
       "    .dataframe thead th {\n",
       "        text-align: right;\n",
       "    }\n",
       "</style>\n",
       "<table border=\"1\" class=\"dataframe\">\n",
       "  <thead>\n",
       "    <tr style=\"text-align: right;\">\n",
       "      <th></th>\n",
       "      <th>avg_unit_noi</th>\n",
       "      <th>sample_count</th>\n",
       "    </tr>\n",
       "    <tr>\n",
       "      <th>neighborhood</th>\n",
       "      <th></th>\n",
       "      <th></th>\n",
       "    </tr>\n",
       "  </thead>\n",
       "  <tbody>\n",
       "    <tr>\n",
       "      <th>UPPER WEST SIDE (59-79)</th>\n",
       "      <td>143658.80</td>\n",
       "      <td>77</td>\n",
       "    </tr>\n",
       "    <tr>\n",
       "      <th>SOHO</th>\n",
       "      <td>94277.41</td>\n",
       "      <td>56</td>\n",
       "    </tr>\n",
       "    <tr>\n",
       "      <th>FLATIRON</th>\n",
       "      <td>84896.23</td>\n",
       "      <td>53</td>\n",
       "    </tr>\n",
       "    <tr>\n",
       "      <th>TRIBECA</th>\n",
       "      <td>72987.15</td>\n",
       "      <td>41</td>\n",
       "    </tr>\n",
       "    <tr>\n",
       "      <th>CHELSEA</th>\n",
       "      <td>68379.66</td>\n",
       "      <td>101</td>\n",
       "    </tr>\n",
       "    <tr>\n",
       "      <th>GREENWICH VILLAGE-WEST</th>\n",
       "      <td>62949.52</td>\n",
       "      <td>56</td>\n",
       "    </tr>\n",
       "    <tr>\n",
       "      <th>UPPER EAST SIDE (59-79)</th>\n",
       "      <td>62309.02</td>\n",
       "      <td>138</td>\n",
       "    </tr>\n",
       "    <tr>\n",
       "      <th>GREENWICH VILLAGE-CENTRAL</th>\n",
       "      <td>59810.69</td>\n",
       "      <td>64</td>\n",
       "    </tr>\n",
       "    <tr>\n",
       "      <th>MIDTOWN WEST</th>\n",
       "      <td>58889.84</td>\n",
       "      <td>56</td>\n",
       "    </tr>\n",
       "    <tr>\n",
       "      <th>GRAMERCY</th>\n",
       "      <td>57727.41</td>\n",
       "      <td>30</td>\n",
       "    </tr>\n",
       "  </tbody>\n",
       "</table>\n",
       "</div>"
      ],
      "text/plain": [
       "                           avg_unit_noi  sample_count\n",
       "neighborhood                                         \n",
       "UPPER WEST SIDE (59-79)       143658.80            77\n",
       "SOHO                           94277.41            56\n",
       "FLATIRON                       84896.23            53\n",
       "TRIBECA                        72987.15            41\n",
       "CHELSEA                        68379.66           101\n",
       "GREENWICH VILLAGE-WEST         62949.52            56\n",
       "UPPER EAST SIDE (59-79)        62309.02           138\n",
       "GREENWICH VILLAGE-CENTRAL      59810.69            64\n",
       "MIDTOWN WEST                   58889.84            56\n",
       "GRAMERCY                       57727.41            30"
      ]
     },
     "execution_count": 195,
     "metadata": {},
     "output_type": "execute_result"
    }
   ],
   "source": [
    "df_aun = df_condo_adjusted[df_condo_adjusted.report_year == 2021].groupby(\n",
    "    by=['neighborhood']\n",
    ").agg(\n",
    "    avg_unit_noi=pd.NamedAgg(column='unit_noi', aggfunc=lambda c: c.mean()),\n",
    "    sample_count=pd.NamedAgg(column='unit_noi', aggfunc='count')\n",
    ").sort_values(\n",
    "    ascending=False, by='avg_unit_noi'\n",
    ")\n",
    "\n",
    "df_aun[df_aun.sample_count > 25][:10]"
   ]
  },
  {
   "cell_type": "code",
   "execution_count": 52,
   "metadata": {},
   "outputs": [
    {
     "data": {
      "text/html": [
       "<div>\n",
       "<style scoped>\n",
       "    .dataframe tbody tr th:only-of-type {\n",
       "        vertical-align: middle;\n",
       "    }\n",
       "\n",
       "    .dataframe tbody tr th {\n",
       "        vertical-align: top;\n",
       "    }\n",
       "\n",
       "    .dataframe thead th {\n",
       "        text-align: right;\n",
       "    }\n",
       "</style>\n",
       "<table border=\"1\" class=\"dataframe\">\n",
       "  <thead>\n",
       "    <tr style=\"text-align: right;\">\n",
       "      <th></th>\n",
       "      <th>avg_sqft_noi</th>\n",
       "      <th>sample_count</th>\n",
       "    </tr>\n",
       "    <tr>\n",
       "      <th>neighborhood</th>\n",
       "      <th></th>\n",
       "      <th></th>\n",
       "    </tr>\n",
       "  </thead>\n",
       "  <tbody>\n",
       "    <tr>\n",
       "      <th>FLATIRON</th>\n",
       "      <td>38.79</td>\n",
       "      <td>53</td>\n",
       "    </tr>\n",
       "    <tr>\n",
       "      <th>CHELSEA</th>\n",
       "      <td>38.46</td>\n",
       "      <td>101</td>\n",
       "    </tr>\n",
       "    <tr>\n",
       "      <th>MURRAY HILL</th>\n",
       "      <td>37.70</td>\n",
       "      <td>49</td>\n",
       "    </tr>\n",
       "    <tr>\n",
       "      <th>GREENWICH VILLAGE-WEST</th>\n",
       "      <td>37.44</td>\n",
       "      <td>56</td>\n",
       "    </tr>\n",
       "    <tr>\n",
       "      <th>SOHO</th>\n",
       "      <td>37.34</td>\n",
       "      <td>56</td>\n",
       "    </tr>\n",
       "    <tr>\n",
       "      <th>FASHION</th>\n",
       "      <td>36.94</td>\n",
       "      <td>21</td>\n",
       "    </tr>\n",
       "    <tr>\n",
       "      <th>MIDTOWN WEST</th>\n",
       "      <td>36.93</td>\n",
       "      <td>56</td>\n",
       "    </tr>\n",
       "    <tr>\n",
       "      <th>MIDTOWN CBD</th>\n",
       "      <td>36.51</td>\n",
       "      <td>16</td>\n",
       "    </tr>\n",
       "    <tr>\n",
       "      <th>TRIBECA</th>\n",
       "      <td>36.47</td>\n",
       "      <td>41</td>\n",
       "    </tr>\n",
       "    <tr>\n",
       "      <th>GRAMERCY</th>\n",
       "      <td>36.25</td>\n",
       "      <td>30</td>\n",
       "    </tr>\n",
       "  </tbody>\n",
       "</table>\n",
       "</div>"
      ],
      "text/plain": [
       "                        avg_sqft_noi  sample_count\n",
       "neighborhood                                      \n",
       "FLATIRON                       38.79            53\n",
       "CHELSEA                        38.46           101\n",
       "MURRAY HILL                    37.70            49\n",
       "GREENWICH VILLAGE-WEST         37.44            56\n",
       "SOHO                           37.34            56\n",
       "FASHION                        36.94            21\n",
       "MIDTOWN WEST                   36.93            56\n",
       "MIDTOWN CBD                    36.51            16\n",
       "TRIBECA                        36.47            41\n",
       "GRAMERCY                       36.25            30"
      ]
     },
     "execution_count": 52,
     "metadata": {},
     "output_type": "execute_result"
    }
   ],
   "source": [
    "df_condo_adjusted[df_condo_adjusted.report_year == 2021].groupby(\n",
    "    by=['neighborhood']\n",
    ").agg(\n",
    "    avg_sqft_noi=pd.NamedAgg(column='sqft_noi', aggfunc=lambda c: c.mean()),\n",
    "    sample_count=pd.NamedAgg(column='sqft_noi', aggfunc='count')\n",
    ").sort_values(\n",
    "    ascending=False, by='avg_sqft_noi'\n",
    ")[:10]"
   ]
  },
  {
   "cell_type": "code",
   "execution_count": 53,
   "metadata": {},
   "outputs": [
    {
     "data": {
      "text/plain": [
       "<AxesSubplot:ylabel='Frequency'>"
      ]
     },
     "execution_count": 53,
     "metadata": {},
     "output_type": "execute_result"
    },
    {
     "data": {
      "image/png": "[encoded data removed]",
      "text/plain": [
       "<Figure size 640x480 with 1 Axes>"
      ]
     },
     "metadata": {},
     "output_type": "display_data"
    }
   ],
   "source": [
    "df_condo_adjusted[df_condo_adjusted.report_year == 2021].groupby(\n",
    "    by=['neighborhood']\n",
    ").agg(\n",
    "    avg_sqft_noi=pd.NamedAgg(column='sqft_noi', aggfunc=lambda c: c.mean()),\n",
    ").plot(kind = 'hist')"
   ]
  },
  {
   "cell_type": "code",
   "execution_count": 54,
   "metadata": {},
   "outputs": [
    {
     "data": {
      "text/html": [
       "<div>\n",
       "<style scoped>\n",
       "    .dataframe tbody tr th:only-of-type {\n",
       "        vertical-align: middle;\n",
       "    }\n",
       "\n",
       "    .dataframe tbody tr th {\n",
       "        vertical-align: top;\n",
       "    }\n",
       "\n",
       "    .dataframe thead th {\n",
       "        text-align: right;\n",
       "    }\n",
       "</style>\n",
       "<table border=\"1\" class=\"dataframe\">\n",
       "  <thead>\n",
       "    <tr style=\"text-align: right;\">\n",
       "      <th></th>\n",
       "      <th>avg_sqft_gross_rev</th>\n",
       "      <th>sample_count</th>\n",
       "    </tr>\n",
       "    <tr>\n",
       "      <th>neighborhood</th>\n",
       "      <th></th>\n",
       "      <th></th>\n",
       "    </tr>\n",
       "  </thead>\n",
       "  <tbody>\n",
       "    <tr>\n",
       "      <th>GREENWICH VILLAGE-WEST</th>\n",
       "      <td>54.69</td>\n",
       "      <td>56</td>\n",
       "    </tr>\n",
       "    <tr>\n",
       "      <th>FINANCIAL</th>\n",
       "      <td>54.16</td>\n",
       "      <td>11</td>\n",
       "    </tr>\n",
       "    <tr>\n",
       "      <th>TRIBECA</th>\n",
       "      <td>53.96</td>\n",
       "      <td>41</td>\n",
       "    </tr>\n",
       "    <tr>\n",
       "      <th>MIDTOWN WEST</th>\n",
       "      <td>53.84</td>\n",
       "      <td>56</td>\n",
       "    </tr>\n",
       "    <tr>\n",
       "      <th>MIDTOWN CBD</th>\n",
       "      <td>53.78</td>\n",
       "      <td>16</td>\n",
       "    </tr>\n",
       "    <tr>\n",
       "      <th>FLATIRON</th>\n",
       "      <td>53.20</td>\n",
       "      <td>53</td>\n",
       "    </tr>\n",
       "    <tr>\n",
       "      <th>CHELSEA</th>\n",
       "      <td>53.00</td>\n",
       "      <td>101</td>\n",
       "    </tr>\n",
       "    <tr>\n",
       "      <th>SOHO</th>\n",
       "      <td>52.54</td>\n",
       "      <td>56</td>\n",
       "    </tr>\n",
       "    <tr>\n",
       "      <th>MURRAY HILL</th>\n",
       "      <td>52.52</td>\n",
       "      <td>49</td>\n",
       "    </tr>\n",
       "    <tr>\n",
       "      <th>GRAMERCY</th>\n",
       "      <td>52.01</td>\n",
       "      <td>30</td>\n",
       "    </tr>\n",
       "  </tbody>\n",
       "</table>\n",
       "</div>"
      ],
      "text/plain": [
       "                        avg_sqft_gross_rev  sample_count\n",
       "neighborhood                                            \n",
       "GREENWICH VILLAGE-WEST               54.69            56\n",
       "FINANCIAL                            54.16            11\n",
       "TRIBECA                              53.96            41\n",
       "MIDTOWN WEST                         53.84            56\n",
       "MIDTOWN CBD                          53.78            16\n",
       "FLATIRON                             53.20            53\n",
       "CHELSEA                              53.00           101\n",
       "SOHO                                 52.54            56\n",
       "MURRAY HILL                          52.52            49\n",
       "GRAMERCY                             52.01            30"
      ]
     },
     "execution_count": 54,
     "metadata": {},
     "output_type": "execute_result"
    }
   ],
   "source": [
    "# 2021 is the most recent year in this dataset\n",
    "df_condo_adjusted[df_condo_adjusted.report_year == 2021].groupby(\n",
    "    by=['neighborhood']\n",
    ").agg(\n",
    "    avg_sqft_gross_rev=pd.NamedAgg(column='gross_income_per_sqft', aggfunc=lambda c: c.mean()),\n",
    "    sample_count=pd.NamedAgg(column='unit_noi', aggfunc='count')\n",
    ").sort_values(\n",
    "    ascending=False, by='avg_sqft_gross_rev'\n",
    ")[:10]"
   ]
  },
  {
   "cell_type": "markdown",
   "metadata": {},
   "source": [
    "- another thing could be done here is to conduct geographical analysis using coordinate info\n",
    "- to that end, map each address to its coordinate"
   ]
  },
  {
   "cell_type": "code",
   "execution_count": 55,
   "metadata": {},
   "outputs": [
    {
     "data": {
      "text/plain": [
       "array(['0 32 BROADWAY, New York, NY, USA',\n",
       "       '1 BENNETT AVENUE, New York, NY, USA',\n",
       "       '1 BOND STREET, New York, NY, USA',\n",
       "       '1 CENTRAL PARK WEST, New York, NY, USA',\n",
       "       '1 CENTRAL PARK, New York, NY, USA'], dtype=object)"
      ]
     },
     "execution_count": 55,
     "metadata": {},
     "output_type": "execute_result"
    }
   ],
   "source": [
    "unique_add = np.unique(df_rental_income.address.map(lambda add: add + ', New York, NY, USA')) # convert to full address \n",
    "unique_add[:5]"
   ]
  },
  {
   "cell_type": "code",
   "execution_count": 56,
   "metadata": {},
   "outputs": [],
   "source": [
    "# coordiantes = lib_sean.get_coordinates(unique_add, api_key='')"
   ]
  },
  {
   "cell_type": "code",
   "execution_count": 57,
   "metadata": {},
   "outputs": [],
   "source": [
    "# address_to_coordinates = dict(zip(unique_add, coordiantes))\n",
    "\n",
    "# df_rental_income['latitude'] = df_rental_income.address.map(\n",
    "#     lambda partial_add:  address_to_coordinates[partial_add + ', New York, NY, USA'][0]\n",
    "# )\n",
    "\n",
    "# df_rental_income['longitude'] = df_rental_income.address.map(\n",
    "#     lambda partial_add:  address_to_coordinates[partial_add + ', New York, NY, USA'][1]\n",
    "# )"
   ]
  },
  {
   "cell_type": "code",
   "execution_count": 58,
   "metadata": {},
   "outputs": [
    {
     "data": {
      "text/html": [
       "<div>\n",
       "<style scoped>\n",
       "    .dataframe tbody tr th:only-of-type {\n",
       "        vertical-align: middle;\n",
       "    }\n",
       "\n",
       "    .dataframe tbody tr th {\n",
       "        vertical-align: top;\n",
       "    }\n",
       "\n",
       "    .dataframe thead th {\n",
       "        text-align: right;\n",
       "    }\n",
       "</style>\n",
       "<table border=\"1\" class=\"dataframe\">\n",
       "  <thead>\n",
       "    <tr style=\"text-align: right;\">\n",
       "      <th></th>\n",
       "      <th>longitude</th>\n",
       "      <th>latitude</th>\n",
       "    </tr>\n",
       "  </thead>\n",
       "  <tbody>\n",
       "    <tr>\n",
       "      <th>0</th>\n",
       "      <td>-74.00</td>\n",
       "      <td>40.74</td>\n",
       "    </tr>\n",
       "    <tr>\n",
       "      <th>1</th>\n",
       "      <td>-73.98</td>\n",
       "      <td>40.76</td>\n",
       "    </tr>\n",
       "    <tr>\n",
       "      <th>2</th>\n",
       "      <td>-73.98</td>\n",
       "      <td>40.75</td>\n",
       "    </tr>\n",
       "    <tr>\n",
       "      <th>3</th>\n",
       "      <td>-74.01</td>\n",
       "      <td>40.73</td>\n",
       "    </tr>\n",
       "    <tr>\n",
       "      <th>4</th>\n",
       "      <td>-73.98</td>\n",
       "      <td>40.75</td>\n",
       "    </tr>\n",
       "    <tr>\n",
       "      <th>...</th>\n",
       "      <td>...</td>\n",
       "      <td>...</td>\n",
       "    </tr>\n",
       "    <tr>\n",
       "      <th>28500</th>\n",
       "      <td>-74.08</td>\n",
       "      <td>40.64</td>\n",
       "    </tr>\n",
       "    <tr>\n",
       "      <th>28501</th>\n",
       "      <td>-74.15</td>\n",
       "      <td>40.55</td>\n",
       "    </tr>\n",
       "    <tr>\n",
       "      <th>28502</th>\n",
       "      <td>-74.07</td>\n",
       "      <td>40.63</td>\n",
       "    </tr>\n",
       "    <tr>\n",
       "      <th>28503</th>\n",
       "      <td>-74.07</td>\n",
       "      <td>40.63</td>\n",
       "    </tr>\n",
       "    <tr>\n",
       "      <th>28504</th>\n",
       "      <td>-74.07</td>\n",
       "      <td>40.64</td>\n",
       "    </tr>\n",
       "  </tbody>\n",
       "</table>\n",
       "<p>28505 rows × 2 columns</p>\n",
       "</div>"
      ],
      "text/plain": [
       "       longitude  latitude\n",
       "0         -74.00     40.74\n",
       "1         -73.98     40.76\n",
       "2         -73.98     40.75\n",
       "3         -74.01     40.73\n",
       "4         -73.98     40.75\n",
       "...          ...       ...\n",
       "28500     -74.08     40.64\n",
       "28501     -74.15     40.55\n",
       "28502     -74.07     40.63\n",
       "28503     -74.07     40.63\n",
       "28504     -74.07     40.64\n",
       "\n",
       "[28505 rows x 2 columns]"
      ]
     },
     "execution_count": 58,
     "metadata": {},
     "output_type": "execute_result"
    }
   ],
   "source": [
    "df_rental_income[['longitude', 'latitude']]"
   ]
  },
  {
   "cell_type": "code",
   "execution_count": 89,
   "metadata": {},
   "outputs": [
    {
     "data": {
      "text/plain": [
       "Index(['unnamed:_0', 'boro_block_lot', 'condo_section', 'address',\n",
       "       'neighborhood', 'building_classification', 'total_units', 'year_built',\n",
       "       'gross_sqft', 'estimated_gross_income', 'gross_income_per_sqft',\n",
       "       'estimated_expense', 'expense_per_sqft', 'net_operating_income',\n",
       "       'full_market_value', 'market_value_per_sqft', 'boro_block_lot_1',\n",
       "       'address_1', 'neighborhood_1', 'building_classification_1',\n",
       "       'total_units_1', 'year_built_1', 'gross_sqft_1',\n",
       "       'estimated_gross_income_1', 'gross_income_per_sqft_1',\n",
       "       'estimated_expense_1', 'expense_per_sqft_1', 'net_operating_income_1',\n",
       "       'full_market_value_1', 'market_value_per_sqft_1',\n",
       "       'distance_from_condo_in_miles', 'boro_block_lot_2', 'address_2',\n",
       "       'neighborhood_2', 'building_classification_2', 'total_units_2',\n",
       "       'year_built_2', 'gross_sqft_2', 'estimated_gross_income_2',\n",
       "       'gross_income_per_sqft_2', 'estimated_expense_2', 'expense_per_sqft_2',\n",
       "       'net_operating_income_2', 'full_market_value_2',\n",
       "       'market_value_per_sqft_2', 'distance_from_condo_in_miles_1',\n",
       "       'boro_block_lot_3', 'address_3', 'neighborhood_3',\n",
       "       'building_classification_3', 'total_units_3', 'year_built_3',\n",
       "       'gross_sqft_3', 'estimated_gross_income_3', 'gross_income_per_sqft_3',\n",
       "       'estimated_expense_3', 'expense_per_sqft_3', 'net_operating_income_3',\n",
       "       'full_market_value_3', 'market_value_per_sqft_3',\n",
       "       'distance_from_condo_in_miles_2', 'report_year', 'unit_noi', 'sqft_noi',\n",
       "       'latitude', 'longitude'],\n",
       "      dtype='object')"
      ]
     },
     "execution_count": 89,
     "metadata": {},
     "output_type": "execute_result"
    }
   ],
   "source": [
    "df_condo_adjusted.columns"
   ]
  },
  {
   "cell_type": "code",
   "execution_count": 94,
   "metadata": {},
   "outputs": [
    {
     "data": {
      "text/html": [
       "<div>\n",
       "<style scoped>\n",
       "    .dataframe tbody tr th:only-of-type {\n",
       "        vertical-align: middle;\n",
       "    }\n",
       "\n",
       "    .dataframe tbody tr th {\n",
       "        vertical-align: top;\n",
       "    }\n",
       "\n",
       "    .dataframe thead th {\n",
       "        text-align: right;\n",
       "    }\n",
       "</style>\n",
       "<table border=\"1\" class=\"dataframe\">\n",
       "  <thead>\n",
       "    <tr style=\"text-align: right;\">\n",
       "      <th></th>\n",
       "      <th>avg_sqft_market_val</th>\n",
       "      <th>med_sqft_market_val</th>\n",
       "      <th>avg_market_val</th>\n",
       "      <th>med_market_val</th>\n",
       "      <th>sample_count</th>\n",
       "    </tr>\n",
       "    <tr>\n",
       "      <th>neighborhood</th>\n",
       "      <th></th>\n",
       "      <th></th>\n",
       "      <th></th>\n",
       "      <th></th>\n",
       "      <th></th>\n",
       "    </tr>\n",
       "  </thead>\n",
       "  <tbody>\n",
       "    <tr>\n",
       "      <th>CHELSEA</th>\n",
       "      <td>310.24</td>\n",
       "      <td>311.50</td>\n",
       "      <td>25793000.00</td>\n",
       "      <td>19390000.00</td>\n",
       "      <td>101</td>\n",
       "    </tr>\n",
       "    <tr>\n",
       "      <th>FLATIRON</th>\n",
       "      <td>312.83</td>\n",
       "      <td>312.62</td>\n",
       "      <td>33210075.47</td>\n",
       "      <td>18826000.00</td>\n",
       "      <td>53</td>\n",
       "    </tr>\n",
       "    <tr>\n",
       "      <th>MURRAY HILL</th>\n",
       "      <td>304.35</td>\n",
       "      <td>301.23</td>\n",
       "      <td>32811448.98</td>\n",
       "      <td>23907000.00</td>\n",
       "      <td>49</td>\n",
       "    </tr>\n",
       "  </tbody>\n",
       "</table>\n",
       "</div>"
      ],
      "text/plain": [
       "              avg_sqft_market_val  med_sqft_market_val  avg_market_val  \\\n",
       "neighborhood                                                             \n",
       "CHELSEA                    310.24               311.50     25793000.00   \n",
       "FLATIRON                   312.83               312.62     33210075.47   \n",
       "MURRAY HILL                304.35               301.23     32811448.98   \n",
       "\n",
       "              med_market_val  sample_count  \n",
       "neighborhood                                \n",
       "CHELSEA          19390000.00           101  \n",
       "FLATIRON         18826000.00            53  \n",
       "MURRAY HILL      23907000.00            49  "
      ]
     },
     "execution_count": 94,
     "metadata": {},
     "output_type": "execute_result"
    }
   ],
   "source": [
    "target_nbhds = ['FLATIRON', 'CHELSEA', 'MURRAY HILL']\n",
    "\n",
    "df_condo_adjusted[df_condo_adjusted.report_year == 2021].loc[\n",
    "        df_condo_adjusted.neighborhood.map(lambda n: n in target_nbhds), :\n",
    "    ].groupby(by = 'neighborhood').agg(\n",
    "        avg_sqft_market_val = pd.NamedAgg(column='market_value_per_sqft', aggfunc='mean'),\n",
    "        med_sqft_market_val = pd.NamedAgg(column='market_value_per_sqft', aggfunc='median'),\n",
    "\n",
    "        avg_market_val = pd.NamedAgg(column='full_market_value', aggfunc='mean'),\n",
    "        med_market_val = pd.NamedAgg(column='full_market_value', aggfunc='median'),\n",
    "\n",
    "        sample_count = pd.NamedAgg(column='full_market_value', aggfunc='count'),\n",
    "    )"
   ]
  },
  {
   "cell_type": "markdown",
   "metadata": {},
   "source": [
    "- we will prioritize floor plans of multiple units (as demonstrated in the EDA of RedFin, multiple units property is more economic based on the metric of price per unit)"
   ]
  },
  {
   "cell_type": "code",
   "execution_count": 104,
   "metadata": {},
   "outputs": [
    {
     "name": "stderr",
     "output_type": "stream",
     "text": [
      "C:\\Users\\Chaconne\\AppData\\Local\\Temp\\ipykernel_23084\\663089203.py:1: SettingWithCopyWarning: \n",
      "A value is trying to be set on a copy of a slice from a DataFrame.\n",
      "Try using .loc[row_indexer,col_indexer] = value instead\n",
      "\n",
      "See the caveats in the documentation: https://pandas.pydata.org/pandas-docs/stable/user_guide/indexing.html#returning-a-view-versus-a-copy\n",
      "  df_condo_adjusted['price_per_unit'] = df_condo_adjusted.full_market_value / df_condo_adjusted.total_units\n",
      "C:\\Users\\Chaconne\\AppData\\Local\\Temp\\ipykernel_23084\\663089203.py:5: FutureWarning: ['boro_block_lot', 'condo_section', 'address', 'building_classification', 'boro_block_lot_1', 'address_1', 'neighborhood_1', 'building_classification_1', 'boro_block_lot_2', 'address_2', 'neighborhood_2', 'building_classification_2', 'boro_block_lot_3', 'address_3', 'neighborhood_3', 'building_classification_3'] did not aggregate successfully. If any error is raised this will raise in a future version of pandas. Drop these columns/ops to avoid this warning.\n",
      "  ).agg(\n"
     ]
    },
    {
     "data": {
      "text/html": [
       "<div>\n",
       "<style scoped>\n",
       "    .dataframe tbody tr th:only-of-type {\n",
       "        vertical-align: middle;\n",
       "    }\n",
       "\n",
       "    .dataframe tbody tr th {\n",
       "        vertical-align: top;\n",
       "    }\n",
       "\n",
       "    .dataframe thead th {\n",
       "        text-align: right;\n",
       "    }\n",
       "</style>\n",
       "<table border=\"1\" class=\"dataframe\">\n",
       "  <thead>\n",
       "    <tr style=\"text-align: right;\">\n",
       "      <th></th>\n",
       "      <th>mean</th>\n",
       "      <th>median</th>\n",
       "      <th>count</th>\n",
       "    </tr>\n",
       "    <tr>\n",
       "      <th>neighborhood</th>\n",
       "      <th></th>\n",
       "      <th></th>\n",
       "      <th></th>\n",
       "    </tr>\n",
       "  </thead>\n",
       "  <tbody>\n",
       "    <tr>\n",
       "      <th>FLATIRON</th>\n",
       "      <td>684743.27</td>\n",
       "      <td>637083.33</td>\n",
       "      <td>53</td>\n",
       "    </tr>\n",
       "    <tr>\n",
       "      <th>CHELSEA</th>\n",
       "      <td>551445.56</td>\n",
       "      <td>517360.00</td>\n",
       "      <td>101</td>\n",
       "    </tr>\n",
       "    <tr>\n",
       "      <th>MURRAY HILL</th>\n",
       "      <td>388899.28</td>\n",
       "      <td>328761.47</td>\n",
       "      <td>49</td>\n",
       "    </tr>\n",
       "  </tbody>\n",
       "</table>\n",
       "</div>"
      ],
      "text/plain": [
       "                  mean    median  count\n",
       "neighborhood                           \n",
       "FLATIRON     684743.27 637083.33     53\n",
       "CHELSEA      551445.56 517360.00    101\n",
       "MURRAY HILL  388899.28 328761.47     49"
      ]
     },
     "execution_count": 104,
     "metadata": {},
     "output_type": "execute_result"
    }
   ],
   "source": [
    "df_condo_adjusted['price_per_unit'] = df_condo_adjusted.full_market_value / df_condo_adjusted.total_units\n",
    "\n",
    "df_condo_adjusted[df_condo_adjusted.report_year == 2021].groupby(\n",
    "        by = 'neighborhood'\n",
    "    ).agg(\n",
    "        ['mean', 'median', 'count']\n",
    "    )['price_per_unit'].sort_values(\n",
    "        by = 'median', ascending = False\n",
    "    ).loc[target_nbhds, :]"
   ]
  },
  {
   "cell_type": "code",
   "execution_count": 59,
   "metadata": {},
   "outputs": [],
   "source": [
    "#df_rental_income.to_csv(data_dir + 'DOF_Condominium_Comparable_Rental_Income_in_NYC_Cleaned.csv', encoding = 'utf-8', index=False)"
   ]
  },
  {
   "cell_type": "markdown",
   "metadata": {},
   "source": [
    "##### EDA - Sentiment Analysis\n",
    "- this is a dataset derived from the join of inside airbnb listings and inside airbnb reviews"
   ]
  },
  {
   "cell_type": "code",
   "execution_count": 60,
   "metadata": {},
   "outputs": [
    {
     "data": {
      "text/plain": [
       "(893063, 7)"
      ]
     },
     "execution_count": 60,
     "metadata": {},
     "output_type": "execute_result"
    }
   ],
   "source": [
    "df_sent = pd.read_csv(data_dir + 'sentiment_score.csv')\n",
    "df_sent.rename(columns=lib_sean.col_renamer)\n",
    "df_sent.listing_id = df_sent.listing_id.astype(int)\n",
    "df_sent.shape"
   ]
  },
  {
   "cell_type": "code",
   "execution_count": 61,
   "metadata": {},
   "outputs": [
    {
     "name": "stdout",
     "output_type": "stream",
     "text": [
      "count                  893063\n",
      "unique                   1891\n",
      "top       2023-01-02 00:00:00\n",
      "freq                     2367\n",
      "first     2018-01-01 00:00:00\n",
      "last      2023-03-06 00:00:00\n",
      "Name: date, dtype: object\n"
     ]
    },
    {
     "name": "stderr",
     "output_type": "stream",
     "text": [
      "C:\\Users\\Chaconne\\AppData\\Local\\Temp\\ipykernel_23084\\911507356.py:2: FutureWarning: Treating datetime data as categorical rather than numeric in `.describe` is deprecated and will be removed in a future version of pandas. Specify `datetime_is_numeric=True` to silence this warning and adopt the future behavior now.\n",
      "  print(df_sent.date.describe())\n"
     ]
    },
    {
     "data": {
      "text/html": [
       "<div>\n",
       "<style scoped>\n",
       "    .dataframe tbody tr th:only-of-type {\n",
       "        vertical-align: middle;\n",
       "    }\n",
       "\n",
       "    .dataframe tbody tr th {\n",
       "        vertical-align: top;\n",
       "    }\n",
       "\n",
       "    .dataframe thead th {\n",
       "        text-align: right;\n",
       "    }\n",
       "</style>\n",
       "<table border=\"1\" class=\"dataframe\">\n",
       "  <thead>\n",
       "    <tr style=\"text-align: right;\">\n",
       "      <th></th>\n",
       "      <th>listing_id</th>\n",
       "      <th>id_x</th>\n",
       "      <th>date</th>\n",
       "      <th>reviewer_id</th>\n",
       "      <th>sentiment</th>\n",
       "      <th>neighbourhood_cleansed</th>\n",
       "      <th>average_neighbourhood_sentiment</th>\n",
       "    </tr>\n",
       "  </thead>\n",
       "  <tbody>\n",
       "    <tr>\n",
       "      <th>0</th>\n",
       "      <td>2595</td>\n",
       "      <td>223658531</td>\n",
       "      <td>2018-01-01</td>\n",
       "      <td>66056138</td>\n",
       "      <td>0.40</td>\n",
       "      <td>Midtown</td>\n",
       "      <td>0.40</td>\n",
       "    </tr>\n",
       "    <tr>\n",
       "      <th>1</th>\n",
       "      <td>2595</td>\n",
       "      <td>258747537</td>\n",
       "      <td>2018-04-29</td>\n",
       "      <td>128182033</td>\n",
       "      <td>0.29</td>\n",
       "      <td>Midtown</td>\n",
       "      <td>0.40</td>\n",
       "    </tr>\n",
       "    <tr>\n",
       "      <th>2</th>\n",
       "      <td>2595</td>\n",
       "      <td>265850774</td>\n",
       "      <td>2018-05-18</td>\n",
       "      <td>11496712</td>\n",
       "      <td>0.14</td>\n",
       "      <td>Midtown</td>\n",
       "      <td>0.40</td>\n",
       "    </tr>\n",
       "    <tr>\n",
       "      <th>3</th>\n",
       "      <td>2595</td>\n",
       "      <td>269561173</td>\n",
       "      <td>2018-05-27</td>\n",
       "      <td>76998885</td>\n",
       "      <td>0.29</td>\n",
       "      <td>Midtown</td>\n",
       "      <td>0.40</td>\n",
       "    </tr>\n",
       "    <tr>\n",
       "      <th>4</th>\n",
       "      <td>2595</td>\n",
       "      <td>273575493</td>\n",
       "      <td>2018-06-06</td>\n",
       "      <td>115721479</td>\n",
       "      <td>0.24</td>\n",
       "      <td>Midtown</td>\n",
       "      <td>0.40</td>\n",
       "    </tr>\n",
       "  </tbody>\n",
       "</table>\n",
       "</div>"
      ],
      "text/plain": [
       "   listing_id       id_x       date  reviewer_id  sentiment  \\\n",
       "0        2595  223658531 2018-01-01     66056138       0.40   \n",
       "1        2595  258747537 2018-04-29    128182033       0.29   \n",
       "2        2595  265850774 2018-05-18     11496712       0.14   \n",
       "3        2595  269561173 2018-05-27     76998885       0.29   \n",
       "4        2595  273575493 2018-06-06    115721479       0.24   \n",
       "\n",
       "  neighbourhood_cleansed  average_neighbourhood_sentiment  \n",
       "0                Midtown                             0.40  \n",
       "1                Midtown                             0.40  \n",
       "2                Midtown                             0.40  \n",
       "3                Midtown                             0.40  \n",
       "4                Midtown                             0.40  "
      ]
     },
     "execution_count": 61,
     "metadata": {},
     "output_type": "execute_result"
    }
   ],
   "source": [
    "df_sent.date = pd.to_datetime(df_sent.date,)\n",
    "print(df_sent.date.describe())\n",
    "df_sent.head()"
   ]
  },
  {
   "cell_type": "code",
   "execution_count": 62,
   "metadata": {},
   "outputs": [
    {
     "data": {
      "text/plain": [
       "<AxesSubplot:ylabel='Frequency'>"
      ]
     },
     "execution_count": 62,
     "metadata": {},
     "output_type": "execute_result"
    },
    {
     "data": {
      "image/png": "[encoded data removed]",
      "text/plain": [
       "<Figure size 640x480 with 1 Axes>"
      ]
     },
     "metadata": {},
     "output_type": "display_data"
    }
   ],
   "source": [
    "df_sent.sentiment.plot(kind = 'hist')"
   ]
  },
  {
   "cell_type": "code",
   "execution_count": 63,
   "metadata": {},
   "outputs": [
    {
     "data": {
      "text/plain": [
       "<AxesSubplot:>"
      ]
     },
     "execution_count": 63,
     "metadata": {},
     "output_type": "execute_result"
    },
    {
     "data": {
      "image/png": "[encoded data removed]",
      "text/plain": [
       "<Figure size 640x480 with 1 Axes>"
      ]
     },
     "metadata": {},
     "output_type": "display_data"
    }
   ],
   "source": [
    "df_sent.sentiment.plot(kind = 'box')"
   ]
  },
  {
   "cell_type": "code",
   "execution_count": 64,
   "metadata": {},
   "outputs": [
    {
     "data": {
      "text/plain": [
       "<AxesSubplot:ylabel='Frequency'>"
      ]
     },
     "execution_count": 64,
     "metadata": {},
     "output_type": "execute_result"
    },
    {
     "data": {
      "image/png": "[encoded data removed]",
      "text/plain": [
       "<Figure size 640x480 with 1 Axes>"
      ]
     },
     "metadata": {},
     "output_type": "display_data"
    }
   ],
   "source": [
    "df_sent.neighbourhood_cleansed.value_counts().plot(kind = 'hist')"
   ]
  },
  {
   "cell_type": "code",
   "execution_count": 65,
   "metadata": {},
   "outputs": [
    {
     "name": "stdout",
     "output_type": "stream",
     "text": [
      "0.25\t343.0\n",
      "0.5\t1028.0\n",
      "0.75\t3335.0\n",
      "mean\t4041.0090497737556\n"
     ]
    },
    {
     "data": {
      "image/png": "[encoded data removed]",
      "text/plain": [
       "<Figure size 640x480 with 1 Axes>"
      ]
     },
     "metadata": {},
     "output_type": "display_data"
    }
   ],
   "source": [
    "df_sent.neighbourhood_cleansed.value_counts().plot(kind = 'box')\n",
    "for i in [0.25, 0.5, 0.75]:\n",
    "    print(i, df_sent.neighbourhood_cleansed.value_counts().quantile(q = i), sep = '\\t')\n",
    "print('mean', df_sent.neighbourhood_cleansed.value_counts().mean(), sep = '\\t')"
   ]
  },
  {
   "cell_type": "markdown",
   "metadata": {},
   "source": [
    "- to deal with Pareto distribution, better drop off rows from neighborhoods where there are too few total records, say, 50"
   ]
  },
  {
   "cell_type": "code",
   "execution_count": 66,
   "metadata": {},
   "outputs": [
    {
     "data": {
      "text/html": [
       "<div>\n",
       "<style scoped>\n",
       "    .dataframe tbody tr th:only-of-type {\n",
       "        vertical-align: middle;\n",
       "    }\n",
       "\n",
       "    .dataframe tbody tr th {\n",
       "        vertical-align: top;\n",
       "    }\n",
       "\n",
       "    .dataframe thead th {\n",
       "        text-align: right;\n",
       "    }\n",
       "</style>\n",
       "<table border=\"1\" class=\"dataframe\">\n",
       "  <thead>\n",
       "    <tr style=\"text-align: right;\">\n",
       "      <th></th>\n",
       "      <th>avg_sent</th>\n",
       "      <th>sample_count</th>\n",
       "    </tr>\n",
       "    <tr>\n",
       "      <th>neighbourhood_cleansed</th>\n",
       "      <th></th>\n",
       "      <th></th>\n",
       "    </tr>\n",
       "  </thead>\n",
       "  <tbody>\n",
       "    <tr>\n",
       "      <th>Woodrow</th>\n",
       "      <td>0.49</td>\n",
       "      <td>92</td>\n",
       "    </tr>\n",
       "    <tr>\n",
       "      <th>Belle Harbor</th>\n",
       "      <td>0.47</td>\n",
       "      <td>177</td>\n",
       "    </tr>\n",
       "    <tr>\n",
       "      <th>Tottenville</th>\n",
       "      <td>0.47</td>\n",
       "      <td>118</td>\n",
       "    </tr>\n",
       "    <tr>\n",
       "      <th>Financial District</th>\n",
       "      <td>0.46</td>\n",
       "      <td>14133</td>\n",
       "    </tr>\n",
       "    <tr>\n",
       "      <th>New Dorp Beach</th>\n",
       "      <td>0.46</td>\n",
       "      <td>422</td>\n",
       "    </tr>\n",
       "    <tr>\n",
       "      <th>...</th>\n",
       "      <td>...</td>\n",
       "      <td>...</td>\n",
       "    </tr>\n",
       "    <tr>\n",
       "      <th>Mott Haven</th>\n",
       "      <td>0.36</td>\n",
       "      <td>2770</td>\n",
       "    </tr>\n",
       "    <tr>\n",
       "      <th>Melrose</th>\n",
       "      <td>0.35</td>\n",
       "      <td>784</td>\n",
       "    </tr>\n",
       "    <tr>\n",
       "      <th>Morris Heights</th>\n",
       "      <td>0.35</td>\n",
       "      <td>447</td>\n",
       "    </tr>\n",
       "    <tr>\n",
       "      <th>Fordham</th>\n",
       "      <td>0.34</td>\n",
       "      <td>911</td>\n",
       "    </tr>\n",
       "    <tr>\n",
       "      <th>University Heights</th>\n",
       "      <td>0.32</td>\n",
       "      <td>302</td>\n",
       "    </tr>\n",
       "  </tbody>\n",
       "</table>\n",
       "<p>208 rows × 2 columns</p>\n",
       "</div>"
      ],
      "text/plain": [
       "                        avg_sent  sample_count\n",
       "neighbourhood_cleansed                        \n",
       "Woodrow                     0.49            92\n",
       "Belle Harbor                0.47           177\n",
       "Tottenville                 0.47           118\n",
       "Financial District          0.46         14133\n",
       "New Dorp Beach              0.46           422\n",
       "...                          ...           ...\n",
       "Mott Haven                  0.36          2770\n",
       "Melrose                     0.35           784\n",
       "Morris Heights              0.35           447\n",
       "Fordham                     0.34           911\n",
       "University Heights          0.32           302\n",
       "\n",
       "[208 rows x 2 columns]"
      ]
     },
     "execution_count": 66,
     "metadata": {},
     "output_type": "execute_result"
    }
   ],
   "source": [
    "df_sent_by_nb = df_sent.groupby(by = 'neighbourhood_cleansed').agg(\n",
    "    sample_count = pd.NamedAgg(column='sentiment', aggfunc='count')\n",
    ")\n",
    "\n",
    "\n",
    "neighbor_keep = df_sent_by_nb[df_sent_by_nb.sample_count >= 50].index\n",
    "\n",
    "\n",
    "df_sent.loc[df_sent.neighbourhood_cleansed.map(lambda n: n in neighbor_keep), :].groupby(by = 'neighbourhood_cleansed').agg(\n",
    "    avg_sent = pd.NamedAgg(column='sentiment', aggfunc='mean'),\n",
    "    sample_count = pd.NamedAgg(column='sentiment', aggfunc='count')\n",
    ").sort_values(by='avg_sent', ascending = False)"
   ]
  },
  {
   "cell_type": "code",
   "execution_count": 67,
   "metadata": {},
   "outputs": [
    {
     "data": {
      "text/html": [
       "<div>\n",
       "<style scoped>\n",
       "    .dataframe tbody tr th:only-of-type {\n",
       "        vertical-align: middle;\n",
       "    }\n",
       "\n",
       "    .dataframe tbody tr th {\n",
       "        vertical-align: top;\n",
       "    }\n",
       "\n",
       "    .dataframe thead th {\n",
       "        text-align: right;\n",
       "    }\n",
       "</style>\n",
       "<table border=\"1\" class=\"dataframe\">\n",
       "  <thead>\n",
       "    <tr style=\"text-align: right;\">\n",
       "      <th></th>\n",
       "      <th>avg_sent</th>\n",
       "      <th>sample_count</th>\n",
       "    </tr>\n",
       "    <tr>\n",
       "      <th>neighbourhood_cleansed</th>\n",
       "      <th></th>\n",
       "      <th></th>\n",
       "    </tr>\n",
       "  </thead>\n",
       "  <tbody>\n",
       "    <tr>\n",
       "      <th>Bedford-Stuyvesant</th>\n",
       "      <td>0.40</td>\n",
       "      <td>82011</td>\n",
       "    </tr>\n",
       "    <tr>\n",
       "      <th>Williamsburg</th>\n",
       "      <td>0.43</td>\n",
       "      <td>48264</td>\n",
       "    </tr>\n",
       "    <tr>\n",
       "      <th>Harlem</th>\n",
       "      <td>0.38</td>\n",
       "      <td>48231</td>\n",
       "    </tr>\n",
       "    <tr>\n",
       "      <th>Bushwick</th>\n",
       "      <td>0.40</td>\n",
       "      <td>32993</td>\n",
       "    </tr>\n",
       "    <tr>\n",
       "      <th>Hell's Kitchen</th>\n",
       "      <td>0.40</td>\n",
       "      <td>30498</td>\n",
       "    </tr>\n",
       "    <tr>\n",
       "      <th>...</th>\n",
       "      <td>...</td>\n",
       "      <td>...</td>\n",
       "    </tr>\n",
       "    <tr>\n",
       "      <th>Gerritsen Beach</th>\n",
       "      <td>0.45</td>\n",
       "      <td>84</td>\n",
       "    </tr>\n",
       "    <tr>\n",
       "      <th>East Morrisania</th>\n",
       "      <td>0.42</td>\n",
       "      <td>83</td>\n",
       "    </tr>\n",
       "    <tr>\n",
       "      <th>Emerson Hill</th>\n",
       "      <td>0.37</td>\n",
       "      <td>82</td>\n",
       "    </tr>\n",
       "    <tr>\n",
       "      <th>Chelsea, Staten Island</th>\n",
       "      <td>0.36</td>\n",
       "      <td>63</td>\n",
       "    </tr>\n",
       "    <tr>\n",
       "      <th>Rossville</th>\n",
       "      <td>0.42</td>\n",
       "      <td>58</td>\n",
       "    </tr>\n",
       "  </tbody>\n",
       "</table>\n",
       "<p>208 rows × 2 columns</p>\n",
       "</div>"
      ],
      "text/plain": [
       "                        avg_sent  sample_count\n",
       "neighbourhood_cleansed                        \n",
       "Bedford-Stuyvesant          0.40         82011\n",
       "Williamsburg                0.43         48264\n",
       "Harlem                      0.38         48231\n",
       "Bushwick                    0.40         32993\n",
       "Hell's Kitchen              0.40         30498\n",
       "...                          ...           ...\n",
       "Gerritsen Beach             0.45            84\n",
       "East Morrisania             0.42            83\n",
       "Emerson Hill                0.37            82\n",
       "Chelsea, Staten Island      0.36            63\n",
       "Rossville                   0.42            58\n",
       "\n",
       "[208 rows x 2 columns]"
      ]
     },
     "execution_count": 67,
     "metadata": {},
     "output_type": "execute_result"
    }
   ],
   "source": [
    "df_sent.loc[df_sent.neighbourhood_cleansed.map(lambda n: n in neighbor_keep), :].groupby(by = 'neighbourhood_cleansed').agg(\n",
    "    avg_sent = pd.NamedAgg(column='sentiment', aggfunc='mean'),\n",
    "    sample_count = pd.NamedAgg(column='sentiment', aggfunc='count')\n",
    ").sort_values(by='sample_count', ascending = False)"
   ]
  },
  {
   "cell_type": "code",
   "execution_count": 68,
   "metadata": {},
   "outputs": [
    {
     "data": {
      "text/html": [
       "<div>\n",
       "<style scoped>\n",
       "    .dataframe tbody tr th:only-of-type {\n",
       "        vertical-align: middle;\n",
       "    }\n",
       "\n",
       "    .dataframe tbody tr th {\n",
       "        vertical-align: top;\n",
       "    }\n",
       "\n",
       "    .dataframe thead th {\n",
       "        text-align: right;\n",
       "    }\n",
       "</style>\n",
       "<table border=\"1\" class=\"dataframe\">\n",
       "  <thead>\n",
       "    <tr style=\"text-align: right;\">\n",
       "      <th></th>\n",
       "      <th>review_count</th>\n",
       "    </tr>\n",
       "    <tr>\n",
       "      <th>neighbourhood_cleansed</th>\n",
       "      <th></th>\n",
       "    </tr>\n",
       "  </thead>\n",
       "  <tbody>\n",
       "    <tr>\n",
       "      <th>Bedford-Stuyvesant</th>\n",
       "      <td>82011</td>\n",
       "    </tr>\n",
       "    <tr>\n",
       "      <th>Williamsburg</th>\n",
       "      <td>48264</td>\n",
       "    </tr>\n",
       "    <tr>\n",
       "      <th>Harlem</th>\n",
       "      <td>48231</td>\n",
       "    </tr>\n",
       "    <tr>\n",
       "      <th>Bushwick</th>\n",
       "      <td>32993</td>\n",
       "    </tr>\n",
       "    <tr>\n",
       "      <th>Hell's Kitchen</th>\n",
       "      <td>30498</td>\n",
       "    </tr>\n",
       "    <tr>\n",
       "      <th>...</th>\n",
       "      <td>...</td>\n",
       "    </tr>\n",
       "    <tr>\n",
       "      <th>Howland Hook</th>\n",
       "      <td>24</td>\n",
       "    </tr>\n",
       "    <tr>\n",
       "      <th>West Farms</th>\n",
       "      <td>23</td>\n",
       "    </tr>\n",
       "    <tr>\n",
       "      <th>Country Club</th>\n",
       "      <td>22</td>\n",
       "    </tr>\n",
       "    <tr>\n",
       "      <th>Lighthouse Hill</th>\n",
       "      <td>19</td>\n",
       "    </tr>\n",
       "    <tr>\n",
       "      <th>Navy Yard</th>\n",
       "      <td>19</td>\n",
       "    </tr>\n",
       "  </tbody>\n",
       "</table>\n",
       "<p>221 rows × 1 columns</p>\n",
       "</div>"
      ],
      "text/plain": [
       "                        review_count\n",
       "neighbourhood_cleansed              \n",
       "Bedford-Stuyvesant             82011\n",
       "Williamsburg                   48264\n",
       "Harlem                         48231\n",
       "Bushwick                       32993\n",
       "Hell's Kitchen                 30498\n",
       "...                              ...\n",
       "Howland Hook                      24\n",
       "West Farms                        23\n",
       "Country Club                      22\n",
       "Lighthouse Hill                   19\n",
       "Navy Yard                         19\n",
       "\n",
       "[221 rows x 1 columns]"
      ]
     },
     "execution_count": 68,
     "metadata": {},
     "output_type": "execute_result"
    }
   ],
   "source": [
    "df_sent.groupby(by = 'neighbourhood_cleansed').agg(\n",
    "    review_count = pd.NamedAgg(column='sentiment', aggfunc='count')\n",
    ").sort_values(ascending = False, by = 'review_count')"
   ]
  },
  {
   "cell_type": "code",
   "execution_count": 69,
   "metadata": {},
   "outputs": [
    {
     "data": {
      "text/plain": [
       "<AxesSubplot:ylabel='Frequency'>"
      ]
     },
     "execution_count": 69,
     "metadata": {},
     "output_type": "execute_result"
    },
    {
     "data": {
      "image/png": "[encoded data removed]",
      "text/plain": [
       "<Figure size 640x480 with 1 Axes>"
      ]
     },
     "metadata": {},
     "output_type": "display_data"
    }
   ],
   "source": [
    "df_sent.groupby(by = 'neighbourhood_cleansed').agg(\n",
    "    review_count = pd.NamedAgg(column='sentiment', aggfunc='count')\n",
    ").plot(kind = 'hist')"
   ]
  },
  {
   "cell_type": "markdown",
   "metadata": {},
   "source": [
    "##### EDA - RedFin Housing market data (full) from https://www.redfin.com/news/data-center/"
   ]
  },
  {
   "cell_type": "code",
   "execution_count": 70,
   "metadata": {},
   "outputs": [
    {
     "name": "stdout",
     "output_type": "stream",
     "text": [
      "(4718104, 58)\n"
     ]
    },
    {
     "data": {
      "text/plain": [
       "Index(['period_begin', 'period_end', 'period_duration', 'region_type',\n",
       "       'region_type_id', 'table_id', 'is_seasonally_adjusted', 'region',\n",
       "       'city', 'state', 'state_code', 'property_type', 'property_type_id',\n",
       "       'median_sale_price', 'median_sale_price_mom', 'median_sale_price_yoy',\n",
       "       'median_list_price', 'median_list_price_mom', 'median_list_price_yoy',\n",
       "       'median_ppsf', 'median_ppsf_mom', 'median_ppsf_yoy', 'median_list_ppsf',\n",
       "       'median_list_ppsf_mom', 'median_list_ppsf_yoy', 'homes_sold',\n",
       "       'homes_sold_mom', 'homes_sold_yoy', 'pending_sales',\n",
       "       'pending_sales_mom', 'pending_sales_yoy', 'new_listings',\n",
       "       'new_listings_mom', 'new_listings_yoy', 'inventory', 'inventory_mom',\n",
       "       'inventory_yoy', 'months_of_supply', 'months_of_supply_mom',\n",
       "       'months_of_supply_yoy', 'median_dom', 'median_dom_mom',\n",
       "       'median_dom_yoy', 'avg_sale_to_list', 'avg_sale_to_list_mom',\n",
       "       'avg_sale_to_list_yoy', 'sold_above_list', 'sold_above_list_mom',\n",
       "       'sold_above_list_yoy', 'price_drops', 'price_drops_mom',\n",
       "       'price_drops_yoy', 'off_market_in_two_weeks',\n",
       "       'off_market_in_two_weeks_mom', 'off_market_in_two_weeks_yoy',\n",
       "       'parent_metro_region', 'parent_metro_region_metro_code',\n",
       "       'last_updated'],\n",
       "      dtype='object')"
      ]
     },
     "execution_count": 70,
     "metadata": {},
     "output_type": "execute_result"
    }
   ],
   "source": [
    "# df_redfin = pd.read_csv(data_dir + 'city_market_tracker.tsv000', sep='\\t')\n",
    "# df_redfin.rename(columns=lib_sean.col_renamer, inplace=True)\n",
    "# print(df_redfin.shape)\n",
    "# df_redfin.columns"
   ]
  },
  {
   "cell_type": "markdown",
   "metadata": {},
   "source": [
    "- drop some monotonously valued columns first"
   ]
  },
  {
   "cell_type": "code",
   "execution_count": 71,
   "metadata": {},
   "outputs": [
    {
     "data": {
      "text/plain": [
       "place    4718104\n",
       "Name: region_type, dtype: int64"
      ]
     },
     "execution_count": 71,
     "metadata": {},
     "output_type": "execute_result"
    }
   ],
   "source": [
    "# df_redfin.region_type.value_counts()"
   ]
  },
  {
   "cell_type": "code",
   "execution_count": 72,
   "metadata": {},
   "outputs": [
    {
     "data": {
      "text/plain": [
       "6    4718104\n",
       "Name: region_type_id, dtype: int64"
      ]
     },
     "execution_count": 72,
     "metadata": {},
     "output_type": "execute_result"
    }
   ],
   "source": [
    "# df_redfin.region_type_id.value_counts()\n"
   ]
  },
  {
   "cell_type": "code",
   "execution_count": 73,
   "metadata": {},
   "outputs": [],
   "source": [
    "# df_redfin.drop(columns=['region_type', 'region_type_id', 'region'], inplace=True)\n"
   ]
  },
  {
   "cell_type": "code",
   "execution_count": 74,
   "metadata": {},
   "outputs": [
    {
     "data": {
      "text/plain": [
       "True"
      ]
     },
     "execution_count": 74,
     "metadata": {},
     "output_type": "execute_result"
    }
   ],
   "source": [
    "# 'New York' in df_redfin.city.value_counts().index"
   ]
  },
  {
   "cell_type": "code",
   "execution_count": 75,
   "metadata": {},
   "outputs": [
    {
     "data": {
      "text/plain": [
       "(475, 55)"
      ]
     },
     "execution_count": 75,
     "metadata": {},
     "output_type": "execute_result"
    }
   ],
   "source": [
    "# df_redfin_ny = df_redfin[df_redfin.city == 'New York']\n",
    "# df_redfin_ny.shape"
   ]
  },
  {
   "cell_type": "code",
   "execution_count": 76,
   "metadata": {},
   "outputs": [],
   "source": [
    "# export cleande redfin data\n",
    "# df_redfin_ny.to_csv(data_dir + 'redfin_nyc_house_market_data.csv', index=False)"
   ]
  },
  {
   "cell_type": "markdown",
   "metadata": {},
   "source": [
    "##### EDA - Redfin NYC House Market data -- derived from https://www.redfin.com/news/data-center/\n",
    "- this one's cleaned from the previous full Redfin dataset. It contains only NYC records."
   ]
  },
  {
   "cell_type": "code",
   "execution_count": 153,
   "metadata": {},
   "outputs": [
    {
     "name": "stdout",
     "output_type": "stream",
     "text": [
      "(970, 102)\n"
     ]
    },
    {
     "data": {
      "text/plain": [
       "Index(['region_id', 'region_type_id', 'region_name', 'region_type',\n",
       "       'period_begin', 'period_end', 'duration', 'total_homes_sold',\n",
       "       'total_homes_sold_yoy', 'average_homes_sold',\n",
       "       ...\n",
       "       'average_adjustment_average_homes_sold', 'adjusted_average_homes_sold',\n",
       "       'average_adjustment_average_new_listings',\n",
       "       'adjusted_average_new_listings', 'average_adjustment_pending_sales',\n",
       "       'adjusted_pending_sales', 'adjusted_average_homes_delisted_yoy',\n",
       "       'adjusted_average_homes_sold_yoy', 'adjusted_average_new_listings_yoy',\n",
       "       'adjusted_pending_sales_yoy'],\n",
       "      dtype='object', length=102)"
      ]
     },
     "execution_count": 153,
     "metadata": {},
     "output_type": "execute_result"
    }
   ],
   "source": [
    "df_redfin_ny = pd.read_csv(data_dir + 'redfin_nyc_house_most_recent.csv')\n",
    "print(df_redfin_ny.shape)\n",
    "df_redfin_ny.columns"
   ]
  },
  {
   "cell_type": "code",
   "execution_count": 154,
   "metadata": {},
   "outputs": [
    {
     "name": "stdout",
     "output_type": "stream",
     "text": [
      "period_begin    2017-01-02\n",
      "period_end      2017-01-08\n",
      "dtype: object\n",
      "period_begin    2023-04-10\n",
      "period_end      2023-04-16\n",
      "dtype: object\n"
     ]
    }
   ],
   "source": [
    "print(df_redfin_ny[['period_begin', 'period_end']].min())\n",
    "print(df_redfin_ny[['period_begin', 'period_end']].max())"
   ]
  },
  {
   "cell_type": "code",
   "execution_count": 160,
   "metadata": {},
   "outputs": [],
   "source": [
    "df_redfin_ny['period_begin'] = df_redfin_ny['period_begin'].map(\n",
    "    lambda v: pd.to_datetime(v)\n",
    ")\n",
    "\n",
    "df_redfin_ny['period_end'] = df_redfin_ny['period_begin'].map(\n",
    "    lambda v: pd.to_datetime(v)\n",
    ")"
   ]
  },
  {
   "cell_type": "code",
   "execution_count": 162,
   "metadata": {},
   "outputs": [
    {
     "data": {
      "text/html": [
       "<div>\n",
       "<style scoped>\n",
       "    .dataframe tbody tr th:only-of-type {\n",
       "        vertical-align: middle;\n",
       "    }\n",
       "\n",
       "    .dataframe tbody tr th {\n",
       "        vertical-align: top;\n",
       "    }\n",
       "\n",
       "    .dataframe thead th {\n",
       "        text-align: right;\n",
       "    }\n",
       "</style>\n",
       "<table border=\"1\" class=\"dataframe\">\n",
       "  <thead>\n",
       "    <tr style=\"text-align: right;\">\n",
       "      <th></th>\n",
       "      <th>year</th>\n",
       "      <th>month</th>\n",
       "    </tr>\n",
       "  </thead>\n",
       "  <tbody>\n",
       "    <tr>\n",
       "      <th>0</th>\n",
       "      <td>2017</td>\n",
       "      <td>3</td>\n",
       "    </tr>\n",
       "    <tr>\n",
       "      <th>1</th>\n",
       "      <td>2017</td>\n",
       "      <td>1</td>\n",
       "    </tr>\n",
       "    <tr>\n",
       "      <th>2</th>\n",
       "      <td>2017</td>\n",
       "      <td>2</td>\n",
       "    </tr>\n",
       "    <tr>\n",
       "      <th>3</th>\n",
       "      <td>2017</td>\n",
       "      <td>3</td>\n",
       "    </tr>\n",
       "    <tr>\n",
       "      <th>4</th>\n",
       "      <td>2017</td>\n",
       "      <td>1</td>\n",
       "    </tr>\n",
       "  </tbody>\n",
       "</table>\n",
       "</div>"
      ],
      "text/plain": [
       "   year  month\n",
       "0  2017      3\n",
       "1  2017      1\n",
       "2  2017      2\n",
       "3  2017      3\n",
       "4  2017      1"
      ]
     },
     "execution_count": 162,
     "metadata": {},
     "output_type": "execute_result"
    }
   ],
   "source": [
    "# new listings - available units in the market\n",
    "df_redfin_ny['year'] = df_redfin_ny.period_begin.map(lambda p : p.year)\n",
    "df_redfin_ny['month'] = df_redfin_ny.period_begin.map(lambda p : p.month)\n",
    "df_redfin_ny[['year', 'month']].head()"
   ]
  },
  {
   "cell_type": "code",
   "execution_count": 167,
   "metadata": {},
   "outputs": [
    {
     "data": {
      "text/plain": [
       "<AxesSubplot:title={'center':'citywide inventory by month'}, xlabel='period_begin'>"
      ]
     },
     "execution_count": 167,
     "metadata": {},
     "output_type": "execute_result"
    },
    {
     "data": {
      "image/png": "[encoded data removed]",
      "text/plain": [
       "<Figure size 640x480 with 1 Axes>"
      ]
     },
     "metadata": {},
     "output_type": "display_data"
    }
   ],
   "source": [
    "df_redfin_ny[df_redfin_ny.period_end <= pd.to_datetime('2023-3-01')].groupby(by = ['period_begin',]).agg(\n",
    "    inventory_sum = pd.NamedAgg(column='inventory', aggfunc=lambda col: int(col.sum()))\n",
    ").plot(kind = 'line', title = 'citywide inventory by month')"
   ]
  },
  {
   "cell_type": "code",
   "execution_count": 168,
   "metadata": {},
   "outputs": [
    {
     "data": {
      "text/plain": [
       "<AxesSubplot:title={'center':'citywide new listings by month'}, xlabel='period_begin'>"
      ]
     },
     "execution_count": 168,
     "metadata": {},
     "output_type": "execute_result"
    },
    {
     "data": {
      "image/png": "[encoded data removed]",
      "text/plain": [
       "<Figure size 640x480 with 1 Axes>"
      ]
     },
     "metadata": {},
     "output_type": "display_data"
    }
   ],
   "source": [
    "df_redfin_ny[df_redfin_ny.period_end <= pd.to_datetime('2023-3-01')].groupby(by = ['period_begin']).agg(\n",
    "    new_listings_sum = pd.NamedAgg(column='total_new_listings', aggfunc=lambda col: int(col.sum())),\n",
    "    # year = pd.NamedAgg(column='period_end', aggfunc = lambda col: list(col)[0].split('-')[0])\n",
    ").plot(kind = 'line', title = 'citywide new listings by month',)"
   ]
  },
  {
   "cell_type": "markdown",
   "metadata": {},
   "source": [
    "- this plot could be used to justify that the supply in NYC is sufficient for us to buy properties\n",
    "- can also show the seasonality to find the best timing to buy in"
   ]
  },
  {
   "cell_type": "code",
   "execution_count": 178,
   "metadata": {},
   "outputs": [
    {
     "data": {
      "text/plain": [
       "<AxesSubplot:title={'center':'citywide median sale price by month'}, xlabel='period_begin'>"
      ]
     },
     "execution_count": 178,
     "metadata": {},
     "output_type": "execute_result"
    },
    {
     "data": {
      "image/png": "[encoded data removed]",
      "text/plain": [
       "<Figure size 640x480 with 1 Axes>"
      ]
     },
     "metadata": {},
     "output_type": "display_data"
    }
   ],
   "source": [
    "df_redfin_ny[df_redfin_ny.period_end <= pd.to_datetime('2023-3-01')].groupby(by = ['period_begin']).agg(\n",
    "    median_sale_price = pd.NamedAgg(column='median_sale_price', aggfunc='median'),\n",
    "    # year = pd.NamedAgg(column='period_end', aggfunc = lambda col: list(col)[0].split('-')[0])\n",
    ").plot(kind = 'line', title = 'citywide median sale price by month',)"
   ]
  },
  {
   "cell_type": "code",
   "execution_count": 179,
   "metadata": {},
   "outputs": [
    {
     "data": {
      "text/html": [
       "<div>\n",
       "<style scoped>\n",
       "    .dataframe tbody tr th:only-of-type {\n",
       "        vertical-align: middle;\n",
       "    }\n",
       "\n",
       "    .dataframe tbody tr th {\n",
       "        vertical-align: top;\n",
       "    }\n",
       "\n",
       "    .dataframe thead th {\n",
       "        text-align: right;\n",
       "    }\n",
       "</style>\n",
       "<table border=\"1\" class=\"dataframe\">\n",
       "  <thead>\n",
       "    <tr style=\"text-align: right;\">\n",
       "      <th></th>\n",
       "      <th>month</th>\n",
       "      <th>median_sale_price</th>\n",
       "    </tr>\n",
       "  </thead>\n",
       "  <tbody>\n",
       "    <tr>\n",
       "      <th>809</th>\n",
       "      <td>1</td>\n",
       "      <td>668942.40</td>\n",
       "    </tr>\n",
       "    <tr>\n",
       "      <th>830</th>\n",
       "      <td>1</td>\n",
       "      <td>674712.70</td>\n",
       "    </tr>\n",
       "    <tr>\n",
       "      <th>804</th>\n",
       "      <td>1</td>\n",
       "      <td>662495.00</td>\n",
       "    </tr>\n",
       "    <tr>\n",
       "      <th>789</th>\n",
       "      <td>1</td>\n",
       "      <td>664611.00</td>\n",
       "    </tr>\n",
       "    <tr>\n",
       "      <th>786</th>\n",
       "      <td>1</td>\n",
       "      <td>662861.00</td>\n",
       "    </tr>\n",
       "    <tr>\n",
       "      <th>...</th>\n",
       "      <td>...</td>\n",
       "      <td>...</td>\n",
       "    </tr>\n",
       "    <tr>\n",
       "      <th>928</th>\n",
       "      <td>12</td>\n",
       "      <td>620000.00</td>\n",
       "    </tr>\n",
       "    <tr>\n",
       "      <th>927</th>\n",
       "      <td>12</td>\n",
       "      <td>653375.00</td>\n",
       "    </tr>\n",
       "    <tr>\n",
       "      <th>924</th>\n",
       "      <td>12</td>\n",
       "      <td>647375.00</td>\n",
       "    </tr>\n",
       "    <tr>\n",
       "      <th>901</th>\n",
       "      <td>12</td>\n",
       "      <td>636000.00</td>\n",
       "    </tr>\n",
       "    <tr>\n",
       "      <th>967</th>\n",
       "      <td>12</td>\n",
       "      <td>643416.60</td>\n",
       "    </tr>\n",
       "  </tbody>\n",
       "</table>\n",
       "<p>156 rows × 2 columns</p>\n",
       "</div>"
      ],
      "text/plain": [
       "     month  median_sale_price\n",
       "809      1          668942.40\n",
       "830      1          674712.70\n",
       "804      1          662495.00\n",
       "789      1          664611.00\n",
       "786      1          662861.00\n",
       "..     ...                ...\n",
       "928     12          620000.00\n",
       "927     12          653375.00\n",
       "924     12          647375.00\n",
       "901     12          636000.00\n",
       "967     12          643416.60\n",
       "\n",
       "[156 rows x 2 columns]"
      ]
     },
     "execution_count": 179,
     "metadata": {},
     "output_type": "execute_result"
    }
   ],
   "source": [
    "df_redfin_ny[\n",
    "        (df_redfin_ny.year.astype(int) == 2022) #& (df_redfin_ny.property_type == 'All Residential')\n",
    "    ][\n",
    "        ['month', 'median_sale_price',]\n",
    "    ].sort_values(by = ['month',])"
   ]
  },
  {
   "cell_type": "code",
   "execution_count": 182,
   "metadata": {},
   "outputs": [
    {
     "data": {
      "text/html": [
       "<div>\n",
       "<style scoped>\n",
       "    .dataframe tbody tr th:only-of-type {\n",
       "        vertical-align: middle;\n",
       "    }\n",
       "\n",
       "    .dataframe tbody tr th {\n",
       "        vertical-align: top;\n",
       "    }\n",
       "\n",
       "    .dataframe thead th {\n",
       "        text-align: right;\n",
       "    }\n",
       "</style>\n",
       "<table border=\"1\" class=\"dataframe\">\n",
       "  <thead>\n",
       "    <tr style=\"text-align: right;\">\n",
       "      <th></th>\n",
       "      <th>period_end</th>\n",
       "      <th>median_sale_price</th>\n",
       "    </tr>\n",
       "  </thead>\n",
       "  <tbody>\n",
       "    <tr>\n",
       "      <th>922</th>\n",
       "      <td>2023-01-02</td>\n",
       "      <td>675000.00</td>\n",
       "    </tr>\n",
       "    <tr>\n",
       "      <th>936</th>\n",
       "      <td>2023-01-02</td>\n",
       "      <td>656250.00</td>\n",
       "    </tr>\n",
       "    <tr>\n",
       "      <th>961</th>\n",
       "      <td>2023-01-02</td>\n",
       "      <td>650208.30</td>\n",
       "    </tr>\n",
       "    <tr>\n",
       "      <th>925</th>\n",
       "      <td>2023-01-09</td>\n",
       "      <td>660000.00</td>\n",
       "    </tr>\n",
       "    <tr>\n",
       "      <th>939</th>\n",
       "      <td>2023-01-09</td>\n",
       "      <td>647500.00</td>\n",
       "    </tr>\n",
       "    <tr>\n",
       "      <th>950</th>\n",
       "      <td>2023-01-09</td>\n",
       "      <td>648233.70</td>\n",
       "    </tr>\n",
       "    <tr>\n",
       "      <th>940</th>\n",
       "      <td>2023-01-16</td>\n",
       "      <td>640000.00</td>\n",
       "    </tr>\n",
       "    <tr>\n",
       "      <th>945</th>\n",
       "      <td>2023-01-16</td>\n",
       "      <td>642500.00</td>\n",
       "    </tr>\n",
       "    <tr>\n",
       "      <th>953</th>\n",
       "      <td>2023-01-16</td>\n",
       "      <td>645942.00</td>\n",
       "    </tr>\n",
       "    <tr>\n",
       "      <th>956</th>\n",
       "      <td>2023-01-23</td>\n",
       "      <td>646692.00</td>\n",
       "    </tr>\n",
       "    <tr>\n",
       "      <th>934</th>\n",
       "      <td>2023-01-23</td>\n",
       "      <td>650000.00</td>\n",
       "    </tr>\n",
       "    <tr>\n",
       "      <th>948</th>\n",
       "      <td>2023-01-23</td>\n",
       "      <td>645000.00</td>\n",
       "    </tr>\n",
       "    <tr>\n",
       "      <th>933</th>\n",
       "      <td>2023-01-30</td>\n",
       "      <td>637500.00</td>\n",
       "    </tr>\n",
       "    <tr>\n",
       "      <th>937</th>\n",
       "      <td>2023-01-30</td>\n",
       "      <td>640000.00</td>\n",
       "    </tr>\n",
       "    <tr>\n",
       "      <th>943</th>\n",
       "      <td>2023-02-06</td>\n",
       "      <td>640000.00</td>\n",
       "    </tr>\n",
       "    <tr>\n",
       "      <th>965</th>\n",
       "      <td>2023-02-06</td>\n",
       "      <td>640000.00</td>\n",
       "    </tr>\n",
       "    <tr>\n",
       "      <th>946</th>\n",
       "      <td>2023-02-13</td>\n",
       "      <td>650000.00</td>\n",
       "    </tr>\n",
       "    <tr>\n",
       "      <th>968</th>\n",
       "      <td>2023-02-13</td>\n",
       "      <td>634375.00</td>\n",
       "    </tr>\n",
       "    <tr>\n",
       "      <th>931</th>\n",
       "      <td>2023-02-20</td>\n",
       "      <td>620000.00</td>\n",
       "    </tr>\n",
       "    <tr>\n",
       "      <th>959</th>\n",
       "      <td>2023-02-20</td>\n",
       "      <td>635625.00</td>\n",
       "    </tr>\n",
       "    <tr>\n",
       "      <th>963</th>\n",
       "      <td>2023-02-27</td>\n",
       "      <td>650000.00</td>\n",
       "    </tr>\n",
       "    <tr>\n",
       "      <th>962</th>\n",
       "      <td>2023-02-27</td>\n",
       "      <td>656875.00</td>\n",
       "    </tr>\n",
       "    <tr>\n",
       "      <th>966</th>\n",
       "      <td>2023-03-06</td>\n",
       "      <td>617500.00</td>\n",
       "    </tr>\n",
       "    <tr>\n",
       "      <th>951</th>\n",
       "      <td>2023-03-06</td>\n",
       "      <td>657201.20</td>\n",
       "    </tr>\n",
       "    <tr>\n",
       "      <th>957</th>\n",
       "      <td>2023-03-13</td>\n",
       "      <td>655000.00</td>\n",
       "    </tr>\n",
       "    <tr>\n",
       "      <th>954</th>\n",
       "      <td>2023-03-13</td>\n",
       "      <td>660951.20</td>\n",
       "    </tr>\n",
       "    <tr>\n",
       "      <th>960</th>\n",
       "      <td>2023-03-20</td>\n",
       "      <td>705000.00</td>\n",
       "    </tr>\n",
       "    <tr>\n",
       "      <th>969</th>\n",
       "      <td>2023-03-20</td>\n",
       "      <td>659451.20</td>\n",
       "    </tr>\n",
       "    <tr>\n",
       "      <th>949</th>\n",
       "      <td>2023-03-27</td>\n",
       "      <td>651305.00</td>\n",
       "    </tr>\n",
       "    <tr>\n",
       "      <th>952</th>\n",
       "      <td>2023-04-03</td>\n",
       "      <td>632500.00</td>\n",
       "    </tr>\n",
       "    <tr>\n",
       "      <th>955</th>\n",
       "      <td>2023-04-10</td>\n",
       "      <td>649000.00</td>\n",
       "    </tr>\n",
       "  </tbody>\n",
       "</table>\n",
       "</div>"
      ],
      "text/plain": [
       "    period_end  median_sale_price\n",
       "922 2023-01-02          675000.00\n",
       "936 2023-01-02          656250.00\n",
       "961 2023-01-02          650208.30\n",
       "925 2023-01-09          660000.00\n",
       "939 2023-01-09          647500.00\n",
       "950 2023-01-09          648233.70\n",
       "940 2023-01-16          640000.00\n",
       "945 2023-01-16          642500.00\n",
       "953 2023-01-16          645942.00\n",
       "956 2023-01-23          646692.00\n",
       "934 2023-01-23          650000.00\n",
       "948 2023-01-23          645000.00\n",
       "933 2023-01-30          637500.00\n",
       "937 2023-01-30          640000.00\n",
       "943 2023-02-06          640000.00\n",
       "965 2023-02-06          640000.00\n",
       "946 2023-02-13          650000.00\n",
       "968 2023-02-13          634375.00\n",
       "931 2023-02-20          620000.00\n",
       "959 2023-02-20          635625.00\n",
       "963 2023-02-27          650000.00\n",
       "962 2023-02-27          656875.00\n",
       "966 2023-03-06          617500.00\n",
       "951 2023-03-06          657201.20\n",
       "957 2023-03-13          655000.00\n",
       "954 2023-03-13          660951.20\n",
       "960 2023-03-20          705000.00\n",
       "969 2023-03-20          659451.20\n",
       "949 2023-03-27          651305.00\n",
       "952 2023-04-03          632500.00\n",
       "955 2023-04-10          649000.00"
      ]
     },
     "execution_count": 182,
     "metadata": {},
     "output_type": "execute_result"
    }
   ],
   "source": [
    "df_redfin_ny[\n",
    "        (df_redfin_ny.year.astype(int) == 2023)\n",
    "    ][\n",
    "        ['period_end', 'median_sale_price',\n",
    "    ]].sort_values(by = ['period_end', ])"
   ]
  },
  {
   "cell_type": "markdown",
   "metadata": {},
   "source": [
    "- as price distribution is usually skewed, here we use median to estimate the price\n",
    "- Multi-Family is economic as it contains multiple units."
   ]
  },
  {
   "cell_type": "code",
   "execution_count": null,
   "metadata": {},
   "outputs": [],
   "source": []
  },
  {
   "cell_type": "markdown",
   "metadata": {},
   "source": [
    "##### EDA - Redfin most recent"
   ]
  },
  {
   "cell_type": "code",
   "execution_count": 145,
   "metadata": {},
   "outputs": [
    {
     "name": "stdout",
     "output_type": "stream",
     "text": [
      "(3533974, 102)\n"
     ]
    },
    {
     "data": {
      "text/plain": [
       "Index(['region_id', 'region_type_id', 'region_name', 'region_type',\n",
       "       'period_begin', 'period_end', 'duration', 'total_homes_sold',\n",
       "       'total_homes_sold_yoy', 'average_homes_sold',\n",
       "       ...\n",
       "       'average_adjustment_average_homes_sold', 'adjusted_average_homes_sold',\n",
       "       'average_adjustment_average_new_listings',\n",
       "       'adjusted_average_new_listings', 'average_adjustment_pending_sales',\n",
       "       'adjusted_pending_sales', 'adjusted_average_homes_delisted_yoy',\n",
       "       'adjusted_average_homes_sold_yoy', 'adjusted_average_new_listings_yoy',\n",
       "       'adjusted_pending_sales_yoy'],\n",
       "      dtype='object', length=102)"
      ]
     },
     "execution_count": 145,
     "metadata": {},
     "output_type": "execute_result"
    }
   ],
   "source": [
    "df_redfin_recent_tsv = pd.read_csv(data_dir + 'weekly_housing_market_data_most_recent.tsv000', sep = '\\t')\n",
    "df_redfin_recent_tsv.rename(columns=lib_sean.col_renamer, inplace=True)\n",
    "print(df_redfin_recent_tsv.shape)\n",
    "df_redfin_recent_tsv.columns"
   ]
  },
  {
   "cell_type": "code",
   "execution_count": 148,
   "metadata": {},
   "outputs": [
    {
     "data": {
      "text/plain": [
       "(970, 102)"
      ]
     },
     "execution_count": 148,
     "metadata": {},
     "output_type": "execute_result"
    }
   ],
   "source": [
    "df_redfin_recent_ny_tsv = df_redfin_recent_tsv.loc[\n",
    "    df_redfin_recent_tsv.region_name.map(lambda n: 'New York, NY' in n ), :\n",
    "]\n",
    "\n",
    "df_redfin_recent_ny_tsv.shape"
   ]
  },
  {
   "cell_type": "code",
   "execution_count": 151,
   "metadata": {},
   "outputs": [
    {
     "data": {
      "text/plain": [
       "'2017-01-02'"
      ]
     },
     "execution_count": 151,
     "metadata": {},
     "output_type": "execute_result"
    }
   ],
   "source": [
    "df_redfin_recent_tsv.period_begin.min()"
   ]
  },
  {
   "cell_type": "code",
   "execution_count": 152,
   "metadata": {},
   "outputs": [],
   "source": [
    "# df_redfin_recent_ny_tsv.to_csv(data_dir + 'redfin_nyc_house_most_recent.csv', index = False)"
   ]
  }
 ],
 "metadata": {
  "kernelspec": {
   "display_name": "Python 3.10.4 64-bit",
   "language": "python",
   "name": "python3"
  },
  "language_info": {
   "codemirror_mode": {
    "name": "ipython",
    "version": 3
   },
   "file_extension": ".py",
   "mimetype": "text/x-python",
   "name": "python",
   "nbconvert_exporter": "python",
   "pygments_lexer": "ipython3",
   "version": "3.10.4"
  },
  "orig_nbformat": 4,
  "vscode": {
   "interpreter": {
    "hash": "26de051ba29f2982a8de78e945f0abaf191376122a1563185a90213a26c5da77"
   }
  }
 },
 "nbformat": 4,
 "nbformat_minor": 2
}
