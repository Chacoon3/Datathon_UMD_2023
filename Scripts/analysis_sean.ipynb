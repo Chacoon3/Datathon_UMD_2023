{
 "cells": [
  {
   "cell_type": "code",
   "execution_count": 1,
   "metadata": {},
   "outputs": [],
   "source": [
    "import pandas as pd\n",
    "import numpy as np\n",
    "import seaborn as sns\n",
    "\n",
    "import os\n",
    "import requests\n",
    "import json\n",
    "import regex as re\n",
    "\n",
    "import lib_sean\n",
    "\n",
    "pd.set_option('display.float_format', lambda x: '%.2f' % x)"
   ]
  },
  {
   "cell_type": "code",
   "execution_count": 2,
   "metadata": {},
   "outputs": [],
   "source": [
    "#  dir setting\n",
    "root_dir = '\\\\'.join( os.getcwd().split('\\\\')[:-1])\n",
    "data_dir = root_dir + '\\\\' + 'Data\\\\'"
   ]
  },
  {
   "cell_type": "markdown",
   "metadata": {},
   "source": [
    "##### EDA - original set"
   ]
  },
  {
   "cell_type": "code",
   "execution_count": 3,
   "metadata": {},
   "outputs": [],
   "source": [
    "df = pd.read_excel(data_dir + 'property_data.xlsx')\n",
    "df_rev_geocoding = pd.read_excel(data_dir + 'rev_geocoding.xlsx')"
   ]
  },
  {
   "cell_type": "code",
   "execution_count": 4,
   "metadata": {},
   "outputs": [
    {
     "name": "stdout",
     "output_type": "stream",
     "text": [
      "(102575, 23)\n"
     ]
    }
   ],
   "source": [
    "df = lib_sean.clean_data(df, df_rev_geocoding)\n",
    "df.rename(columns=lib_sean.col_renamer, inplace=True)\n",
    "print(df.shape)"
   ]
  },
  {
   "cell_type": "code",
   "execution_count": 5,
   "metadata": {},
   "outputs": [
    {
     "name": "stdout",
     "output_type": "stream",
     "text": [
      "Index(['id', 'name', 'host_id', 'host_name', 'nyc_borough', 'neighborhood',\n",
      "       'latitude', 'longitude', 'instant_bookable', 'cancellation_policy',\n",
      "       'room_type', 'construction_year', 'price', 'service_fee',\n",
      "       'minimum_nights', 'number_of_reviews', 'last_review',\n",
      "       'reviews_per_month', 'house_rules', 'coordinate', 'full_address',\n",
      "       'zipcode', 'property_name'],\n",
      "      dtype='object')\n"
     ]
    },
    {
     "data": {
      "text/plain": [
       "house_rules            52123\n",
       "minimum_nights           408\n",
       "host_name                406\n",
       "zipcode                  312\n",
       "cancellation_policy       74\n",
       "nyc_borough               24\n",
       "id                         0\n",
       "service_fee                0\n",
       "full_address               0\n",
       "coordinate                 0\n",
       "dtype: int64"
      ]
     },
     "execution_count": 5,
     "metadata": {},
     "output_type": "execute_result"
    }
   ],
   "source": [
    "print(df.columns)\n",
    "df.isna().sum().sort_values(ascending = False)[:10]"
   ]
  },
  {
   "cell_type": "code",
   "execution_count": 6,
   "metadata": {},
   "outputs": [
    {
     "data": {
      "text/html": [
       "<div>\n",
       "<style scoped>\n",
       "    .dataframe tbody tr th:only-of-type {\n",
       "        vertical-align: middle;\n",
       "    }\n",
       "\n",
       "    .dataframe tbody tr th {\n",
       "        vertical-align: top;\n",
       "    }\n",
       "\n",
       "    .dataframe thead th {\n",
       "        text-align: right;\n",
       "    }\n",
       "</style>\n",
       "<table border=\"1\" class=\"dataframe\">\n",
       "  <thead>\n",
       "    <tr style=\"text-align: right;\">\n",
       "      <th></th>\n",
       "      <th>avg_price</th>\n",
       "      <th>avg_monthy_review</th>\n",
       "    </tr>\n",
       "    <tr>\n",
       "      <th>neighborhood</th>\n",
       "      <th></th>\n",
       "      <th></th>\n",
       "    </tr>\n",
       "  </thead>\n",
       "  <tbody>\n",
       "    <tr>\n",
       "      <th>Allerton</th>\n",
       "      <td>636.23</td>\n",
       "      <td>2.04</td>\n",
       "    </tr>\n",
       "    <tr>\n",
       "      <th>Arden Heights</th>\n",
       "      <td>804.89</td>\n",
       "      <td>1.65</td>\n",
       "    </tr>\n",
       "    <tr>\n",
       "      <th>Arrochar</th>\n",
       "      <td>625.75</td>\n",
       "      <td>1.33</td>\n",
       "    </tr>\n",
       "    <tr>\n",
       "      <th>Arverne</th>\n",
       "      <td>652.13</td>\n",
       "      <td>1.51</td>\n",
       "    </tr>\n",
       "    <tr>\n",
       "      <th>Astoria</th>\n",
       "      <td>639.00</td>\n",
       "      <td>1.31</td>\n",
       "    </tr>\n",
       "    <tr>\n",
       "      <th>...</th>\n",
       "      <td>...</td>\n",
       "      <td>...</td>\n",
       "    </tr>\n",
       "    <tr>\n",
       "      <th>Windsor Terrace</th>\n",
       "      <td>579.92</td>\n",
       "      <td>1.29</td>\n",
       "    </tr>\n",
       "    <tr>\n",
       "      <th>Woodhaven</th>\n",
       "      <td>630.49</td>\n",
       "      <td>2.03</td>\n",
       "    </tr>\n",
       "    <tr>\n",
       "      <th>Woodlawn</th>\n",
       "      <td>587.14</td>\n",
       "      <td>2.40</td>\n",
       "    </tr>\n",
       "    <tr>\n",
       "      <th>Woodrow</th>\n",
       "      <td>709.33</td>\n",
       "      <td>2.13</td>\n",
       "    </tr>\n",
       "    <tr>\n",
       "      <th>Woodside</th>\n",
       "      <td>634.51</td>\n",
       "      <td>1.25</td>\n",
       "    </tr>\n",
       "  </tbody>\n",
       "</table>\n",
       "<p>224 rows × 2 columns</p>\n",
       "</div>"
      ],
      "text/plain": [
       "                 avg_price  avg_monthy_review\n",
       "neighborhood                                 \n",
       "Allerton            636.23               2.04\n",
       "Arden Heights       804.89               1.65\n",
       "Arrochar            625.75               1.33\n",
       "Arverne             652.13               1.51\n",
       "Astoria             639.00               1.31\n",
       "...                    ...                ...\n",
       "Windsor Terrace     579.92               1.29\n",
       "Woodhaven           630.49               2.03\n",
       "Woodlawn            587.14               2.40\n",
       "Woodrow             709.33               2.13\n",
       "Woodside            634.51               1.25\n",
       "\n",
       "[224 rows x 2 columns]"
      ]
     },
     "execution_count": 6,
     "metadata": {},
     "output_type": "execute_result"
    }
   ],
   "source": [
    "df_by_neighbor = df.groupby(by = ['neighborhood']).agg(\n",
    "    avg_price = pd.NamedAgg(column='price', aggfunc= 'mean'),\n",
    "    avg_monthy_review = pd.NamedAgg(column='reviews_per_month', aggfunc= 'mean')\n",
    ")\n",
    "df_by_neighbor"
   ]
  },
  {
   "cell_type": "markdown",
   "metadata": {},
   "source": [
    "- appeared that there is no relationship between rental price and monthly review, probably owing to the unwillingness of customers to give review.\n",
    "- As a result, the review data is sparse and therefore invalid for drawing statistical conclusions"
   ]
  },
  {
   "cell_type": "code",
   "execution_count": 7,
   "metadata": {},
   "outputs": [
    {
     "name": "stdout",
     "output_type": "stream",
     "text": [
      "count    224.00\n",
      "mean     622.51\n",
      "std       96.31\n",
      "min      107.67\n",
      "25%      593.00\n",
      "50%      626.86\n",
      "75%      652.32\n",
      "max     1045.00\n",
      "Name: avg_price, dtype: float64\n"
     ]
    },
    {
     "data": {
      "image/png": "[encoded data removed]",
      "text/plain": [
       "<Figure size 640x480 with 1 Axes>"
      ]
     },
     "metadata": {},
     "output_type": "display_data"
    }
   ],
   "source": [
    "df_by_neighbor.avg_price.plot(kind='box')\n",
    "print(df_by_neighbor.avg_price.describe())"
   ]
  },
  {
   "cell_type": "markdown",
   "metadata": {},
   "source": [
    "- It can be concluded from the box plot that the rental price features low variance and is roughly of normal distribution. That way, average price could be a good index for pricing."
   ]
  },
  {
   "cell_type": "code",
   "execution_count": 8,
   "metadata": {},
   "outputs": [
    {
     "data": {
      "text/plain": [
       "neighborhood\n",
       "New Dorp                 1045.00\n",
       "Chelsea, Staten Island   1042.00\n",
       "Fort Wadsworth           1024.00\n",
       "Little Neck               817.75\n",
       "Jamaica Hills             812.90\n",
       "Arden Heights             804.89\n",
       "Midland Beach             796.18\n",
       "Shore Acres               792.26\n",
       "Mill Basin                775.14\n",
       "Riverdale                 768.74\n",
       "Name: avg_price, dtype: float64"
      ]
     },
     "execution_count": 8,
     "metadata": {},
     "output_type": "execute_result"
    }
   ],
   "source": [
    "df_by_neighbor.avg_price.sort_values(ascending=False)[:10]"
   ]
  },
  {
   "cell_type": "code",
   "execution_count": 9,
   "metadata": {},
   "outputs": [
    {
     "data": {
      "text/plain": [
       "neighborhood\n",
       "Astoria              639.00\n",
       "Washington Heights   602.20\n",
       "Park Slope           607.81\n",
       "Long Island City     647.36\n",
       "Williamsburg         625.54\n",
       "Name: avg_price, dtype: float64"
      ]
     },
     "execution_count": 9,
     "metadata": {},
     "output_type": "execute_result"
    }
   ],
   "source": [
    "# neighborhoods where working people dwell in -- according to GPT\n",
    "df_by_neighbor.avg_price.sort_values(ascending=False)[['Astoria', 'Washington Heights', 'Park Slope', 'Long Island City', 'Williamsburg']]"
   ]
  },
  {
   "cell_type": "code",
   "execution_count": 10,
   "metadata": {},
   "outputs": [],
   "source": [
    "# export cleaned dataset\n",
    "#df.to_csv(data_dir + 'property_data_cleaned.csv')"
   ]
  },
  {
   "cell_type": "markdown",
   "metadata": {},
   "source": [
    "##### EDA - Inside Airbnb NYC Listings\n",
    "- take a look at the relationship between monthly price and daily price"
   ]
  },
  {
   "cell_type": "code",
   "execution_count": 11,
   "metadata": {},
   "outputs": [
    {
     "name": "stderr",
     "output_type": "stream",
     "text": [
      "C:\\Users\\Chaconne\\AppData\\Local\\Temp\\ipykernel_16764\\3960604245.py:1: DtypeWarning: Columns (17) have mixed types. Specify dtype option on import or set low_memory=False.\n",
      "  df_ia = pd.read_csv(data_dir + 'Obsolute/listings.csv')\n"
     ]
    },
    {
     "data": {
      "text/plain": [
       "(42931, 18)"
      ]
     },
     "execution_count": 11,
     "metadata": {},
     "output_type": "execute_result"
    }
   ],
   "source": [
    "df_ia = pd.read_csv(data_dir + 'Obsolute/listings.csv')\n",
    "df_ia.rename(columns=lib_sean.col_renamer, inplace=True)\n",
    "df_ia.shape"
   ]
  },
  {
   "cell_type": "code",
   "execution_count": 12,
   "metadata": {},
   "outputs": [
    {
     "data": {
      "text/plain": [
       "Index(['id', 'name', 'host_id', 'host_name', 'neighbourhood_group',\n",
       "       'neighbourhood', 'latitude', 'longitude', 'room_type', 'price',\n",
       "       'minimum_nights', 'number_of_reviews', 'last_review',\n",
       "       'reviews_per_month', 'calculated_host_listings_count',\n",
       "       'availability_365', 'number_of_reviews_ltm', 'license'],\n",
       "      dtype='object')"
      ]
     },
     "execution_count": 12,
     "metadata": {},
     "output_type": "execute_result"
    }
   ],
   "source": [
    "df_ia.columns"
   ]
  },
  {
   "cell_type": "markdown",
   "metadata": {},
   "source": [
    "##### EDA - Geographical set\n",
    "- tour site data\n",
    "    - looks good\n",
    "    - can perform geographical analysis and visualization using this dataset"
   ]
  },
  {
   "cell_type": "code",
   "execution_count": 13,
   "metadata": {},
   "outputs": [
    {
     "name": "stderr",
     "output_type": "stream",
     "text": [
      "C:\\Users\\Chaconne\\AppData\\Roaming\\Python\\Python310\\site-packages\\openpyxl\\worksheet\\_reader.py:312: UserWarning: Unknown extension is not supported and will be removed\n",
      "  warn(msg)\n"
     ]
    }
   ],
   "source": [
    "df_tour_site = pd.read_excel(data_dir + 'New_York_Tourist_Locations.xlsx')"
   ]
  },
  {
   "cell_type": "code",
   "execution_count": 14,
   "metadata": {},
   "outputs": [
    {
     "data": {
      "text/html": [
       "<div>\n",
       "<style scoped>\n",
       "    .dataframe tbody tr th:only-of-type {\n",
       "        vertical-align: middle;\n",
       "    }\n",
       "\n",
       "    .dataframe tbody tr th {\n",
       "        vertical-align: top;\n",
       "    }\n",
       "\n",
       "    .dataframe thead th {\n",
       "        text-align: right;\n",
       "    }\n",
       "</style>\n",
       "<table border=\"1\" class=\"dataframe\">\n",
       "  <thead>\n",
       "    <tr style=\"text-align: right;\">\n",
       "      <th></th>\n",
       "      <th>Tourist_Spot</th>\n",
       "      <th>Address</th>\n",
       "      <th>Zipcode</th>\n",
       "    </tr>\n",
       "  </thead>\n",
       "  <tbody>\n",
       "    <tr>\n",
       "      <th>0</th>\n",
       "      <td>47th Street - The Diamond District</td>\n",
       "      <td>47th St. betw. Fifth &amp; Sixth Aves. Manhattan, ...</td>\n",
       "      <td>10036</td>\n",
       "    </tr>\n",
       "    <tr>\n",
       "      <th>1</th>\n",
       "      <td>9/11 Memorial &amp; Museum</td>\n",
       "      <td>World Trade Center (museum: 180 Greenwich St.)...</td>\n",
       "      <td>10007</td>\n",
       "    </tr>\n",
       "    <tr>\n",
       "      <th>2</th>\n",
       "      <td>Abyssinian Baptist Church</td>\n",
       "      <td>132 Odell Clark Place New York, NY 10030, Harlem</td>\n",
       "      <td>10030</td>\n",
       "    </tr>\n",
       "    <tr>\n",
       "      <th>3</th>\n",
       "      <td>Alice Austen House Museum</td>\n",
       "      <td>2 Hylan Blvd. Staten Island, NY 10305, Staten ...</td>\n",
       "      <td>10305</td>\n",
       "    </tr>\n",
       "    <tr>\n",
       "      <th>4</th>\n",
       "      <td>Alice Tully Hall</td>\n",
       "      <td>1941 Broadway Manhattan, NY 10023, Upper West ...</td>\n",
       "      <td>10023</td>\n",
       "    </tr>\n",
       "  </tbody>\n",
       "</table>\n",
       "</div>"
      ],
      "text/plain": [
       "                         Tourist_Spot  \\\n",
       "0  47th Street - The Diamond District   \n",
       "1              9/11 Memorial & Museum   \n",
       "2           Abyssinian Baptist Church   \n",
       "3           Alice Austen House Museum   \n",
       "4                    Alice Tully Hall   \n",
       "\n",
       "                                             Address Zipcode  \n",
       "0  47th St. betw. Fifth & Sixth Aves. Manhattan, ...   10036  \n",
       "1  World Trade Center (museum: 180 Greenwich St.)...   10007  \n",
       "2   132 Odell Clark Place New York, NY 10030, Harlem   10030  \n",
       "3  2 Hylan Blvd. Staten Island, NY 10305, Staten ...   10305  \n",
       "4  1941 Broadway Manhattan, NY 10023, Upper West ...   10023  "
      ]
     },
     "execution_count": 14,
     "metadata": {},
     "output_type": "execute_result"
    }
   ],
   "source": [
    "df_tour_site.head(5)"
   ]
  },
  {
   "cell_type": "markdown",
   "metadata": {},
   "source": [
    "##### EDA - DOF Summary of Neighborhood Sales by Neighborhood Citywide by Borough\n",
    "    - Records sales of homes\n",
    "    - rows are kind of few\n",
    "    - many rows are out dated (records from around 10 years ago)\n",
    "    - most recent records were from 2021. The dataset appears obsolute"
   ]
  },
  {
   "cell_type": "code",
   "execution_count": 15,
   "metadata": {},
   "outputs": [],
   "source": [
    "df_cny_sale = pd.read_csv(data_dir + 'DOF__Summary_of_Neighborhood_Sales_by_Neighborhood_Citywide_by_Borough.csv')"
   ]
  },
  {
   "cell_type": "code",
   "execution_count": 16,
   "metadata": {},
   "outputs": [
    {
     "data": {
      "text/plain": [
       "(7180, 9)"
      ]
     },
     "execution_count": 16,
     "metadata": {},
     "output_type": "execute_result"
    }
   ],
   "source": [
    "df_cny_sale.shape"
   ]
  },
  {
   "cell_type": "code",
   "execution_count": 17,
   "metadata": {},
   "outputs": [
    {
     "data": {
      "text/plain": [
       "Index(['BOROUGH', 'NEIGHBORHOOD', 'TYPE OF HOME', 'NUMBER OF SALES',\n",
       "       'LOWEST SALE PRICE', 'AVERAGE SALE PRICE', 'MEDIAN SALE PRICE',\n",
       "       'HIGHEST SALE PRICE', 'YEAR'],\n",
       "      dtype='object')"
      ]
     },
     "execution_count": 17,
     "metadata": {},
     "output_type": "execute_result"
    }
   ],
   "source": [
    "df_cny_sale.columns"
   ]
  },
  {
   "cell_type": "code",
   "execution_count": 18,
   "metadata": {},
   "outputs": [
    {
     "data": {
      "text/plain": [
       "SUNNYSIDE                   67\n",
       "BOERUM HILL                 36\n",
       "CLINTON HILL                36\n",
       "FLATBUSH-NORTH              36\n",
       "FLATBUSH-LEFFERTS GARDEN    36\n",
       "Name: NEIGHBORHOOD, dtype: int64"
      ]
     },
     "execution_count": 18,
     "metadata": {},
     "output_type": "execute_result"
    }
   ],
   "source": [
    "df_cny_sale.NEIGHBORHOOD.value_counts()[:5]"
   ]
  },
  {
   "cell_type": "code",
   "execution_count": 19,
   "metadata": {},
   "outputs": [
    {
     "data": {
      "text/plain": [
       "2021    615\n",
       "2013    611\n",
       "2015    607\n",
       "2014    605\n",
       "2016    604\n",
       "2018    602\n",
       "2019    598\n",
       "2017    594\n",
       "2012    592\n",
       "2010    587\n",
       "2020    586\n",
       "2011    579\n",
       "Name: YEAR, dtype: int64"
      ]
     },
     "execution_count": 19,
     "metadata": {},
     "output_type": "execute_result"
    }
   ],
   "source": [
    "df_cny_sale.YEAR.value_counts()"
   ]
  },
  {
   "cell_type": "markdown",
   "metadata": {},
   "source": [
    "##### EDA - Dataset: nyc property assessment data\n",
    "    - comprehensive and with sufficient rows.\n",
    "    - some columns' meaning are not yet understood."
   ]
  },
  {
   "cell_type": "code",
   "execution_count": 32,
   "metadata": {},
   "outputs": [
    {
     "name": "stderr",
     "output_type": "stream",
     "text": [
      "C:\\Users\\Chaconne\\AppData\\Local\\Temp\\ipykernel_16764\\244126032.py:1: DtypeWarning: Columns (1,5,6,9,10,23,34,67,71,74,75,76,88,93,100,101,105,109,111,133) have mixed types. Specify dtype option on import or set low_memory=False.\n",
      "  df_assess_2023 = pd.read_csv(data_dir + 'nyc_property_assessment_data_2023.csv').drop(columns='Unnamed: 0')\n"
     ]
    }
   ],
   "source": [
    "df_assess_2023 = pd.read_csv(data_dir + 'nyc_property_assessment_data_2023.csv').drop(columns='Unnamed: 0')"
   ]
  },
  {
   "cell_type": "code",
   "execution_count": 33,
   "metadata": {},
   "outputs": [
    {
     "data": {
      "text/plain": [
       "(1155828, 139)"
      ]
     },
     "execution_count": 33,
     "metadata": {},
     "output_type": "execute_result"
    }
   ],
   "source": [
    "df_assess_2023.shape"
   ]
  },
  {
   "cell_type": "code",
   "execution_count": 34,
   "metadata": {},
   "outputs": [
    {
     "data": {
      "text/plain": [
       "Index(['PARID', 'BORO', 'BLOCK', 'LOT', 'EASEMENT', 'SUBIDENT-REUC', 'RECTYPE',\n",
       "       'YEAR', 'IDENT', 'SUBIDENT',\n",
       "       ...\n",
       "       'STORAGE_AREA_GROSS', 'GARAGE_AREA', 'OTHER_AREA_GROSS',\n",
       "       'REUC_DESCRIPTION', 'EXTRACRDT', 'PYTAXFLAG', 'TENTAXFLAG',\n",
       "       'CBNTAXFLAG', 'FINTAXFLAG', 'CURTAXFLAG'],\n",
       "      dtype='object', length=139)"
      ]
     },
     "execution_count": 34,
     "metadata": {},
     "output_type": "execute_result"
    }
   ],
   "source": [
    "df_assess_2023.columns"
   ]
  },
  {
   "cell_type": "code",
   "execution_count": 35,
   "metadata": {},
   "outputs": [
    {
     "data": {
      "text/plain": [
       "2.00      537526\n",
       "3.00      147660\n",
       "0.00      119508\n",
       "1.00       89363\n",
       "4.00       46244\n",
       "           ...  \n",
       "1.15           1\n",
       "13.50          1\n",
       "102.00         1\n",
       "706.00         1\n",
       "114.00         1\n",
       "Name: BLD_STORY, Length: 136, dtype: int64"
      ]
     },
     "execution_count": 35,
     "metadata": {},
     "output_type": "execute_result"
    }
   ],
   "source": [
    "df_assess_2023.BLD_STORY.value_counts()"
   ]
  },
  {
   "cell_type": "markdown",
   "metadata": {},
   "source": [
    "##### EDA - Borough-wise sales data from https://www.nyc.gov/site/finance/taxes/property-rolling-sales-data.page"
   ]
  },
  {
   "cell_type": "code",
   "execution_count": 36,
   "metadata": {},
   "outputs": [],
   "source": [
    "df_bkl = pd.read_excel(data_dir + 'rollingsales_brooklyn.xlsx')\n",
    "df_brn = pd.read_excel(data_dir + 'rollingsales_bronx.xlsx')\n",
    "df_mht = pd.read_excel(data_dir + 'rollingsales_manhattan.xlsx')\n",
    "df_qns = pd.read_excel(data_dir + 'rollingsales_queens.xlsx')\n",
    "df_sti = pd.read_excel(data_dir + 'rollingsales_statenisland.xlsx')\n",
    "\n",
    "df_list = [df_bkl, df_brn, df_mht, df_qns, df_sti]\n",
    "\n",
    "df_rs = pd.concat(df_list)"
   ]
  },
  {
   "cell_type": "code",
   "execution_count": 37,
   "metadata": {},
   "outputs": [
    {
     "data": {
      "text/plain": [
       "(84391, 21)"
      ]
     },
     "execution_count": 37,
     "metadata": {},
     "output_type": "execute_result"
    }
   ],
   "source": [
    "df_rs.shape"
   ]
  },
  {
   "cell_type": "code",
   "execution_count": 38,
   "metadata": {},
   "outputs": [
    {
     "data": {
      "text/plain": [
       "True"
      ]
     },
     "execution_count": 38,
     "metadata": {},
     "output_type": "execute_result"
    }
   ],
   "source": [
    "# check if concat is performed correctly \n",
    "col_same = True\n",
    "comparer = df_list[0]\n",
    "for i in range(1,5):\n",
    "    col_same = col_same and all(comparer.columns == df_list[i].columns)\n",
    "col_same"
   ]
  },
  {
   "cell_type": "code",
   "execution_count": 39,
   "metadata": {},
   "outputs": [
    {
     "data": {
      "text/plain": [
       "Index(['borough', 'neighborhood', 'building_class_category',\n",
       "       'tax_class_at_present', 'block', 'lot', 'easement',\n",
       "       'building_class_at_present', 'address', 'apartment_number', 'zip_code',\n",
       "       'residential_units', 'commercial_units', 'total_units',\n",
       "       'land_square_feet', 'gross_square_feet', 'year_built',\n",
       "       'tax_class_at_time_of_sale', 'building_class_at_time_of_sale',\n",
       "       'sale_price', 'sale_date'],\n",
       "      dtype='object')"
      ]
     },
     "execution_count": 39,
     "metadata": {},
     "output_type": "execute_result"
    }
   ],
   "source": [
    "df_rs.rename(columns= lib_sean.col_renamer, inplace=True)\n",
    "df_rs.columns"
   ]
  },
  {
   "cell_type": "markdown",
   "metadata": {},
   "source": [
    "- the data contains sales of differet building categories. \n",
    "- Should drop categories that are not for rental business. For example, warehouse and office buildings.\n",
    "- Should enlarge the granularity of the factors, i.e., to merge levels that refer to similar building types."
   ]
  },
  {
   "cell_type": "code",
   "execution_count": 40,
   "metadata": {},
   "outputs": [
    {
     "data": {
      "text/plain": [
       "01 ONE FAMILY DWELLINGS                       17173\n",
       "02 TWO FAMILY DWELLINGS                       14993\n",
       "13 CONDOS - ELEVATOR APARTMENTS               14382\n",
       "10 COOPS - ELEVATOR APARTMENTS                14265\n",
       "03 THREE FAMILY DWELLINGS                      4226\n",
       "07 RENTALS - WALKUP APARTMENTS                 3004\n",
       "09 COOPS - WALKUP APARTMENTS                   2778\n",
       "15 CONDOS - 2-10 UNIT RESIDENTIAL              1604\n",
       "04 TAX CLASS 1 CONDOS                          1543\n",
       "44 CONDO PARKING                               1489\n",
       "17 CONDO COOPS                                 1331\n",
       "12 CONDOS - WALKUP APARTMENTS                   979\n",
       "05 TAX CLASS 1 VACANT LAND                      931\n",
       "22 STORE BUILDINGS                              790\n",
       "14 RENTALS - 4-10 UNIT                          640\n",
       "08 RENTALS - ELEVATOR APARTMENTS                505\n",
       "47 CONDO NON-BUSINESS STORAGE                   465\n",
       "29 COMMERCIAL GARAGES                           463\n",
       "43 CONDO OFFICE BUILDINGS                       340\n",
       "11 SPECIAL CONDO BILLING LOTS                   331\n",
       "21 OFFICE BUILDINGS                             300\n",
       "30 WAREHOUSES                                   284\n",
       "31 COMMERCIAL VACANT LAND                       257\n",
       "27 FACTORIES                                    187\n",
       "46 CONDO STORE BUILDINGS                        153\n",
       "06 TAX CLASS 1 - OTHER                          138\n",
       "16 CONDOS - 2-10 UNIT WITH COMMERCIAL UNIT      130\n",
       "28 COMMERCIAL CONDOS                            129\n",
       "41 TAX CLASS 4 - OTHER                          121\n",
       "37 RELIGIOUS FACILITIES                          88\n",
       "45 CONDO HOTELS                                  71\n",
       "26 OTHER HOTELS                                  58\n",
       "33 EDUCATIONAL FACILITIES                        39\n",
       "48 CONDO TERRACES/GARDENS/CABANAS                38\n",
       "49 CONDO WAREHOUSES/FACTORY/INDUS                32\n",
       "32 HOSPITAL AND HEALTH FACILITIES                27\n",
       "36 OUTDOOR RECREATIONAL FACILITIES               26\n",
       "35 INDOOR PUBLIC AND CULTURAL FACILITIES         25\n",
       "38 ASYLUMS AND HOMES                             17\n",
       "42 CONDO CULTURAL/MEDICAL/EDUCATIONAL/ETC        16\n",
       "25 LUXURY HOTELS                                 13\n",
       "34 THEATRES                                       6\n",
       "39 TRANSPORTATION FACILITIES                      2\n",
       "40 SELECTED GOVERNMENTAL FACILITIES               2\n",
       "Name: building_class_category, dtype: int64"
      ]
     },
     "execution_count": 40,
     "metadata": {},
     "output_type": "execute_result"
    }
   ],
   "source": [
    "df_rs.building_class_category.value_counts()"
   ]
  },
  {
   "cell_type": "code",
   "execution_count": 41,
   "metadata": {},
   "outputs": [
    {
     "data": {
      "text/plain": [
       "['01 ONE FAMILY DWELLINGS',\n",
       " '02 TWO FAMILY DWELLINGS',\n",
       " '03 THREE FAMILY DWELLINGS',\n",
       " '04 TAX CLASS 1 CONDOS',\n",
       " '06 TAX CLASS 1 - OTHER',\n",
       " '07 RENTALS - WALKUP APARTMENTS',\n",
       " '08 RENTALS - ELEVATOR APARTMENTS',\n",
       " '09 COOPS - WALKUP APARTMENTS',\n",
       " '10 COOPS - ELEVATOR APARTMENTS',\n",
       " '11 SPECIAL CONDO BILLING LOTS',\n",
       " '12 CONDOS - WALKUP APARTMENTS',\n",
       " '13 CONDOS - ELEVATOR APARTMENTS',\n",
       " '14 RENTALS - 4-10 UNIT',\n",
       " '15 CONDOS - 2-10 UNIT RESIDENTIAL',\n",
       " '17 CONDO COOPS',\n",
       " '25 LUXURY HOTELS',\n",
       " '26 OTHER HOTELS',\n",
       " '41 TAX CLASS 4 - OTHER',\n",
       " '42 CONDO CULTURAL/MEDICAL/EDUCATIONAL/ETC',\n",
       " '45 CONDO HOTELS',\n",
       " '47 CONDO NON-BUSINESS STORAGE',\n",
       " '48 CONDO TERRACES/GARDENS/CABANAS']"
      ]
     },
     "execution_count": 41,
     "metadata": {},
     "output_type": "execute_result"
    }
   ],
   "source": [
    "def is_non_commercial_building_category(category:str) -> bool:\n",
    "    pat_commercial = r'LAND|WAREHOUSE|THEATRES|TRANSPORTATION|GOVERNMENTAL|STORE|FACTORIES|OFFICE|COMMERCIAL|PARKING|RELIGIOUS|ASYLUMS|FACILITIES'\n",
    "\n",
    "    non_commercial = not re.search(pattern=pat_commercial, string=category)\n",
    "    return non_commercial\n",
    "\n",
    "\n",
    "filter_noncom_building_cate = filter(is_non_commercial_building_category, np.unique(df_rs.building_class_category.values))\n",
    "noncom_building_cate = list(filter_noncom_building_cate)\n",
    "noncom_building_cate"
   ]
  },
  {
   "cell_type": "code",
   "execution_count": 42,
   "metadata": {},
   "outputs": [
    {
     "data": {
      "text/plain": [
       "(78674, 21)"
      ]
     },
     "execution_count": 42,
     "metadata": {},
     "output_type": "execute_result"
    }
   ],
   "source": [
    "# filter out records of commercial buildings\n",
    "df_rs = df_rs.loc[df_rs.building_class_category.map(lambda v: v in noncom_building_cate), :]\n",
    "df_rs.shape"
   ]
  },
  {
   "cell_type": "code",
   "execution_count": 43,
   "metadata": {},
   "outputs": [
    {
     "data": {
      "text/plain": [
       "DWELLINGS     36392\n",
       "APARTMENTS    20552\n",
       "CONDOS        18508\n",
       "OTHER          3222\n",
       "Name: building_class_category, dtype: int64"
      ]
     },
     "execution_count": 43,
     "metadata": {},
     "output_type": "execute_result"
    }
   ],
   "source": [
    "def merge_building_category(bc: str) -> str:\n",
    "    pat_dwell = r'DWELLINGS'\n",
    "    pat_cond = r'CONDOS'\n",
    "    pat_apt = r'APARTMENTS'\n",
    "\n",
    "    is_dwell = re.search(pattern=pat_dwell, string=bc)\n",
    "    if is_dwell:\n",
    "        return pat_dwell\n",
    "\n",
    "    is_cond = re.search(pattern=pat_cond, string=bc) \n",
    "    if is_cond:\n",
    "        return pat_cond\n",
    "    \n",
    "    is_apt = re.search(pattern=pat_apt, string=bc)\n",
    "    if is_apt:\n",
    "        return pat_apt \n",
    "        \n",
    "    return 'OTHER'\n",
    "\n",
    "# merge building categories of similar features into one\n",
    "df_rs.building_class_category = df_rs.building_class_category.map(merge_building_category)\n",
    "df_rs.building_class_category.value_counts()"
   ]
  },
  {
   "cell_type": "markdown",
   "metadata": {},
   "source": [
    "- There are recoreds with zero sale price which should be dropped."
   ]
  },
  {
   "cell_type": "code",
   "execution_count": 44,
   "metadata": {},
   "outputs": [
    {
     "data": {
      "text/plain": [
       "0         22135\n",
       "10          728\n",
       "650000      470\n",
       "750000      450\n",
       "800000      425\n",
       "Name: sale_price, dtype: int64"
      ]
     },
     "execution_count": 44,
     "metadata": {},
     "output_type": "execute_result"
    }
   ],
   "source": [
    "df_rs.sale_price.value_counts()[:5]"
   ]
  },
  {
   "cell_type": "code",
   "execution_count": 45,
   "metadata": {},
   "outputs": [
    {
     "name": "stdout",
     "output_type": "stream",
     "text": [
      "(56539, 21)\n"
     ]
    },
    {
     "data": {
      "text/plain": [
       "dtype('int64')"
      ]
     },
     "execution_count": 45,
     "metadata": {},
     "output_type": "execute_result"
    }
   ],
   "source": [
    "df_rs = df_rs[df_rs.sale_price != 0]\n",
    "print(df_rs.shape)\n",
    "df_rs.sale_price.dtype"
   ]
  },
  {
   "cell_type": "code",
   "execution_count": 46,
   "metadata": {},
   "outputs": [
    {
     "data": {
      "text/html": [
       "<div>\n",
       "<style scoped>\n",
       "    .dataframe tbody tr th:only-of-type {\n",
       "        vertical-align: middle;\n",
       "    }\n",
       "\n",
       "    .dataframe tbody tr th {\n",
       "        vertical-align: top;\n",
       "    }\n",
       "\n",
       "    .dataframe thead th {\n",
       "        text-align: right;\n",
       "    }\n",
       "</style>\n",
       "<table border=\"1\" class=\"dataframe\">\n",
       "  <thead>\n",
       "    <tr style=\"text-align: right;\">\n",
       "      <th></th>\n",
       "      <th></th>\n",
       "      <th>time_range</th>\n",
       "      <th>avg_price</th>\n",
       "    </tr>\n",
       "    <tr>\n",
       "      <th>neighborhood</th>\n",
       "      <th>building_class_category</th>\n",
       "      <th></th>\n",
       "      <th></th>\n",
       "    </tr>\n",
       "  </thead>\n",
       "  <tbody>\n",
       "    <tr>\n",
       "      <th rowspan=\"2\" valign=\"top\">AIRPORT LA GUARDIA</th>\n",
       "      <th>CONDOS</th>\n",
       "      <td>(2022-07-26 00:00:00, 2023-03-27 00:00:00)</td>\n",
       "      <td>455000.00</td>\n",
       "    </tr>\n",
       "    <tr>\n",
       "      <th>DWELLINGS</th>\n",
       "      <td>(2022-06-24 00:00:00, 2022-09-23 00:00:00)</td>\n",
       "      <td>836398.33</td>\n",
       "    </tr>\n",
       "    <tr>\n",
       "      <th rowspan=\"3\" valign=\"top\">ALPHABET CITY</th>\n",
       "      <th>APARTMENTS</th>\n",
       "      <td>(2022-04-01 00:00:00, 2023-03-15 00:00:00)</td>\n",
       "      <td>2873755.54</td>\n",
       "    </tr>\n",
       "    <tr>\n",
       "      <th>CONDOS</th>\n",
       "      <td>(2022-04-05 00:00:00, 2023-03-03 00:00:00)</td>\n",
       "      <td>1361257.00</td>\n",
       "    </tr>\n",
       "    <tr>\n",
       "      <th>DWELLINGS</th>\n",
       "      <td>(2022-09-15 00:00:00, 2023-01-20 00:00:00)</td>\n",
       "      <td>1133000.00</td>\n",
       "    </tr>\n",
       "    <tr>\n",
       "      <th>...</th>\n",
       "      <th>...</th>\n",
       "      <td>...</td>\n",
       "      <td>...</td>\n",
       "    </tr>\n",
       "    <tr>\n",
       "      <th>WOODSIDE</th>\n",
       "      <th>OTHER</th>\n",
       "      <td>(2022-04-28 00:00:00, 2023-03-07 00:00:00)</td>\n",
       "      <td>1491000.00</td>\n",
       "    </tr>\n",
       "    <tr>\n",
       "      <th rowspan=\"4\" valign=\"top\">WYCKOFF HEIGHTS</th>\n",
       "      <th>APARTMENTS</th>\n",
       "      <td>(2022-05-24 00:00:00, 2023-02-10 00:00:00)</td>\n",
       "      <td>1062518.52</td>\n",
       "    </tr>\n",
       "    <tr>\n",
       "      <th>CONDOS</th>\n",
       "      <td>(2022-04-01 00:00:00, 2023-03-21 00:00:00)</td>\n",
       "      <td>762432.32</td>\n",
       "    </tr>\n",
       "    <tr>\n",
       "      <th>DWELLINGS</th>\n",
       "      <td>(2022-04-15 00:00:00, 2023-03-31 00:00:00)</td>\n",
       "      <td>1327256.78</td>\n",
       "    </tr>\n",
       "    <tr>\n",
       "      <th>OTHER</th>\n",
       "      <td>(2022-04-25 00:00:00, 2023-01-04 00:00:00)</td>\n",
       "      <td>1516286.17</td>\n",
       "    </tr>\n",
       "  </tbody>\n",
       "</table>\n",
       "<p>779 rows × 2 columns</p>\n",
       "</div>"
      ],
      "text/plain": [
       "                                                                            time_range  \\\n",
       "neighborhood       building_class_category                                               \n",
       "AIRPORT LA GUARDIA CONDOS                   (2022-07-26 00:00:00, 2023-03-27 00:00:00)   \n",
       "                   DWELLINGS                (2022-06-24 00:00:00, 2022-09-23 00:00:00)   \n",
       "ALPHABET CITY      APARTMENTS               (2022-04-01 00:00:00, 2023-03-15 00:00:00)   \n",
       "                   CONDOS                   (2022-04-05 00:00:00, 2023-03-03 00:00:00)   \n",
       "                   DWELLINGS                (2022-09-15 00:00:00, 2023-01-20 00:00:00)   \n",
       "...                                                                                ...   \n",
       "WOODSIDE           OTHER                    (2022-04-28 00:00:00, 2023-03-07 00:00:00)   \n",
       "WYCKOFF HEIGHTS    APARTMENTS               (2022-05-24 00:00:00, 2023-02-10 00:00:00)   \n",
       "                   CONDOS                   (2022-04-01 00:00:00, 2023-03-21 00:00:00)   \n",
       "                   DWELLINGS                (2022-04-15 00:00:00, 2023-03-31 00:00:00)   \n",
       "                   OTHER                    (2022-04-25 00:00:00, 2023-01-04 00:00:00)   \n",
       "\n",
       "                                            avg_price  \n",
       "neighborhood       building_class_category             \n",
       "AIRPORT LA GUARDIA CONDOS                   455000.00  \n",
       "                   DWELLINGS                836398.33  \n",
       "ALPHABET CITY      APARTMENTS              2873755.54  \n",
       "                   CONDOS                  1361257.00  \n",
       "                   DWELLINGS               1133000.00  \n",
       "...                                               ...  \n",
       "WOODSIDE           OTHER                   1491000.00  \n",
       "WYCKOFF HEIGHTS    APARTMENTS              1062518.52  \n",
       "                   CONDOS                   762432.32  \n",
       "                   DWELLINGS               1327256.78  \n",
       "                   OTHER                   1516286.17  \n",
       "\n",
       "[779 rows x 2 columns]"
      ]
     },
     "execution_count": 46,
     "metadata": {},
     "output_type": "execute_result"
    }
   ],
   "source": [
    "df_rs.groupby(by =[ 'neighborhood', 'building_class_category']).agg(\n",
    "    # column records the time frame of observed sales \n",
    "    time_range = pd.NamedAgg(column='sale_date', aggfunc= lambda col: (col.min(), col.max())),\n",
    "\n",
    "    avg_price = pd.NamedAgg(column='sale_price', aggfunc= 'mean'),\n",
    ")"
   ]
  },
  {
   "cell_type": "markdown",
   "metadata": {},
   "source": [
    "- export cleaned rolling sales dataset"
   ]
  },
  {
   "cell_type": "code",
   "execution_count": 47,
   "metadata": {},
   "outputs": [],
   "source": [
    "df_rs.to_csv(data_dir + 'nyc_rolling_sales_merged.csv')"
   ]
  },
  {
   "cell_type": "markdown",
   "metadata": {},
   "source": [
    "##### EDA - condo rental income from https://data.cityofnewyork.us/City-Government/DOF-Cooperative-Comparable-Rental-Income-Citywide-/myei-c3fa\n",
    "- this dataset provides info regarding the rental income of rental properties in NYC\n",
    "- could be used for forecasting future rental income\n",
    "- also note that NOI (net operating income) is the most commonly used metric for evaluating rental property profitability\n",
    "- first of all, drop rows having no neighborhood values"
   ]
  },
  {
   "cell_type": "code",
   "execution_count": 77,
   "metadata": {},
   "outputs": [
    {
     "name": "stdout",
     "output_type": "stream",
     "text": [
      "(28507, 61)\n"
     ]
    }
   ],
   "source": [
    "df_rental_income = pd.read_csv(data_dir + 'DOF_Condominium_Comparable_Rental_Income_in_NYC.csv')\n",
    "print(df_rental_income.shape)\n",
    "df_rental_income.rename(columns=lib_sean.col_renamer, inplace=True)\n",
    "df_rental_income.dropna(axis=0, subset='neighborhood', how = 'any', inplace=True)"
   ]
  },
  {
   "cell_type": "code",
   "execution_count": 78,
   "metadata": {},
   "outputs": [
    {
     "name": "stdout",
     "output_type": "stream",
     "text": [
      "0\n"
     ]
    },
    {
     "data": {
      "text/plain": [
       "Index(['boro_block_lot', 'condo_section', 'address', 'neighborhood',\n",
       "       'building_classification', 'total_units', 'year_built', 'gross_sqft',\n",
       "       'estimated_gross_income', 'gross_income_per_sqft', 'estimated_expense',\n",
       "       'expense_per_sqft', 'net_operating_income', 'full_market_value',\n",
       "       'market_value_per_sqft', 'boro_block_lot_1', 'address_1',\n",
       "       'neighborhood_1', 'building_classification_1', 'total_units_1',\n",
       "       'year_built_1', 'gross_sqft_1', 'estimated_gross_income_1',\n",
       "       'gross_income_per_sqft_1', 'estimated_expense_1', 'expense_per_sqft_1',\n",
       "       'net_operating_income_1', 'full_market_value_1',\n",
       "       'market_value_per_sqft_1', 'distance_from_condo_in_miles',\n",
       "       'boro_block_lot_2', 'address_2', 'neighborhood_2',\n",
       "       'building_classification_2', 'total_units_2', 'year_built_2',\n",
       "       'gross_sqft_2', 'estimated_gross_income_2', 'gross_income_per_sqft_2',\n",
       "       'estimated_expense_2', 'expense_per_sqft_2', 'net_operating_income_2',\n",
       "       'full_market_value_2', 'market_value_per_sqft_2',\n",
       "       'distance_from_condo_in_miles_1', 'boro_block_lot_3', 'address_3',\n",
       "       'neighborhood_3', 'building_classification_3', 'total_units_3',\n",
       "       'year_built_3', 'gross_sqft_3', 'estimated_gross_income_3',\n",
       "       'gross_income_per_sqft_3', 'estimated_expense_3', 'expense_per_sqft_3',\n",
       "       'net_operating_income_3', 'full_market_value_3',\n",
       "       'market_value_per_sqft_3', 'distance_from_condo_in_miles_2',\n",
       "       'report_year'],\n",
       "      dtype='object')"
      ]
     },
     "execution_count": 78,
     "metadata": {},
     "output_type": "execute_result"
    }
   ],
   "source": [
    "print(df_rental_income.neighborhood.isna().sum())\n",
    "df_rental_income.columns"
   ]
  },
  {
   "cell_type": "code",
   "execution_count": 79,
   "metadata": {},
   "outputs": [
    {
     "data": {
      "text/plain": [
       "<AxesSubplot:ylabel='Frequency'>"
      ]
     },
     "execution_count": 79,
     "metadata": {},
     "output_type": "execute_result"
    },
    {
     "data": {
      "image/png": "[encoded data removed]",
      "text/plain": [
       "<Figure size 640x480 with 1 Axes>"
      ]
     },
     "metadata": {},
     "output_type": "display_data"
    }
   ],
   "source": [
    "df_rental_income.neighborhood.value_counts().plot(kind = 'hist')"
   ]
  },
  {
   "cell_type": "code",
   "execution_count": 80,
   "metadata": {},
   "outputs": [
    {
     "name": "stdout",
     "output_type": "stream",
     "text": [
      "104.5\n"
     ]
    },
    {
     "data": {
      "image/png": "[encoded data removed]",
      "text/plain": [
       "<Figure size 640x480 with 1 Axes>"
      ]
     },
     "metadata": {},
     "output_type": "display_data"
    }
   ],
   "source": [
    "df_rental_income.neighborhood.value_counts().plot(kind = 'box')\n",
    "print(df_rental_income.neighborhood.value_counts().quantile(q = 0.75))"
   ]
  },
  {
   "cell_type": "markdown",
   "metadata": {},
   "source": [
    "- histogram of neighborhood value counts is of Pareto distribution.\n",
    "- median of the distribution is 26 while upper quartile is 104\n",
    "- use 100 as cutoff to filter out those neighborhoods whose frequency in the dataset is too low\n",
    "- should thus drop those with rare frequency as in later phase we will do many aggregation operations"
   ]
  },
  {
   "cell_type": "code",
   "execution_count": 81,
   "metadata": {},
   "outputs": [
    {
     "data": {
      "text/plain": [
       "(23668, 61)"
      ]
     },
     "execution_count": 81,
     "metadata": {},
     "output_type": "execute_result"
    }
   ],
   "source": [
    "neighbor_to_freq = dict(df_rental_income.neighborhood.value_counts())\n",
    "\n",
    "df_rental_income = df_rental_income.loc[\n",
    "    df_rental_income.neighborhood.map(lambda n: neighbor_to_freq[n] >= 100), :\n",
    "]\n",
    "df_rental_income.shape"
   ]
  },
  {
   "cell_type": "code",
   "execution_count": 82,
   "metadata": {},
   "outputs": [],
   "source": [
    "df_rental_income['unit_noi'] = df_rental_income.net_operating_income / df_rental_income.total_units"
   ]
  },
  {
   "cell_type": "code",
   "execution_count": 84,
   "metadata": {},
   "outputs": [
    {
     "data": {
      "text/plain": [
       "2021    1817\n",
       "2020    2216\n",
       "2019    2354\n",
       "2018    2618\n",
       "2017    2632\n",
       "Name: report_year, dtype: int64"
      ]
     },
     "execution_count": 84,
     "metadata": {},
     "output_type": "execute_result"
    }
   ],
   "source": [
    "df_rental_income.report_year.value_counts().sort_index(ascending = False)[:5]"
   ]
  },
  {
   "cell_type": "code",
   "execution_count": 86,
   "metadata": {},
   "outputs": [
    {
     "data": {
      "text/plain": [
       "<AxesSubplot:title={'center':'Yearly Avg. NOI in Million'}, xlabel='report_year'>"
      ]
     },
     "execution_count": 86,
     "metadata": {},
     "output_type": "execute_result"
    },
    {
     "data": {
      "image/png": "[encoded data removed]",
      "text/plain": [
       "<Figure size 640x480 with 1 Axes>"
      ]
     },
     "metadata": {},
     "output_type": "display_data"
    }
   ],
   "source": [
    "df_rental_income.groupby(by = ['report_year']).agg(\n",
    "    avg_noi = pd.NamedAgg(column = 'net_operating_income', aggfunc = lambda c: c.mean() / 1000000),\n",
    ").plot(kind = 'line', title='Yearly Avg. NOI in Million')"
   ]
  },
  {
   "cell_type": "markdown",
   "metadata": {},
   "source": [
    "- 2020 saw a slump in NOI as the covid was prevailing. \n",
    "- the data in 2021 could serve as an estimate of NOI"
   ]
  },
  {
   "cell_type": "code",
   "execution_count": 87,
   "metadata": {},
   "outputs": [
    {
     "data": {
      "text/plain": [
       "<AxesSubplot:title={'center':'Yearly Avg. NOI by Unit'}, xlabel='report_year'>"
      ]
     },
     "execution_count": 87,
     "metadata": {},
     "output_type": "execute_result"
    },
    {
     "data": {
      "image/png": "[encoded data removed]",
      "text/plain": [
       "<Figure size 640x480 with 1 Axes>"
      ]
     },
     "metadata": {},
     "output_type": "display_data"
    }
   ],
   "source": [
    "df_rental_income.groupby(by = ['report_year']).agg(\n",
    "    avg_unit_noi = pd.NamedAgg(column = 'unit_noi', aggfunc = lambda c: c.mean()),\n",
    ").plot(kind = 'line', title='Yearly Avg. NOI by Unit')"
   ]
  },
  {
   "cell_type": "markdown",
   "metadata": {},
   "source": [
    "- can  say that the yearly average of NOI by unit is somewhere around 39000"
   ]
  },
  {
   "cell_type": "code",
   "execution_count": 90,
   "metadata": {},
   "outputs": [
    {
     "data": {
      "text/html": [
       "<div>\n",
       "<style scoped>\n",
       "    .dataframe tbody tr th:only-of-type {\n",
       "        vertical-align: middle;\n",
       "    }\n",
       "\n",
       "    .dataframe tbody tr th {\n",
       "        vertical-align: top;\n",
       "    }\n",
       "\n",
       "    .dataframe thead th {\n",
       "        text-align: right;\n",
       "    }\n",
       "</style>\n",
       "<table border=\"1\" class=\"dataframe\">\n",
       "  <thead>\n",
       "    <tr style=\"text-align: right;\">\n",
       "      <th></th>\n",
       "      <th>avg_unit_noi</th>\n",
       "    </tr>\n",
       "    <tr>\n",
       "      <th>neighborhood</th>\n",
       "      <th></th>\n",
       "    </tr>\n",
       "  </thead>\n",
       "  <tbody>\n",
       "    <tr>\n",
       "      <th>SOHO</th>\n",
       "      <td>94277.41</td>\n",
       "    </tr>\n",
       "    <tr>\n",
       "      <th>FLATIRON</th>\n",
       "      <td>84896.23</td>\n",
       "    </tr>\n",
       "    <tr>\n",
       "      <th>TRIBECA</th>\n",
       "      <td>72987.15</td>\n",
       "    </tr>\n",
       "    <tr>\n",
       "      <th>CHELSEA</th>\n",
       "      <td>68379.66</td>\n",
       "    </tr>\n",
       "    <tr>\n",
       "      <th>UPPER EAST SIDE (59-79)</th>\n",
       "      <td>62309.02</td>\n",
       "    </tr>\n",
       "    <tr>\n",
       "      <th>GRAMERCY</th>\n",
       "      <td>57727.41</td>\n",
       "    </tr>\n",
       "    <tr>\n",
       "      <th>FINANCIAL</th>\n",
       "      <td>55913.81</td>\n",
       "    </tr>\n",
       "    <tr>\n",
       "      <th>FASHION</th>\n",
       "      <td>48630.31</td>\n",
       "    </tr>\n",
       "    <tr>\n",
       "      <th>CLINTON</th>\n",
       "      <td>43073.69</td>\n",
       "    </tr>\n",
       "    <tr>\n",
       "      <th>CHINATOWN</th>\n",
       "      <td>38142.36</td>\n",
       "    </tr>\n",
       "  </tbody>\n",
       "</table>\n",
       "</div>"
      ],
      "text/plain": [
       "                         avg_unit_noi\n",
       "neighborhood                         \n",
       "SOHO                         94277.41\n",
       "FLATIRON                     84896.23\n",
       "TRIBECA                      72987.15\n",
       "CHELSEA                      68379.66\n",
       "UPPER EAST SIDE (59-79)      62309.02\n",
       "GRAMERCY                     57727.41\n",
       "FINANCIAL                    55913.81\n",
       "FASHION                      48630.31\n",
       "CLINTON                      43073.69\n",
       "CHINATOWN                    38142.36"
      ]
     },
     "execution_count": 90,
     "metadata": {},
     "output_type": "execute_result"
    }
   ],
   "source": [
    "df_rental_income[df_rental_income.report_year == 2021].groupby(by = ['neighborhood']).agg(\n",
    "    avg_unit_noi = pd.NamedAgg(column = 'unit_noi', aggfunc = lambda c: c.mean())\n",
    ").sort_values(ascending=False, by = 'avg_unit_noi')[:10]"
   ]
  },
  {
   "cell_type": "code",
   "execution_count": 91,
   "metadata": {},
   "outputs": [
    {
     "data": {
      "text/html": [
       "<div>\n",
       "<style scoped>\n",
       "    .dataframe tbody tr th:only-of-type {\n",
       "        vertical-align: middle;\n",
       "    }\n",
       "\n",
       "    .dataframe tbody tr th {\n",
       "        vertical-align: top;\n",
       "    }\n",
       "\n",
       "    .dataframe thead th {\n",
       "        text-align: right;\n",
       "    }\n",
       "</style>\n",
       "<table border=\"1\" class=\"dataframe\">\n",
       "  <thead>\n",
       "    <tr style=\"text-align: right;\">\n",
       "      <th></th>\n",
       "      <th></th>\n",
       "      <th>avg_unit_noi</th>\n",
       "    </tr>\n",
       "    <tr>\n",
       "      <th>boro_block_lot</th>\n",
       "      <th>neighborhood</th>\n",
       "      <th></th>\n",
       "    </tr>\n",
       "  </thead>\n",
       "  <tbody>\n",
       "    <tr>\n",
       "      <th>1-01375-7504</th>\n",
       "      <th>UPPER EAST SIDE (59-79)</th>\n",
       "      <td>429563.00</td>\n",
       "    </tr>\n",
       "    <tr>\n",
       "      <th>1-01389-7503</th>\n",
       "      <th>UPPER EAST SIDE (59-79)</th>\n",
       "      <td>324028.91</td>\n",
       "    </tr>\n",
       "    <tr>\n",
       "      <th>3-02471-7501</th>\n",
       "      <th>WILLIAMSBURG-SOUTH</th>\n",
       "      <td>295801.00</td>\n",
       "    </tr>\n",
       "    <tr>\n",
       "      <th>3-01715-7503</th>\n",
       "      <th>BEDFORD STUYVESANT</th>\n",
       "      <td>273020.00</td>\n",
       "    </tr>\n",
       "    <tr>\n",
       "      <th>1-00490-7502</th>\n",
       "      <th>SOHO</th>\n",
       "      <td>252955.41</td>\n",
       "    </tr>\n",
       "    <tr>\n",
       "      <th>1-00512-7501</th>\n",
       "      <th>SOHO</th>\n",
       "      <td>252268.50</td>\n",
       "    </tr>\n",
       "    <tr>\n",
       "      <th>1-00766-7503</th>\n",
       "      <th>CHELSEA</th>\n",
       "      <td>247630.09</td>\n",
       "    </tr>\n",
       "    <tr>\n",
       "      <th>1-00875-7503</th>\n",
       "      <th>GRAMERCY</th>\n",
       "      <td>243036.75</td>\n",
       "    </tr>\n",
       "    <tr>\n",
       "      <th>1-00823-7503</th>\n",
       "      <th>FLATIRON</th>\n",
       "      <td>211708.55</td>\n",
       "    </tr>\n",
       "    <tr>\n",
       "      <th>1-00702-7503</th>\n",
       "      <th>CLINTON</th>\n",
       "      <td>203275.24</td>\n",
       "    </tr>\n",
       "  </tbody>\n",
       "</table>\n",
       "</div>"
      ],
      "text/plain": [
       "                                        avg_unit_noi\n",
       "boro_block_lot neighborhood                         \n",
       "1-01375-7504   UPPER EAST SIDE (59-79)     429563.00\n",
       "1-01389-7503   UPPER EAST SIDE (59-79)     324028.91\n",
       "3-02471-7501   WILLIAMSBURG-SOUTH          295801.00\n",
       "3-01715-7503   BEDFORD STUYVESANT          273020.00\n",
       "1-00490-7502   SOHO                        252955.41\n",
       "1-00512-7501   SOHO                        252268.50\n",
       "1-00766-7503   CHELSEA                     247630.09\n",
       "1-00875-7503   GRAMERCY                    243036.75\n",
       "1-00823-7503   FLATIRON                    211708.55\n",
       "1-00702-7503   CLINTON                     203275.24"
      ]
     },
     "execution_count": 91,
     "metadata": {},
     "output_type": "execute_result"
    }
   ],
   "source": [
    "df_rental_income[df_rental_income.report_year == 2021].groupby(by = ['boro_block_lot', 'neighborhood']).agg(\n",
    "    avg_unit_noi = pd.NamedAgg(column = 'unit_noi', aggfunc = lambda c: c.mean())\n",
    ").sort_values(ascending=False, by = 'avg_unit_noi')[:10]"
   ]
  },
  {
   "cell_type": "code",
   "execution_count": 63,
   "metadata": {},
   "outputs": [
    {
     "data": {
      "text/plain": [
       "<AxesSubplot:ylabel='Frequency'>"
      ]
     },
     "execution_count": 63,
     "metadata": {},
     "output_type": "execute_result"
    },
    {
     "data": {
      "image/png": "[encoded data removed]",
      "text/plain": [
       "<Figure size 640x480 with 1 Axes>"
      ]
     },
     "metadata": {},
     "output_type": "display_data"
    }
   ],
   "source": []
  },
  {
   "cell_type": "code",
   "execution_count": null,
   "metadata": {},
   "outputs": [],
   "source": []
  }
 ],
 "metadata": {
  "kernelspec": {
   "display_name": "Python 3.10.4 64-bit",
   "language": "python",
   "name": "python3"
  },
  "language_info": {
   "codemirror_mode": {
    "name": "ipython",
    "version": 3
   },
   "file_extension": ".py",
   "mimetype": "text/x-python",
   "name": "python",
   "nbconvert_exporter": "python",
   "pygments_lexer": "ipython3",
   "version": "3.10.4"
  },
  "orig_nbformat": 4,
  "vscode": {
   "interpreter": {
    "hash": "26de051ba29f2982a8de78e945f0abaf191376122a1563185a90213a26c5da77"
   }
  }
 },
 "nbformat": 4,
 "nbformat_minor": 2
}
