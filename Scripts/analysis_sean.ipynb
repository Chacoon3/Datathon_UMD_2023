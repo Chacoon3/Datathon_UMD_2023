{
 "cells": [
  {
   "cell_type": "code",
   "execution_count": 13,
   "metadata": {},
   "outputs": [],
   "source": [
    "import pandas as pd\n",
    "import numpy as np\n",
    "import seaborn as sns\n",
    "\n",
    "import os\n",
    "import requests as re\n",
    "import json"
   ]
  },
  {
   "cell_type": "code",
   "execution_count": 3,
   "metadata": {},
   "outputs": [],
   "source": [
    "# read\n",
    "\n",
    "root_dir = '\\\\'.join( os.getcwd().split('\\\\')[:-1])\n",
    "data_dir = root_dir + '\\\\' + 'Data\\\\'\n",
    "\n",
    "df = pd.read_excel(data_dir + 'property_data.xlsx')"
   ]
  },
  {
   "cell_type": "code",
   "execution_count": 4,
   "metadata": {},
   "outputs": [
    {
     "name": "stdout",
     "output_type": "stream",
     "text": [
      "(102598, 19)\n"
     ]
    }
   ],
   "source": [
    "print(\n",
    "    df.shape\n",
    ")"
   ]
  },
  {
   "cell_type": "code",
   "execution_count": 4,
   "metadata": {},
   "outputs": [
    {
     "data": {
      "text/plain": [
       "HOUSE_RULES            52131\n",
       "LAST_REVIEW            15893\n",
       "REVIEWS_PER_MONTH      15879\n",
       "MINIMUM_NIGHTS           409\n",
       "HOST_NAME                406\n",
       "CONSTRUCTION_YEAR        213\n",
       "NUMBER_OF_REVIEWS        183\n",
       "CANCELLATION_POLICY       76\n",
       "NYC_BOROUGH               24\n",
       "NEIGHBORHOOD              16\n",
       "LONGITUDE                  7\n",
       "LATITUDE                   7\n",
       "dtype: int64"
      ]
     },
     "execution_count": 4,
     "metadata": {},
     "output_type": "execute_result"
    }
   ],
   "source": [
    "# check missing vals\n",
    "\n",
    "sr_colwise_na_sum = df.apply(\n",
    "        axis=0, func= lambda col: sum(col.isna())\n",
    "    ).sort_values(ascending = False)\n",
    "\n",
    "sr_colwise_na_sum = sr_colwise_na_sum[sr_colwise_na_sum > 0]\n",
    "sr_colwise_na_sum"
   ]
  },
  {
   "cell_type": "code",
   "execution_count": 12,
   "metadata": {},
   "outputs": [
    {
     "data": {
      "text/plain": [
       "<AxesSubplot:ylabel='REVIEWS_PER_MONTH'>"
      ]
     },
     "execution_count": 12,
     "metadata": {},
     "output_type": "execute_result"
    },
    {
     "data": {
      "image/png": "[encoded data removed]",
      "text/plain": [
       "<Figure size 640x480 with 1 Axes>"
      ]
     },
     "metadata": {},
     "output_type": "display_data"
    }
   ],
   "source": [
    "df.REVIEWS_PER_MONTH.describe()\n",
    "sns.boxplot(y = df.REVIEWS_PER_MONTH)"
   ]
  },
  {
   "cell_type": "code",
   "execution_count": 7,
   "metadata": {},
   "outputs": [
    {
     "data": {
      "text/plain": [
       "moderate    34343\n",
       "strict      34105\n",
       "flexible    34074\n",
       "Name: CANCELLATION_POLICY, dtype: int64"
      ]
     },
     "execution_count": 7,
     "metadata": {},
     "output_type": "execute_result"
    }
   ],
   "source": [
    "df.CANCELLATION_POLICY.value_counts()"
   ]
  },
  {
   "cell_type": "code",
   "execution_count": 14,
   "metadata": {},
   "outputs": [],
   "source": [
    "var = json.loads(content.content)"
   ]
  },
  {
   "cell_type": "code",
   "execution_count": 16,
   "metadata": {},
   "outputs": [],
   "source": [
    "df_js = pd.read_json(data_dir + 'json_data.json')"
   ]
  },
  {
   "cell_type": "code",
   "execution_count": 17,
   "metadata": {},
   "outputs": [
    {
     "data": {
      "text/html": [
       "<div>\n",
       "<style scoped>\n",
       "    .dataframe tbody tr th:only-of-type {\n",
       "        vertical-align: middle;\n",
       "    }\n",
       "\n",
       "    .dataframe tbody tr th {\n",
       "        vertical-align: top;\n",
       "    }\n",
       "\n",
       "    .dataframe thead th {\n",
       "        text-align: right;\n",
       "    }\n",
       "</style>\n",
       "<table border=\"1\" class=\"dataframe\">\n",
       "  <thead>\n",
       "    <tr style=\"text-align: right;\">\n",
       "      <th></th>\n",
       "      <th>parid</th>\n",
       "      <th>boro</th>\n",
       "      <th>block</th>\n",
       "      <th>lot</th>\n",
       "      <th>rectype</th>\n",
       "      <th>year</th>\n",
       "      <th>secvol</th>\n",
       "      <th>pymktland</th>\n",
       "      <th>pymkttot</th>\n",
       "      <th>pyactland</th>\n",
       "      <th>...</th>\n",
       "      <th>pytrnland</th>\n",
       "      <th>pytrntot</th>\n",
       "      <th>pytrnextot</th>\n",
       "      <th>pytxbtot</th>\n",
       "      <th>pytxbextot</th>\n",
       "      <th>pytaxclass</th>\n",
       "      <th>tenmktland</th>\n",
       "      <th>tenmkttot</th>\n",
       "      <th>tenactland</th>\n",
       "      <th>tenacttot</th>\n",
       "    </tr>\n",
       "  </thead>\n",
       "  <tbody>\n",
       "    <tr>\n",
       "      <th>0</th>\n",
       "      <td>3025410030</td>\n",
       "      <td>3</td>\n",
       "      <td>2541</td>\n",
       "      <td>30</td>\n",
       "      <td>1</td>\n",
       "      <td>2021</td>\n",
       "      <td>901</td>\n",
       "      <td>87000</td>\n",
       "      <td>1721000</td>\n",
       "      <td>39150</td>\n",
       "      <td>...</td>\n",
       "      <td>28618</td>\n",
       "      <td>566121</td>\n",
       "      <td>547531</td>\n",
       "      <td>566121</td>\n",
       "      <td>547531</td>\n",
       "      <td>2B</td>\n",
       "      <td>87000</td>\n",
       "      <td>1910000</td>\n",
       "      <td>39150</td>\n",
       "      <td>859500</td>\n",
       "    </tr>\n",
       "    <tr>\n",
       "      <th>1</th>\n",
       "      <td>3025410033</td>\n",
       "      <td>3</td>\n",
       "      <td>2541</td>\n",
       "      <td>33</td>\n",
       "      <td>1</td>\n",
       "      <td>2021</td>\n",
       "      <td>901</td>\n",
       "      <td>106000</td>\n",
       "      <td>2562400</td>\n",
       "      <td>47700</td>\n",
       "      <td>...</td>\n",
       "      <td>28695</td>\n",
       "      <td>693654</td>\n",
       "      <td>670867</td>\n",
       "      <td>693654</td>\n",
       "      <td>670867</td>\n",
       "      <td>2B</td>\n",
       "      <td>106000</td>\n",
       "      <td>2524000</td>\n",
       "      <td>47700</td>\n",
       "      <td>1135800</td>\n",
       "    </tr>\n",
       "    <tr>\n",
       "      <th>2</th>\n",
       "      <td>3025410036</td>\n",
       "      <td>3</td>\n",
       "      <td>2541</td>\n",
       "      <td>36</td>\n",
       "      <td>1</td>\n",
       "      <td>2021</td>\n",
       "      <td>901</td>\n",
       "      <td>87000</td>\n",
       "      <td>1939200</td>\n",
       "      <td>39150</td>\n",
       "      <td>...</td>\n",
       "      <td>25398</td>\n",
       "      <td>566124</td>\n",
       "      <td>547534</td>\n",
       "      <td>566124</td>\n",
       "      <td>547534</td>\n",
       "      <td>2B</td>\n",
       "      <td>87000</td>\n",
       "      <td>1910000</td>\n",
       "      <td>39150</td>\n",
       "      <td>859500</td>\n",
       "    </tr>\n",
       "    <tr>\n",
       "      <th>3</th>\n",
       "      <td>3025410038</td>\n",
       "      <td>3</td>\n",
       "      <td>2541</td>\n",
       "      <td>38</td>\n",
       "      <td>1</td>\n",
       "      <td>2021</td>\n",
       "      <td>901</td>\n",
       "      <td>314000</td>\n",
       "      <td>1593000</td>\n",
       "      <td>18840</td>\n",
       "      <td>...</td>\n",
       "      <td>3531</td>\n",
       "      <td>17914</td>\n",
       "      <td>0</td>\n",
       "      <td>17914</td>\n",
       "      <td>0</td>\n",
       "      <td>1</td>\n",
       "      <td>314000</td>\n",
       "      <td>1664000</td>\n",
       "      <td>18840</td>\n",
       "      <td>99840</td>\n",
       "    </tr>\n",
       "    <tr>\n",
       "      <th>4</th>\n",
       "      <td>3025410039</td>\n",
       "      <td>3</td>\n",
       "      <td>2541</td>\n",
       "      <td>39</td>\n",
       "      <td>1</td>\n",
       "      <td>2021</td>\n",
       "      <td>901</td>\n",
       "      <td>298000</td>\n",
       "      <td>1942000</td>\n",
       "      <td>17880</td>\n",
       "      <td>...</td>\n",
       "      <td>2749</td>\n",
       "      <td>17914</td>\n",
       "      <td>0</td>\n",
       "      <td>17914</td>\n",
       "      <td>0</td>\n",
       "      <td>1</td>\n",
       "      <td>298000</td>\n",
       "      <td>1913000</td>\n",
       "      <td>17880</td>\n",
       "      <td>114780</td>\n",
       "    </tr>\n",
       "  </tbody>\n",
       "</table>\n",
       "<p>5 rows × 22 columns</p>\n",
       "</div>"
      ],
      "text/plain": [
       "        parid  boro  block  lot  rectype  year  secvol  pymktland  pymkttot  \\\n",
       "0  3025410030     3   2541   30        1  2021     901      87000   1721000   \n",
       "1  3025410033     3   2541   33        1  2021     901     106000   2562400   \n",
       "2  3025410036     3   2541   36        1  2021     901      87000   1939200   \n",
       "3  3025410038     3   2541   38        1  2021     901     314000   1593000   \n",
       "4  3025410039     3   2541   39        1  2021     901     298000   1942000   \n",
       "\n",
       "   pyactland  ...  pytrnland  pytrntot  pytrnextot  pytxbtot  pytxbextot  \\\n",
       "0      39150  ...      28618    566121      547531    566121      547531   \n",
       "1      47700  ...      28695    693654      670867    693654      670867   \n",
       "2      39150  ...      25398    566124      547534    566124      547534   \n",
       "3      18840  ...       3531     17914           0     17914           0   \n",
       "4      17880  ...       2749     17914           0     17914           0   \n",
       "\n",
       "   pytaxclass  tenmktland tenmkttot  tenactland  tenacttot  \n",
       "0          2B       87000   1910000       39150     859500  \n",
       "1          2B      106000   2524000       47700    1135800  \n",
       "2          2B       87000   1910000       39150     859500  \n",
       "3           1      314000   1664000       18840      99840  \n",
       "4           1      298000   1913000       17880     114780  \n",
       "\n",
       "[5 rows x 22 columns]"
      ]
     },
     "execution_count": 17,
     "metadata": {},
     "output_type": "execute_result"
    }
   ],
   "source": [
    "df_js.head()"
   ]
  },
  {
   "cell_type": "code",
   "execution_count": 18,
   "metadata": {},
   "outputs": [
    {
     "data": {
      "text/plain": [
       "Index(['parid', 'boro', 'block', 'lot', 'rectype', 'year', 'secvol',\n",
       "       'pymktland', 'pymkttot', 'pyactland', 'pyacttot', 'pyactextot',\n",
       "       'pytrnland', 'pytrntot', 'pytrnextot', 'pytxbtot', 'pytxbextot',\n",
       "       'pytaxclass', 'tenmktland', 'tenmkttot', 'tenactland', 'tenacttot'],\n",
       "      dtype='object')"
      ]
     },
     "execution_count": 18,
     "metadata": {},
     "output_type": "execute_result"
    }
   ],
   "source": [
    "df_js.columns"
   ]
  },
  {
   "cell_type": "code",
   "execution_count": 19,
   "metadata": {},
   "outputs": [],
   "source": [
    "df_js2 = pd.read_json(data_dir + 'newyorkstate_data.json')"
   ]
  },
  {
   "cell_type": "code",
   "execution_count": 20,
   "metadata": {},
   "outputs": [
    {
     "data": {
      "text/html": [
       "<div>\n",
       "<style scoped>\n",
       "    .dataframe tbody tr th:only-of-type {\n",
       "        vertical-align: middle;\n",
       "    }\n",
       "\n",
       "    .dataframe tbody tr th {\n",
       "        vertical-align: top;\n",
       "    }\n",
       "\n",
       "    .dataframe thead th {\n",
       "        text-align: right;\n",
       "    }\n",
       "</style>\n",
       "<table border=\"1\" class=\"dataframe\">\n",
       "  <thead>\n",
       "    <tr style=\"text-align: right;\">\n",
       "      <th></th>\n",
       "      <th>roll_year</th>\n",
       "      <th>county_name</th>\n",
       "      <th>municipality_code</th>\n",
       "      <th>municipality_name</th>\n",
       "      <th>school_district_code</th>\n",
       "      <th>school_district_name</th>\n",
       "      <th>swis_code</th>\n",
       "      <th>tax_class</th>\n",
       "      <th>roll_section</th>\n",
       "      <th>property_class</th>\n",
       "      <th>...</th>\n",
       "      <th>exemption_amount_county_5</th>\n",
       "      <th>exemption_amount_city_5</th>\n",
       "      <th>exemption_amount_school_5</th>\n",
       "      <th>mailing_address_po_box</th>\n",
       "      <th>additional_owner_3_first</th>\n",
       "      <th>additional_owner_3_last_name</th>\n",
       "      <th>additional_owner_2_mi</th>\n",
       "      <th>additional_owner_3_mi</th>\n",
       "      <th>mailing_address_prefix</th>\n",
       "      <th>additional_owner_2_suffix</th>\n",
       "    </tr>\n",
       "  </thead>\n",
       "  <tbody>\n",
       "    <tr>\n",
       "      <th>0</th>\n",
       "      <td>2022</td>\n",
       "      <td>Albany</td>\n",
       "      <td>10100</td>\n",
       "      <td>Albany</td>\n",
       "      <td>10100</td>\n",
       "      <td>Albany</td>\n",
       "      <td>10100</td>\n",
       "      <td>N</td>\n",
       "      <td>1</td>\n",
       "      <td>300</td>\n",
       "      <td>...</td>\n",
       "      <td>NaN</td>\n",
       "      <td>NaN</td>\n",
       "      <td>NaN</td>\n",
       "      <td>NaN</td>\n",
       "      <td>NaN</td>\n",
       "      <td>NaN</td>\n",
       "      <td>NaN</td>\n",
       "      <td>NaN</td>\n",
       "      <td>NaN</td>\n",
       "      <td>NaN</td>\n",
       "    </tr>\n",
       "    <tr>\n",
       "      <th>1</th>\n",
       "      <td>2022</td>\n",
       "      <td>Albany</td>\n",
       "      <td>10100</td>\n",
       "      <td>Albany</td>\n",
       "      <td>10100</td>\n",
       "      <td>Albany</td>\n",
       "      <td>10100</td>\n",
       "      <td>N</td>\n",
       "      <td>1</td>\n",
       "      <td>438</td>\n",
       "      <td>...</td>\n",
       "      <td>NaN</td>\n",
       "      <td>NaN</td>\n",
       "      <td>NaN</td>\n",
       "      <td>NaN</td>\n",
       "      <td>NaN</td>\n",
       "      <td>NaN</td>\n",
       "      <td>NaN</td>\n",
       "      <td>NaN</td>\n",
       "      <td>NaN</td>\n",
       "      <td>NaN</td>\n",
       "    </tr>\n",
       "    <tr>\n",
       "      <th>2</th>\n",
       "      <td>2022</td>\n",
       "      <td>Albany</td>\n",
       "      <td>10100</td>\n",
       "      <td>Albany</td>\n",
       "      <td>10100</td>\n",
       "      <td>Albany</td>\n",
       "      <td>10100</td>\n",
       "      <td>N</td>\n",
       "      <td>1</td>\n",
       "      <td>438</td>\n",
       "      <td>...</td>\n",
       "      <td>NaN</td>\n",
       "      <td>NaN</td>\n",
       "      <td>NaN</td>\n",
       "      <td>NaN</td>\n",
       "      <td>NaN</td>\n",
       "      <td>NaN</td>\n",
       "      <td>NaN</td>\n",
       "      <td>NaN</td>\n",
       "      <td>NaN</td>\n",
       "      <td>NaN</td>\n",
       "    </tr>\n",
       "    <tr>\n",
       "      <th>3</th>\n",
       "      <td>2022</td>\n",
       "      <td>Albany</td>\n",
       "      <td>10100</td>\n",
       "      <td>Albany</td>\n",
       "      <td>10100</td>\n",
       "      <td>Albany</td>\n",
       "      <td>10100</td>\n",
       "      <td>N</td>\n",
       "      <td>1</td>\n",
       "      <td>438</td>\n",
       "      <td>...</td>\n",
       "      <td>NaN</td>\n",
       "      <td>NaN</td>\n",
       "      <td>NaN</td>\n",
       "      <td>NaN</td>\n",
       "      <td>NaN</td>\n",
       "      <td>NaN</td>\n",
       "      <td>NaN</td>\n",
       "      <td>NaN</td>\n",
       "      <td>NaN</td>\n",
       "      <td>NaN</td>\n",
       "    </tr>\n",
       "    <tr>\n",
       "      <th>4</th>\n",
       "      <td>2022</td>\n",
       "      <td>Albany</td>\n",
       "      <td>10100</td>\n",
       "      <td>Albany</td>\n",
       "      <td>10100</td>\n",
       "      <td>Albany</td>\n",
       "      <td>10100</td>\n",
       "      <td>H</td>\n",
       "      <td>1</td>\n",
       "      <td>311</td>\n",
       "      <td>...</td>\n",
       "      <td>NaN</td>\n",
       "      <td>NaN</td>\n",
       "      <td>NaN</td>\n",
       "      <td>NaN</td>\n",
       "      <td>NaN</td>\n",
       "      <td>NaN</td>\n",
       "      <td>NaN</td>\n",
       "      <td>NaN</td>\n",
       "      <td>NaN</td>\n",
       "      <td>NaN</td>\n",
       "    </tr>\n",
       "  </tbody>\n",
       "</table>\n",
       "<p>5 rows × 76 columns</p>\n",
       "</div>"
      ],
      "text/plain": [
       "   roll_year county_name  municipality_code municipality_name  \\\n",
       "0       2022      Albany              10100            Albany   \n",
       "1       2022      Albany              10100            Albany   \n",
       "2       2022      Albany              10100            Albany   \n",
       "3       2022      Albany              10100            Albany   \n",
       "4       2022      Albany              10100            Albany   \n",
       "\n",
       "   school_district_code school_district_name  swis_code tax_class  \\\n",
       "0                 10100               Albany      10100         N   \n",
       "1                 10100               Albany      10100         N   \n",
       "2                 10100               Albany      10100         N   \n",
       "3                 10100               Albany      10100         N   \n",
       "4                 10100               Albany      10100         H   \n",
       "\n",
       "   roll_section  property_class  ... exemption_amount_county_5  \\\n",
       "0             1             300  ...                       NaN   \n",
       "1             1             438  ...                       NaN   \n",
       "2             1             438  ...                       NaN   \n",
       "3             1             438  ...                       NaN   \n",
       "4             1             311  ...                       NaN   \n",
       "\n",
       "  exemption_amount_city_5 exemption_amount_school_5 mailing_address_po_box  \\\n",
       "0                     NaN                       NaN                    NaN   \n",
       "1                     NaN                       NaN                    NaN   \n",
       "2                     NaN                       NaN                    NaN   \n",
       "3                     NaN                       NaN                    NaN   \n",
       "4                     NaN                       NaN                    NaN   \n",
       "\n",
       "  additional_owner_3_first  additional_owner_3_last_name  \\\n",
       "0                      NaN                           NaN   \n",
       "1                      NaN                           NaN   \n",
       "2                      NaN                           NaN   \n",
       "3                      NaN                           NaN   \n",
       "4                      NaN                           NaN   \n",
       "\n",
       "   additional_owner_2_mi  additional_owner_3_mi  mailing_address_prefix  \\\n",
       "0                    NaN                    NaN                     NaN   \n",
       "1                    NaN                    NaN                     NaN   \n",
       "2                    NaN                    NaN                     NaN   \n",
       "3                    NaN                    NaN                     NaN   \n",
       "4                    NaN                    NaN                     NaN   \n",
       "\n",
       "  additional_owner_2_suffix  \n",
       "0                       NaN  \n",
       "1                       NaN  \n",
       "2                       NaN  \n",
       "3                       NaN  \n",
       "4                       NaN  \n",
       "\n",
       "[5 rows x 76 columns]"
      ]
     },
     "execution_count": 20,
     "metadata": {},
     "output_type": "execute_result"
    }
   ],
   "source": [
    "df_js2.head()"
   ]
  },
  {
   "cell_type": "code",
   "execution_count": 22,
   "metadata": {},
   "outputs": [
    {
     "data": {
      "text/plain": [
       "(1000, 76)"
      ]
     },
     "execution_count": 22,
     "metadata": {},
     "output_type": "execute_result"
    }
   ],
   "source": [
    "df_js2.shape"
   ]
  },
  {
   "cell_type": "code",
   "execution_count": 25,
   "metadata": {},
   "outputs": [],
   "source": [
    "def test(df):\n",
    "    return df"
   ]
  },
  {
   "cell_type": "code",
   "execution_count": 27,
   "metadata": {},
   "outputs": [
    {
     "data": {
      "text/plain": [
       "True"
      ]
     },
     "execution_count": 27,
     "metadata": {},
     "output_type": "execute_result"
    }
   ],
   "source": [
    "df_js2 is test(df_js2)"
   ]
  },
  {
   "cell_type": "code",
   "execution_count": null,
   "metadata": {},
   "outputs": [],
   "source": []
  }
 ],
 "metadata": {
  "kernelspec": {
   "display_name": "Python 3.10.4 64-bit",
   "language": "python",
   "name": "python3"
  },
  "language_info": {
   "codemirror_mode": {
    "name": "ipython",
    "version": 3
   },
   "file_extension": ".py",
   "mimetype": "text/x-python",
   "name": "python",
   "nbconvert_exporter": "python",
   "pygments_lexer": "ipython3",
   "version": "3.10.4"
  },
  "orig_nbformat": 4,
  "vscode": {
   "interpreter": {
    "hash": "26de051ba29f2982a8de78e945f0abaf191376122a1563185a90213a26c5da77"
   }
  }
 },
 "nbformat": 4,
 "nbformat_minor": 2
}
