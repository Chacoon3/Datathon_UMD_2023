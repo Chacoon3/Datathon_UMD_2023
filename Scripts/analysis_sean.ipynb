{
 "cells": [
  {
   "cell_type": "code",
   "execution_count": 1,
   "metadata": {},
   "outputs": [],
   "source": [
    "import pandas as pd\n",
    "import numpy as np\n",
    "import seaborn as sns\n",
    "\n",
    "import os\n",
    "import requests as re\n",
    "import json\n",
    "\n",
    "import lib_sean"
   ]
  },
  {
   "cell_type": "code",
   "execution_count": 2,
   "metadata": {},
   "outputs": [],
   "source": [
    "# read\n",
    "\n",
    "root_dir = '\\\\'.join( os.getcwd().split('\\\\')[:-1])\n",
    "data_dir = root_dir + '\\\\' + 'Data\\\\'\n",
    "\n",
    "df = pd.read_excel(data_dir + 'property_data.xlsx')"
   ]
  },
  {
   "cell_type": "code",
   "execution_count": 3,
   "metadata": {},
   "outputs": [
    {
     "name": "stdout",
     "output_type": "stream",
     "text": [
      "(102598, 19)\n"
     ]
    }
   ],
   "source": [
    "print(\n",
    "    df.shape\n",
    ")"
   ]
  },
  {
   "cell_type": "code",
   "execution_count": 4,
   "metadata": {},
   "outputs": [
    {
     "data": {
      "text/plain": [
       "HOUSE_RULES            52131\n",
       "LAST_REVIEW            15893\n",
       "REVIEWS_PER_MONTH      15879\n",
       "MINIMUM_NIGHTS           409\n",
       "HOST_NAME                406\n",
       "CONSTRUCTION_YEAR        213\n",
       "NUMBER_OF_REVIEWS        183\n",
       "CANCELLATION_POLICY       76\n",
       "NYC_BOROUGH               24\n",
       "NEIGHBORHOOD              16\n",
       "LONGITUDE                  7\n",
       "LATITUDE                   7\n",
       "dtype: int64"
      ]
     },
     "execution_count": 4,
     "metadata": {},
     "output_type": "execute_result"
    }
   ],
   "source": [
    "# check missing vals\n",
    "\n",
    "sr_colwise_na_sum = df.apply(\n",
    "        axis=0, func= lambda col: sum(col.isna())\n",
    "    ).sort_values(ascending = False)\n",
    "\n",
    "sr_colwise_na_sum = sr_colwise_na_sum[sr_colwise_na_sum > 0]\n",
    "sr_colwise_na_sum"
   ]
  },
  {
   "cell_type": "code",
   "execution_count": 5,
   "metadata": {},
   "outputs": [
    {
     "data": {
      "text/plain": [
       "<AxesSubplot:ylabel='REVIEWS_PER_MONTH'>"
      ]
     },
     "execution_count": 5,
     "metadata": {},
     "output_type": "execute_result"
    },
    {
     "data": {
      "image/png": "[encoded data removed]",
      "text/plain": [
       "<Figure size 640x480 with 1 Axes>"
      ]
     },
     "metadata": {},
     "output_type": "display_data"
    }
   ],
   "source": [
    "df.REVIEWS_PER_MONTH.describe()\n",
    "sns.boxplot(y = df.REVIEWS_PER_MONTH)"
   ]
  },
  {
   "cell_type": "code",
   "execution_count": 6,
   "metadata": {},
   "outputs": [
    {
     "data": {
      "text/plain": [
       "moderate    34343\n",
       "strict      34105\n",
       "flexible    34074\n",
       "Name: CANCELLATION_POLICY, dtype: int64"
      ]
     },
     "execution_count": 6,
     "metadata": {},
     "output_type": "execute_result"
    }
   ],
   "source": [
    "df.CANCELLATION_POLICY.value_counts()"
   ]
  },
  {
   "cell_type": "code",
   "execution_count": 7,
   "metadata": {},
   "outputs": [],
   "source": [
    "df_rev_geocoding = pd.read_excel(data_dir + 'rev_geocoding.xlsx')"
   ]
  },
  {
   "cell_type": "code",
   "execution_count": 8,
   "metadata": {},
   "outputs": [
    {
     "data": {
      "text/plain": [
       "coordinate         0\n",
       "full_address       0\n",
       "zipcode          193\n",
       "property_name      0\n",
       "dtype: int64"
      ]
     },
     "execution_count": 8,
     "metadata": {},
     "output_type": "execute_result"
    }
   ],
   "source": [
    "df_rev_geocoding.apply(axis=0, func= lambda c : c.isna().sum())"
   ]
  },
  {
   "cell_type": "code",
   "execution_count": 9,
   "metadata": {},
   "outputs": [],
   "source": [
    "df_joined = lib_sean.join_geo_info(df, df_rev_geocoding)"
   ]
  },
  {
   "cell_type": "code",
   "execution_count": 10,
   "metadata": {},
   "outputs": [
    {
     "data": {
      "text/plain": [
       "HOUSE_RULES            52129\n",
       "LAST_REVIEW            15892\n",
       "REVIEWS_PER_MONTH      15878\n",
       "MINIMUM_NIGHTS           409\n",
       "HOST_NAME                406\n",
       "zipcode                  312\n",
       "CONSTRUCTION_YEAR        213\n",
       "NUMBER_OF_REVIEWS        183\n",
       "CANCELLATION_POLICY       76\n",
       "NYC_BOROUGH               24\n",
       "NEIGHBORHOOD              16\n",
       "full_address               0\n",
       "coordinate                 0\n",
       "ID                         0\n",
       "SERVICE_FEE                0\n",
       "PRICE                      0\n",
       "NAME                       0\n",
       "ROOM_TYPE                  0\n",
       "INSTANT_BOOKABLE           0\n",
       "LONGITUDE                  0\n",
       "LATITUDE                   0\n",
       "HOST_ID                    0\n",
       "property_name              0\n",
       "dtype: int64"
      ]
     },
     "execution_count": 10,
     "metadata": {},
     "output_type": "execute_result"
    }
   ],
   "source": [
    "df_joined.apply(lambda c: c.isna().sum()).sort_values(ascending = False)"
   ]
  },
  {
   "cell_type": "code",
   "execution_count": 19,
   "metadata": {},
   "outputs": [
    {
     "data": {
      "text/plain": [
       "Bedford-Stuyvesant    7937\n",
       "Williamsburg          7775\n",
       "Harlem                5466\n",
       "Bushwick              4982\n",
       "Hell's Kitchen        3965\n",
       "Upper West Side       3859\n",
       "Upper East Side       3680\n",
       "East Village          3491\n",
       "Midtown               3390\n",
       "Crown Heights         3261\n",
       "East Harlem           2341\n",
       "Chelsea               2285\n",
       "Greenpoint            2141\n",
       "Lower East Side       1948\n",
       "Astoria               1876\n",
       "Washington Heights    1779\n",
       "Financial District    1490\n",
       "West Village          1483\n",
       "Flatbush              1295\n",
       "East Flatbush         1211\n",
       "Name: NEIGHBORHOOD, dtype: int64"
      ]
     },
     "execution_count": 19,
     "metadata": {},
     "output_type": "execute_result"
    }
   ],
   "source": [
    "df_joined.NEIGHBORHOOD.value_counts(ascending= False)[:20]"
   ]
  },
  {
   "cell_type": "code",
   "execution_count": 12,
   "metadata": {},
   "outputs": [
    {
     "data": {
      "text/plain": [
       "Index(['ID', 'NAME', 'HOST_ID', 'HOST_NAME', 'NYC_BOROUGH', 'NEIGHBORHOOD',\n",
       "       'LATITUDE', 'LONGITUDE', 'INSTANT_BOOKABLE', 'CANCELLATION_POLICY',\n",
       "       'ROOM_TYPE', 'CONSTRUCTION_YEAR', 'PRICE', 'SERVICE_FEE',\n",
       "       'MINIMUM_NIGHTS', 'NUMBER_OF_REVIEWS', 'LAST_REVIEW',\n",
       "       'REVIEWS_PER_MONTH', 'HOUSE_RULES', 'coordinate', 'full_address',\n",
       "       'zipcode', 'property_name'],\n",
       "      dtype='object')"
      ]
     },
     "execution_count": 12,
     "metadata": {},
     "output_type": "execute_result"
    }
   ],
   "source": [
    "df_joined.columns"
   ]
  },
  {
   "cell_type": "code",
   "execution_count": 13,
   "metadata": {},
   "outputs": [
    {
     "data": {
      "text/plain": [
       "Index(['roll_year', 'county_name', 'municipality_code', 'municipality_name',\n",
       "       'school_district_code', 'school_district_name', 'swis_code',\n",
       "       'tax_class', 'roll_section', 'property_class',\n",
       "       'property_class_description', 'print_key_code', 'parcel_address_number',\n",
       "       'parcel_address_street', 'parcel_address_suff', 'front', 'depth',\n",
       "       'grid_coordinates_east', 'grid_coordinates_north',\n",
       "       'primary_owner_first_name', 'primary_owner_last_name',\n",
       "       'additional_owner_1_first', 'additional_owner_1_last_name',\n",
       "       'mailing_address_number', 'mailing_address_street',\n",
       "       'mailing_address_suff', 'mailing_address_city', 'mailing_address_state',\n",
       "       'mailing_address_zip', 'full_market_value', 'assessment_land',\n",
       "       'assessment_total', 'county_taxable_value', 'town_taxable_value',\n",
       "       'school_taxable', 'deed_book', 'page', 'bank', 'additional_owner_1_mi',\n",
       "       'additional_owner_1_suffix', 'exemption_code_1',\n",
       "       'exemption_application_number', 'exemption_amount_county_1',\n",
       "       'exemption_amount_city_1', 'exemption_amount_school_1',\n",
       "       'exemption_code_2', 'exemption_application_number_1',\n",
       "       'exemption_amount_county_2', 'exemption_amount_city_2',\n",
       "       'exemption_amount_school_2', 'primary_owner_mi', 'exemption_code_3',\n",
       "       'exemption_application_number_2', 'exemption_amount_county_3',\n",
       "       'exemption_amount_city_3', 'exemption_amount_school_3',\n",
       "       'exemption_code_4', 'exemption_application_number_3',\n",
       "       'exemption_amount_county_4', 'exemption_amount_city_4',\n",
       "       'exemption_amount_school_4', 'primary_owner_suffix',\n",
       "       'additional_owner_2_first', 'additional_owner_2_last_name',\n",
       "       'exemption_code_5', 'exemption_application_number_4',\n",
       "       'exemption_amount_county_5', 'exemption_amount_city_5',\n",
       "       'exemption_amount_school_5', 'mailing_address_po_box',\n",
       "       'additional_owner_3_first', 'additional_owner_3_last_name',\n",
       "       'additional_owner_2_mi', 'additional_owner_3_mi',\n",
       "       'mailing_address_prefix', 'additional_owner_2_suffix'],\n",
       "      dtype='object')"
      ]
     },
     "execution_count": 13,
     "metadata": {},
     "output_type": "execute_result"
    }
   ],
   "source": [
    "# the full market value could be used for estimating property price\n",
    "df_nys = pd.read_json(data_dir + 'newyorkstate_data.json')\n",
    "df_nys.columns"
   ]
  },
  {
   "cell_type": "code",
   "execution_count": 14,
   "metadata": {},
   "outputs": [
    {
     "data": {
      "text/plain": [
       "Index(['parid', 'boro', 'block', 'lot', 'rectype', 'year', 'secvol',\n",
       "       'pymktland', 'pymkttot', 'pyactland', 'pyacttot', 'pyactextot',\n",
       "       'pytrnland', 'pytrntot', 'pytrnextot', 'pytxbtot', 'pytxbextot',\n",
       "       'pytaxclass', 'tenmktland', 'tenmkttot', 'tenactland', 'tenacttot'],\n",
       "      dtype='object')"
      ]
     },
     "execution_count": 14,
     "metadata": {},
     "output_type": "execute_result"
    }
   ],
   "source": [
    "df_cny = pd.read_json(data_dir + 'cityofnewyork_data.json')\n",
    "df_cny.columns"
   ]
  },
  {
   "cell_type": "code",
   "execution_count": 20,
   "metadata": {},
   "outputs": [
    {
     "ename": "KeyError",
     "evalue": "'price'",
     "output_type": "error",
     "traceback": [
      "\u001b[1;31m---------------------------------------------------------------------------\u001b[0m",
      "\u001b[1;31mKeyError\u001b[0m                                  Traceback (most recent call last)",
      "File \u001b[1;32m~\\AppData\\Roaming\\Python\\Python310\\site-packages\\pandas\\core\\indexes\\base.py:3629\u001b[0m, in \u001b[0;36mIndex.get_loc\u001b[1;34m(self, key, method, tolerance)\u001b[0m\n\u001b[0;32m   3628\u001b[0m \u001b[39mtry\u001b[39;00m:\n\u001b[1;32m-> 3629\u001b[0m     \u001b[39mreturn\u001b[39;00m \u001b[39mself\u001b[39;49m\u001b[39m.\u001b[39;49m_engine\u001b[39m.\u001b[39;49mget_loc(casted_key)\n\u001b[0;32m   3630\u001b[0m \u001b[39mexcept\u001b[39;00m \u001b[39mKeyError\u001b[39;00m \u001b[39mas\u001b[39;00m err:\n",
      "File \u001b[1;32m~\\AppData\\Roaming\\Python\\Python310\\site-packages\\pandas\\_libs\\index.pyx:136\u001b[0m, in \u001b[0;36mpandas._libs.index.IndexEngine.get_loc\u001b[1;34m()\u001b[0m\n",
      "File \u001b[1;32m~\\AppData\\Roaming\\Python\\Python310\\site-packages\\pandas\\_libs\\index.pyx:163\u001b[0m, in \u001b[0;36mpandas._libs.index.IndexEngine.get_loc\u001b[1;34m()\u001b[0m\n",
      "File \u001b[1;32mpandas\\_libs\\hashtable_class_helper.pxi:5198\u001b[0m, in \u001b[0;36mpandas._libs.hashtable.PyObjectHashTable.get_item\u001b[1;34m()\u001b[0m\n",
      "File \u001b[1;32mpandas\\_libs\\hashtable_class_helper.pxi:5206\u001b[0m, in \u001b[0;36mpandas._libs.hashtable.PyObjectHashTable.get_item\u001b[1;34m()\u001b[0m\n",
      "\u001b[1;31mKeyError\u001b[0m: 'price'",
      "\nThe above exception was the direct cause of the following exception:\n",
      "\u001b[1;31mKeyError\u001b[0m                                  Traceback (most recent call last)",
      "Cell \u001b[1;32mIn [20], line 1\u001b[0m\n\u001b[1;32m----> 1\u001b[0m \u001b[43mdf_joined\u001b[49m\u001b[38;5;241;43m.\u001b[39;49m\u001b[43mgroupby\u001b[49m\u001b[43m(\u001b[49m\u001b[43mby\u001b[49m\u001b[43m \u001b[49m\u001b[38;5;241;43m=\u001b[39;49m\u001b[43m \u001b[49m\u001b[38;5;124;43m'\u001b[39;49m\u001b[38;5;124;43mNEIGHBORHOOD\u001b[39;49m\u001b[38;5;124;43m'\u001b[39;49m\u001b[43m)\u001b[49m\u001b[38;5;241;43m.\u001b[39;49m\u001b[43magg\u001b[49m\u001b[43m(\u001b[49m\n\u001b[0;32m      2\u001b[0m \u001b[43m    \u001b[49m\u001b[38;5;124;43m'\u001b[39;49m\u001b[38;5;124;43mmean\u001b[39;49m\u001b[38;5;124;43m'\u001b[39;49m\n\u001b[0;32m      3\u001b[0m \u001b[43m)\u001b[49m\u001b[43m[\u001b[49m\u001b[38;5;124;43m'\u001b[39;49m\u001b[38;5;124;43mprice\u001b[39;49m\u001b[38;5;124;43m'\u001b[39;49m\u001b[43m]\u001b[49m\n",
      "File \u001b[1;32m~\\AppData\\Roaming\\Python\\Python310\\site-packages\\pandas\\core\\frame.py:3505\u001b[0m, in \u001b[0;36mDataFrame.__getitem__\u001b[1;34m(self, key)\u001b[0m\n\u001b[0;32m   3503\u001b[0m \u001b[39mif\u001b[39;00m \u001b[39mself\u001b[39m\u001b[39m.\u001b[39mcolumns\u001b[39m.\u001b[39mnlevels \u001b[39m>\u001b[39m \u001b[39m1\u001b[39m:\n\u001b[0;32m   3504\u001b[0m     \u001b[39mreturn\u001b[39;00m \u001b[39mself\u001b[39m\u001b[39m.\u001b[39m_getitem_multilevel(key)\n\u001b[1;32m-> 3505\u001b[0m indexer \u001b[39m=\u001b[39m \u001b[39mself\u001b[39;49m\u001b[39m.\u001b[39;49mcolumns\u001b[39m.\u001b[39;49mget_loc(key)\n\u001b[0;32m   3506\u001b[0m \u001b[39mif\u001b[39;00m is_integer(indexer):\n\u001b[0;32m   3507\u001b[0m     indexer \u001b[39m=\u001b[39m [indexer]\n",
      "File \u001b[1;32m~\\AppData\\Roaming\\Python\\Python310\\site-packages\\pandas\\core\\indexes\\base.py:3631\u001b[0m, in \u001b[0;36mIndex.get_loc\u001b[1;34m(self, key, method, tolerance)\u001b[0m\n\u001b[0;32m   3629\u001b[0m     \u001b[39mreturn\u001b[39;00m \u001b[39mself\u001b[39m\u001b[39m.\u001b[39m_engine\u001b[39m.\u001b[39mget_loc(casted_key)\n\u001b[0;32m   3630\u001b[0m \u001b[39mexcept\u001b[39;00m \u001b[39mKeyError\u001b[39;00m \u001b[39mas\u001b[39;00m err:\n\u001b[1;32m-> 3631\u001b[0m     \u001b[39mraise\u001b[39;00m \u001b[39mKeyError\u001b[39;00m(key) \u001b[39mfrom\u001b[39;00m \u001b[39merr\u001b[39;00m\n\u001b[0;32m   3632\u001b[0m \u001b[39mexcept\u001b[39;00m \u001b[39mTypeError\u001b[39;00m:\n\u001b[0;32m   3633\u001b[0m     \u001b[39m# If we have a listlike key, _check_indexing_error will raise\u001b[39;00m\n\u001b[0;32m   3634\u001b[0m     \u001b[39m#  InvalidIndexError. Otherwise we fall through and re-raise\u001b[39;00m\n\u001b[0;32m   3635\u001b[0m     \u001b[39m#  the TypeError.\u001b[39;00m\n\u001b[0;32m   3636\u001b[0m     \u001b[39mself\u001b[39m\u001b[39m.\u001b[39m_check_indexing_error(key)\n",
      "\u001b[1;31mKeyError\u001b[0m: 'price'"
     ]
    }
   ],
   "source": [
    "df_joined.groupby(by = 'NEIGHBORHOOD').agg(\n",
    "    'mean'\n",
    ")['PRICE']"
   ]
  },
  {
   "cell_type": "code",
   "execution_count": 21,
   "metadata": {},
   "outputs": [
    {
     "data": {
      "text/plain": [
       "Index(['ID', 'NAME', 'HOST_ID', 'HOST_NAME', 'NYC_BOROUGH', 'NEIGHBORHOOD',\n",
       "       'LATITUDE', 'LONGITUDE', 'INSTANT_BOOKABLE', 'CANCELLATION_POLICY',\n",
       "       'ROOM_TYPE', 'CONSTRUCTION_YEAR', 'PRICE', 'SERVICE_FEE',\n",
       "       'MINIMUM_NIGHTS', 'NUMBER_OF_REVIEWS', 'LAST_REVIEW',\n",
       "       'REVIEWS_PER_MONTH', 'HOUSE_RULES', 'coordinate', 'full_address',\n",
       "       'zipcode', 'property_name'],\n",
       "      dtype='object')"
      ]
     },
     "execution_count": 21,
     "metadata": {},
     "output_type": "execute_result"
    }
   ],
   "source": [
    "df_joined.columns"
   ]
  },
  {
   "cell_type": "code",
   "execution_count": null,
   "metadata": {},
   "outputs": [],
   "source": []
  }
 ],
 "metadata": {
  "kernelspec": {
   "display_name": "Python 3.10.4 64-bit",
   "language": "python",
   "name": "python3"
  },
  "language_info": {
   "codemirror_mode": {
    "name": "ipython",
    "version": 3
   },
   "file_extension": ".py",
   "mimetype": "text/x-python",
   "name": "python",
   "nbconvert_exporter": "python",
   "pygments_lexer": "ipython3",
   "version": "3.10.4"
  },
  "orig_nbformat": 4,
  "vscode": {
   "interpreter": {
    "hash": "26de051ba29f2982a8de78e945f0abaf191376122a1563185a90213a26c5da77"
   }
  }
 },
 "nbformat": 4,
 "nbformat_minor": 2
}
